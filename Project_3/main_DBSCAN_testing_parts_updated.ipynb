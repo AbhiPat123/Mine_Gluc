{
  "nbformat": 4,
  "nbformat_minor": 0,
  "metadata": {
    "kernelspec": {
      "display_name": "Python 3",
      "language": "python",
      "name": "python3"
    },
    "language_info": {
      "codemirror_mode": {
        "name": "ipython",
        "version": 3
      },
      "file_extension": ".py",
      "mimetype": "text/x-python",
      "name": "python",
      "nbconvert_exporter": "python",
      "pygments_lexer": "ipython3",
      "version": "3.8.3"
    },
    "colab": {
      "name": "main.ipynb",
      "provenance": [],
      "collapsed_sections": []
    }
  },
  "cells": [
    {
      "cell_type": "code",
      "metadata": {
        "id": "RWvHnhbwcEQ-"
      },
      "source": [
        "import sys\n",
        "import numpy as np\n",
        "import pandas as pd\n",
        "import sklearn\n",
        "import pickle\n",
        "from scipy.fft import fft, ifft"
      ],
      "execution_count": 1,
      "outputs": []
    },
    {
      "cell_type": "markdown",
      "metadata": {
        "id": "TzAKQQ5hcERL"
      },
      "source": [
        "Read data along with parsed dates"
      ]
    },
    {
      "cell_type": "code",
      "metadata": {
        "id": "9xmXy1E83YSJ"
      },
      "source": [
        "#from google.colab import files\n",
        "#uploaded = files.upload()"
      ],
      "execution_count": 2,
      "outputs": []
    },
    {
      "cell_type": "code",
      "metadata": {
        "colab": {
          "base_uri": "https://localhost:8080/"
        },
        "id": "yF6vr-wWcERQ",
        "outputId": "0a9dfdd6-e2b9-4b8f-957d-6622e786fcee"
      },
      "source": [
        "# read data from the files - parse Date and Time columns as DateTime\n",
        "cgmDataOrig = pd.read_csv('CGMData.csv', parse_dates=[['Date', 'Time']])\n",
        "insDataOrig = pd.read_csv('InsulinData.csv', parse_dates=[['Date', 'Time']])"
      ],
      "execution_count": 3,
      "outputs": [
        {
          "output_type": "stream",
          "name": "stderr",
          "text": [
            "/usr/local/lib/python3.7/dist-packages/IPython/core/interactiveshell.py:2718: DtypeWarning: Columns (32) have mixed types.Specify dtype option on import or set low_memory=False.\n",
            "  interactivity=interactivity, compiler=compiler, result=result)\n",
            "/usr/local/lib/python3.7/dist-packages/IPython/core/interactiveshell.py:2718: DtypeWarning: Columns (13,43) have mixed types.Specify dtype option on import or set low_memory=False.\n",
            "  interactivity=interactivity, compiler=compiler, result=result)\n"
          ]
        }
      ]
    },
    {
      "cell_type": "markdown",
      "metadata": {
        "id": "-OaoPDeRcERX"
      },
      "source": [
        "**STORE ORIG DATA IN VARIABLES** (to be able to make changes and keep reading csv everytime)"
      ]
    },
    {
      "cell_type": "code",
      "metadata": {
        "id": "nZEVmjA-cERY"
      },
      "source": [
        "# focus only on certain columns relevant to the dataset and Project 3\n",
        "cgmData = cgmDataOrig.loc[:, ['Date_Time', 'Sensor Glucose (mg/dL)']]\n",
        "insData = insDataOrig.loc[:, ['Date_Time', 'BWZ Carb Input (grams)']]"
      ],
      "execution_count": 4,
      "outputs": []
    },
    {
      "cell_type": "code",
      "metadata": {
        "colab": {
          "base_uri": "https://localhost:8080/",
          "height": 424
        },
        "id": "QYsmF9p6SLvA",
        "outputId": "e454bdfe-1b4a-410e-9261-31d09f4c4914"
      },
      "source": [
        "insData"
      ],
      "execution_count": 5,
      "outputs": [
        {
          "output_type": "execute_result",
          "data": {
            "text/html": [
              "<div>\n",
              "<style scoped>\n",
              "    .dataframe tbody tr th:only-of-type {\n",
              "        vertical-align: middle;\n",
              "    }\n",
              "\n",
              "    .dataframe tbody tr th {\n",
              "        vertical-align: top;\n",
              "    }\n",
              "\n",
              "    .dataframe thead th {\n",
              "        text-align: right;\n",
              "    }\n",
              "</style>\n",
              "<table border=\"1\" class=\"dataframe\">\n",
              "  <thead>\n",
              "    <tr style=\"text-align: right;\">\n",
              "      <th></th>\n",
              "      <th>Date_Time</th>\n",
              "      <th>BWZ Carb Input (grams)</th>\n",
              "    </tr>\n",
              "  </thead>\n",
              "  <tbody>\n",
              "    <tr>\n",
              "      <th>0</th>\n",
              "      <td>2018-02-12 13:20:53</td>\n",
              "      <td>NaN</td>\n",
              "    </tr>\n",
              "    <tr>\n",
              "      <th>1</th>\n",
              "      <td>2018-02-12 13:20:48</td>\n",
              "      <td>NaN</td>\n",
              "    </tr>\n",
              "    <tr>\n",
              "      <th>2</th>\n",
              "      <td>2018-02-12 13:18:48</td>\n",
              "      <td>NaN</td>\n",
              "    </tr>\n",
              "    <tr>\n",
              "      <th>3</th>\n",
              "      <td>2018-02-12 13:18:48</td>\n",
              "      <td>NaN</td>\n",
              "    </tr>\n",
              "    <tr>\n",
              "      <th>4</th>\n",
              "      <td>2018-02-12 13:12:33</td>\n",
              "      <td>NaN</td>\n",
              "    </tr>\n",
              "    <tr>\n",
              "      <th>...</th>\n",
              "      <td>...</td>\n",
              "      <td>...</td>\n",
              "    </tr>\n",
              "    <tr>\n",
              "      <th>41430</th>\n",
              "      <td>2017-07-24 19:00:01</td>\n",
              "      <td>NaN</td>\n",
              "    </tr>\n",
              "    <tr>\n",
              "      <th>41431</th>\n",
              "      <td>2017-07-24 18:59:44</td>\n",
              "      <td>NaN</td>\n",
              "    </tr>\n",
              "    <tr>\n",
              "      <th>41432</th>\n",
              "      <td>2017-07-24 18:59:44</td>\n",
              "      <td>NaN</td>\n",
              "    </tr>\n",
              "    <tr>\n",
              "      <th>41433</th>\n",
              "      <td>2017-07-24 18:59:44</td>\n",
              "      <td>NaN</td>\n",
              "    </tr>\n",
              "    <tr>\n",
              "      <th>41434</th>\n",
              "      <td>2017-07-24 18:59:42</td>\n",
              "      <td>NaN</td>\n",
              "    </tr>\n",
              "  </tbody>\n",
              "</table>\n",
              "<p>41435 rows × 2 columns</p>\n",
              "</div>"
            ],
            "text/plain": [
              "                Date_Time  BWZ Carb Input (grams)\n",
              "0     2018-02-12 13:20:53                     NaN\n",
              "1     2018-02-12 13:20:48                     NaN\n",
              "2     2018-02-12 13:18:48                     NaN\n",
              "3     2018-02-12 13:18:48                     NaN\n",
              "4     2018-02-12 13:12:33                     NaN\n",
              "...                   ...                     ...\n",
              "41430 2017-07-24 19:00:01                     NaN\n",
              "41431 2017-07-24 18:59:44                     NaN\n",
              "41432 2017-07-24 18:59:44                     NaN\n",
              "41433 2017-07-24 18:59:44                     NaN\n",
              "41434 2017-07-24 18:59:42                     NaN\n",
              "\n",
              "[41435 rows x 2 columns]"
            ]
          },
          "metadata": {},
          "execution_count": 5
        }
      ]
    },
    {
      "cell_type": "markdown",
      "metadata": {
        "id": "aFEbOWMYcERa"
      },
      "source": [
        "# GET VALID DATE TIMES FOR MEAL DATA"
      ]
    },
    {
      "cell_type": "markdown",
      "metadata": {
        "id": "IBzxOgf3cERd"
      },
      "source": [
        "COND 2: no tp between tm and tm + 2hrs"
      ]
    },
    {
      "cell_type": "code",
      "metadata": {
        "id": "WO1n6hQ7cERf"
      },
      "source": [
        "carbInputCond = ~insData['BWZ Carb Input (grams)'].isna() & insData['BWZ Carb Input (grams)']!=0\n",
        "insCarbDT = insData[carbInputCond].copy(deep=True)"
      ],
      "execution_count": 6,
      "outputs": []
    },
    {
      "cell_type": "code",
      "metadata": {
        "id": "p9WjtcFIcERi",
        "colab": {
          "base_uri": "https://localhost:8080/",
          "height": 424
        },
        "outputId": "5d6b2091-8292-41be-ff06-6df705cb915b"
      },
      "source": [
        "insCarbDT"
      ],
      "execution_count": 7,
      "outputs": [
        {
          "output_type": "execute_result",
          "data": {
            "text/html": [
              "<div>\n",
              "<style scoped>\n",
              "    .dataframe tbody tr th:only-of-type {\n",
              "        vertical-align: middle;\n",
              "    }\n",
              "\n",
              "    .dataframe tbody tr th {\n",
              "        vertical-align: top;\n",
              "    }\n",
              "\n",
              "    .dataframe thead th {\n",
              "        text-align: right;\n",
              "    }\n",
              "</style>\n",
              "<table border=\"1\" class=\"dataframe\">\n",
              "  <thead>\n",
              "    <tr style=\"text-align: right;\">\n",
              "      <th></th>\n",
              "      <th>Date_Time</th>\n",
              "      <th>BWZ Carb Input (grams)</th>\n",
              "    </tr>\n",
              "  </thead>\n",
              "  <tbody>\n",
              "    <tr>\n",
              "      <th>48</th>\n",
              "      <td>2018-02-12 09:15:45</td>\n",
              "      <td>34.0</td>\n",
              "    </tr>\n",
              "    <tr>\n",
              "      <th>129</th>\n",
              "      <td>2018-02-12 02:30:55</td>\n",
              "      <td>15.0</td>\n",
              "    </tr>\n",
              "    <tr>\n",
              "      <th>188</th>\n",
              "      <td>2018-02-11 20:33:18</td>\n",
              "      <td>71.0</td>\n",
              "    </tr>\n",
              "    <tr>\n",
              "      <th>207</th>\n",
              "      <td>2018-02-11 18:14:37</td>\n",
              "      <td>8.0</td>\n",
              "    </tr>\n",
              "    <tr>\n",
              "      <th>222</th>\n",
              "      <td>2018-02-11 16:27:04</td>\n",
              "      <td>40.0</td>\n",
              "    </tr>\n",
              "    <tr>\n",
              "      <th>...</th>\n",
              "      <td>...</td>\n",
              "      <td>...</td>\n",
              "    </tr>\n",
              "    <tr>\n",
              "      <th>41265</th>\n",
              "      <td>2017-07-26 11:24:52</td>\n",
              "      <td>20.0</td>\n",
              "    </tr>\n",
              "    <tr>\n",
              "      <th>41274</th>\n",
              "      <td>2017-07-26 09:27:16</td>\n",
              "      <td>72.0</td>\n",
              "    </tr>\n",
              "    <tr>\n",
              "      <th>41347</th>\n",
              "      <td>2017-07-25 18:31:40</td>\n",
              "      <td>115.0</td>\n",
              "    </tr>\n",
              "    <tr>\n",
              "      <th>41393</th>\n",
              "      <td>2017-07-25 10:39:46</td>\n",
              "      <td>58.0</td>\n",
              "    </tr>\n",
              "    <tr>\n",
              "      <th>41401</th>\n",
              "      <td>2017-07-25 10:21:19</td>\n",
              "      <td>91.0</td>\n",
              "    </tr>\n",
              "  </tbody>\n",
              "</table>\n",
              "<p>747 rows × 2 columns</p>\n",
              "</div>"
            ],
            "text/plain": [
              "                Date_Time  BWZ Carb Input (grams)\n",
              "48    2018-02-12 09:15:45                    34.0\n",
              "129   2018-02-12 02:30:55                    15.0\n",
              "188   2018-02-11 20:33:18                    71.0\n",
              "207   2018-02-11 18:14:37                     8.0\n",
              "222   2018-02-11 16:27:04                    40.0\n",
              "...                   ...                     ...\n",
              "41265 2017-07-26 11:24:52                    20.0\n",
              "41274 2017-07-26 09:27:16                    72.0\n",
              "41347 2017-07-25 18:31:40                   115.0\n",
              "41393 2017-07-25 10:39:46                    58.0\n",
              "41401 2017-07-25 10:21:19                    91.0\n",
              "\n",
              "[747 rows x 2 columns]"
            ]
          },
          "metadata": {},
          "execution_count": 7
        }
      ]
    },
    {
      "cell_type": "code",
      "metadata": {
        "id": "dPLqeRIlcERl"
      },
      "source": [
        "# the last date_time value definitely MEAL DATA because it has its own 2hours of uninterrupted data\n",
        "# get 2 hours 1 min value over last date_time\n",
        "DT_max_2h1m = max(insCarbDT['Date_Time']) + pd.DateOffset(hours=2, minutes=1)"
      ],
      "execution_count": 8,
      "outputs": []
    },
    {
      "cell_type": "code",
      "metadata": {
        "id": "IgyW2DuicERm"
      },
      "source": [
        "insCarbDT['Next_DT'] = insCarbDT['Date_Time'].shift(1, fill_value=DT_max_2h1m)\n",
        "insCarbDT['DT+2hrs'] = insCarbDT['Date_Time'] + pd.DateOffset(hours=2)"
      ],
      "execution_count": 9,
      "outputs": []
    },
    {
      "cell_type": "code",
      "metadata": {
        "id": "o8tBH-IDcERo",
        "colab": {
          "base_uri": "https://localhost:8080/",
          "height": 424
        },
        "outputId": "212a1bd8-161f-4534-d769-c349a6e0b2c2"
      },
      "source": [
        "insCarbDT[['Date_Time','Next_DT','DT+2hrs']]"
      ],
      "execution_count": 10,
      "outputs": [
        {
          "output_type": "execute_result",
          "data": {
            "text/html": [
              "<div>\n",
              "<style scoped>\n",
              "    .dataframe tbody tr th:only-of-type {\n",
              "        vertical-align: middle;\n",
              "    }\n",
              "\n",
              "    .dataframe tbody tr th {\n",
              "        vertical-align: top;\n",
              "    }\n",
              "\n",
              "    .dataframe thead th {\n",
              "        text-align: right;\n",
              "    }\n",
              "</style>\n",
              "<table border=\"1\" class=\"dataframe\">\n",
              "  <thead>\n",
              "    <tr style=\"text-align: right;\">\n",
              "      <th></th>\n",
              "      <th>Date_Time</th>\n",
              "      <th>Next_DT</th>\n",
              "      <th>DT+2hrs</th>\n",
              "    </tr>\n",
              "  </thead>\n",
              "  <tbody>\n",
              "    <tr>\n",
              "      <th>48</th>\n",
              "      <td>2018-02-12 09:15:45</td>\n",
              "      <td>2018-02-12 11:16:45</td>\n",
              "      <td>2018-02-12 11:15:45</td>\n",
              "    </tr>\n",
              "    <tr>\n",
              "      <th>129</th>\n",
              "      <td>2018-02-12 02:30:55</td>\n",
              "      <td>2018-02-12 09:15:45</td>\n",
              "      <td>2018-02-12 04:30:55</td>\n",
              "    </tr>\n",
              "    <tr>\n",
              "      <th>188</th>\n",
              "      <td>2018-02-11 20:33:18</td>\n",
              "      <td>2018-02-12 02:30:55</td>\n",
              "      <td>2018-02-11 22:33:18</td>\n",
              "    </tr>\n",
              "    <tr>\n",
              "      <th>207</th>\n",
              "      <td>2018-02-11 18:14:37</td>\n",
              "      <td>2018-02-11 20:33:18</td>\n",
              "      <td>2018-02-11 20:14:37</td>\n",
              "    </tr>\n",
              "    <tr>\n",
              "      <th>222</th>\n",
              "      <td>2018-02-11 16:27:04</td>\n",
              "      <td>2018-02-11 18:14:37</td>\n",
              "      <td>2018-02-11 18:27:04</td>\n",
              "    </tr>\n",
              "    <tr>\n",
              "      <th>...</th>\n",
              "      <td>...</td>\n",
              "      <td>...</td>\n",
              "      <td>...</td>\n",
              "    </tr>\n",
              "    <tr>\n",
              "      <th>41265</th>\n",
              "      <td>2017-07-26 11:24:52</td>\n",
              "      <td>2017-07-26 12:48:41</td>\n",
              "      <td>2017-07-26 13:24:52</td>\n",
              "    </tr>\n",
              "    <tr>\n",
              "      <th>41274</th>\n",
              "      <td>2017-07-26 09:27:16</td>\n",
              "      <td>2017-07-26 11:24:52</td>\n",
              "      <td>2017-07-26 11:27:16</td>\n",
              "    </tr>\n",
              "    <tr>\n",
              "      <th>41347</th>\n",
              "      <td>2017-07-25 18:31:40</td>\n",
              "      <td>2017-07-26 09:27:16</td>\n",
              "      <td>2017-07-25 20:31:40</td>\n",
              "    </tr>\n",
              "    <tr>\n",
              "      <th>41393</th>\n",
              "      <td>2017-07-25 10:39:46</td>\n",
              "      <td>2017-07-25 18:31:40</td>\n",
              "      <td>2017-07-25 12:39:46</td>\n",
              "    </tr>\n",
              "    <tr>\n",
              "      <th>41401</th>\n",
              "      <td>2017-07-25 10:21:19</td>\n",
              "      <td>2017-07-25 10:39:46</td>\n",
              "      <td>2017-07-25 12:21:19</td>\n",
              "    </tr>\n",
              "  </tbody>\n",
              "</table>\n",
              "<p>747 rows × 3 columns</p>\n",
              "</div>"
            ],
            "text/plain": [
              "                Date_Time             Next_DT             DT+2hrs\n",
              "48    2018-02-12 09:15:45 2018-02-12 11:16:45 2018-02-12 11:15:45\n",
              "129   2018-02-12 02:30:55 2018-02-12 09:15:45 2018-02-12 04:30:55\n",
              "188   2018-02-11 20:33:18 2018-02-12 02:30:55 2018-02-11 22:33:18\n",
              "207   2018-02-11 18:14:37 2018-02-11 20:33:18 2018-02-11 20:14:37\n",
              "222   2018-02-11 16:27:04 2018-02-11 18:14:37 2018-02-11 18:27:04\n",
              "...                   ...                 ...                 ...\n",
              "41265 2017-07-26 11:24:52 2017-07-26 12:48:41 2017-07-26 13:24:52\n",
              "41274 2017-07-26 09:27:16 2017-07-26 11:24:52 2017-07-26 11:27:16\n",
              "41347 2017-07-25 18:31:40 2017-07-26 09:27:16 2017-07-25 20:31:40\n",
              "41393 2017-07-25 10:39:46 2017-07-25 18:31:40 2017-07-25 12:39:46\n",
              "41401 2017-07-25 10:21:19 2017-07-25 10:39:46 2017-07-25 12:21:19\n",
              "\n",
              "[747 rows x 3 columns]"
            ]
          },
          "metadata": {},
          "execution_count": 10
        }
      ]
    },
    {
      "cell_type": "code",
      "metadata": {
        "id": "TceRV4OXcERp"
      },
      "source": [
        "btw2HrsCond = insCarbDT['Next_DT'].between(insCarbDT['Date_Time'], insCarbDT['DT+2hrs'], inclusive='neither')\n",
        "insCarbDT = insCarbDT.loc[~btw2HrsCond]"
      ],
      "execution_count": 11,
      "outputs": []
    },
    {
      "cell_type": "code",
      "metadata": {
        "id": "E4DXeUmWcERq",
        "colab": {
          "base_uri": "https://localhost:8080/",
          "height": 424
        },
        "outputId": "c5e5d54b-2def-43c5-e937-da7e7c2f2342"
      },
      "source": [
        "insCarbDT"
      ],
      "execution_count": 12,
      "outputs": [
        {
          "output_type": "execute_result",
          "data": {
            "text/html": [
              "<div>\n",
              "<style scoped>\n",
              "    .dataframe tbody tr th:only-of-type {\n",
              "        vertical-align: middle;\n",
              "    }\n",
              "\n",
              "    .dataframe tbody tr th {\n",
              "        vertical-align: top;\n",
              "    }\n",
              "\n",
              "    .dataframe thead th {\n",
              "        text-align: right;\n",
              "    }\n",
              "</style>\n",
              "<table border=\"1\" class=\"dataframe\">\n",
              "  <thead>\n",
              "    <tr style=\"text-align: right;\">\n",
              "      <th></th>\n",
              "      <th>Date_Time</th>\n",
              "      <th>BWZ Carb Input (grams)</th>\n",
              "      <th>Next_DT</th>\n",
              "      <th>DT+2hrs</th>\n",
              "    </tr>\n",
              "  </thead>\n",
              "  <tbody>\n",
              "    <tr>\n",
              "      <th>48</th>\n",
              "      <td>2018-02-12 09:15:45</td>\n",
              "      <td>34.0</td>\n",
              "      <td>2018-02-12 11:16:45</td>\n",
              "      <td>2018-02-12 11:15:45</td>\n",
              "    </tr>\n",
              "    <tr>\n",
              "      <th>129</th>\n",
              "      <td>2018-02-12 02:30:55</td>\n",
              "      <td>15.0</td>\n",
              "      <td>2018-02-12 09:15:45</td>\n",
              "      <td>2018-02-12 04:30:55</td>\n",
              "    </tr>\n",
              "    <tr>\n",
              "      <th>188</th>\n",
              "      <td>2018-02-11 20:33:18</td>\n",
              "      <td>71.0</td>\n",
              "      <td>2018-02-12 02:30:55</td>\n",
              "      <td>2018-02-11 22:33:18</td>\n",
              "    </tr>\n",
              "    <tr>\n",
              "      <th>207</th>\n",
              "      <td>2018-02-11 18:14:37</td>\n",
              "      <td>8.0</td>\n",
              "      <td>2018-02-11 20:33:18</td>\n",
              "      <td>2018-02-11 20:14:37</td>\n",
              "    </tr>\n",
              "    <tr>\n",
              "      <th>261</th>\n",
              "      <td>2018-02-11 12:43:23</td>\n",
              "      <td>27.0</td>\n",
              "      <td>2018-02-11 15:34:26</td>\n",
              "      <td>2018-02-11 14:43:23</td>\n",
              "    </tr>\n",
              "    <tr>\n",
              "      <th>...</th>\n",
              "      <td>...</td>\n",
              "      <td>...</td>\n",
              "      <td>...</td>\n",
              "      <td>...</td>\n",
              "    </tr>\n",
              "    <tr>\n",
              "      <th>41172</th>\n",
              "      <td>2017-07-27 05:45:51</td>\n",
              "      <td>24.0</td>\n",
              "      <td>2017-07-27 09:19:41</td>\n",
              "      <td>2017-07-27 07:45:51</td>\n",
              "    </tr>\n",
              "    <tr>\n",
              "      <th>41214</th>\n",
              "      <td>2017-07-26 19:15:06</td>\n",
              "      <td>60.0</td>\n",
              "      <td>2017-07-27 05:45:51</td>\n",
              "      <td>2017-07-26 21:15:06</td>\n",
              "    </tr>\n",
              "    <tr>\n",
              "      <th>41261</th>\n",
              "      <td>2017-07-26 12:48:41</td>\n",
              "      <td>63.0</td>\n",
              "      <td>2017-07-26 19:15:06</td>\n",
              "      <td>2017-07-26 14:48:41</td>\n",
              "    </tr>\n",
              "    <tr>\n",
              "      <th>41347</th>\n",
              "      <td>2017-07-25 18:31:40</td>\n",
              "      <td>115.0</td>\n",
              "      <td>2017-07-26 09:27:16</td>\n",
              "      <td>2017-07-25 20:31:40</td>\n",
              "    </tr>\n",
              "    <tr>\n",
              "      <th>41393</th>\n",
              "      <td>2017-07-25 10:39:46</td>\n",
              "      <td>58.0</td>\n",
              "      <td>2017-07-25 18:31:40</td>\n",
              "      <td>2017-07-25 12:39:46</td>\n",
              "    </tr>\n",
              "  </tbody>\n",
              "</table>\n",
              "<p>604 rows × 4 columns</p>\n",
              "</div>"
            ],
            "text/plain": [
              "                Date_Time  ...             DT+2hrs\n",
              "48    2018-02-12 09:15:45  ... 2018-02-12 11:15:45\n",
              "129   2018-02-12 02:30:55  ... 2018-02-12 04:30:55\n",
              "188   2018-02-11 20:33:18  ... 2018-02-11 22:33:18\n",
              "207   2018-02-11 18:14:37  ... 2018-02-11 20:14:37\n",
              "261   2018-02-11 12:43:23  ... 2018-02-11 14:43:23\n",
              "...                   ...  ...                 ...\n",
              "41172 2017-07-27 05:45:51  ... 2017-07-27 07:45:51\n",
              "41214 2017-07-26 19:15:06  ... 2017-07-26 21:15:06\n",
              "41261 2017-07-26 12:48:41  ... 2017-07-26 14:48:41\n",
              "41347 2017-07-25 18:31:40  ... 2017-07-25 20:31:40\n",
              "41393 2017-07-25 10:39:46  ... 2017-07-25 12:39:46\n",
              "\n",
              "[604 rows x 4 columns]"
            ]
          },
          "metadata": {},
          "execution_count": 12
        }
      ]
    },
    {
      "cell_type": "markdown",
      "metadata": {
        "id": "1uh1MryqcERs"
      },
      "source": [
        "COND 3: if tp is EXACTLY at tm+2hrs then keep both"
      ]
    },
    {
      "cell_type": "code",
      "metadata": {
        "id": "3VW__aEucERu"
      },
      "source": [
        "# because we set the between function to have inclusive = 'neither' it keeps the above cond 3 true\n",
        "# Now, only extract the Date_Time values\n",
        "insCarbDT = insCarbDT.loc[:, ['Date_Time', 'BWZ Carb Input (grams)']]"
      ],
      "execution_count": 13,
      "outputs": []
    },
    {
      "cell_type": "code",
      "metadata": {
        "id": "sjQdQFoRcERv",
        "colab": {
          "base_uri": "https://localhost:8080/",
          "height": 424
        },
        "outputId": "a83f2dc3-4069-44b3-d6a6-c003ecccd872"
      },
      "source": [
        "insCarbDT"
      ],
      "execution_count": 14,
      "outputs": [
        {
          "output_type": "execute_result",
          "data": {
            "text/html": [
              "<div>\n",
              "<style scoped>\n",
              "    .dataframe tbody tr th:only-of-type {\n",
              "        vertical-align: middle;\n",
              "    }\n",
              "\n",
              "    .dataframe tbody tr th {\n",
              "        vertical-align: top;\n",
              "    }\n",
              "\n",
              "    .dataframe thead th {\n",
              "        text-align: right;\n",
              "    }\n",
              "</style>\n",
              "<table border=\"1\" class=\"dataframe\">\n",
              "  <thead>\n",
              "    <tr style=\"text-align: right;\">\n",
              "      <th></th>\n",
              "      <th>Date_Time</th>\n",
              "      <th>BWZ Carb Input (grams)</th>\n",
              "    </tr>\n",
              "  </thead>\n",
              "  <tbody>\n",
              "    <tr>\n",
              "      <th>48</th>\n",
              "      <td>2018-02-12 09:15:45</td>\n",
              "      <td>34.0</td>\n",
              "    </tr>\n",
              "    <tr>\n",
              "      <th>129</th>\n",
              "      <td>2018-02-12 02:30:55</td>\n",
              "      <td>15.0</td>\n",
              "    </tr>\n",
              "    <tr>\n",
              "      <th>188</th>\n",
              "      <td>2018-02-11 20:33:18</td>\n",
              "      <td>71.0</td>\n",
              "    </tr>\n",
              "    <tr>\n",
              "      <th>207</th>\n",
              "      <td>2018-02-11 18:14:37</td>\n",
              "      <td>8.0</td>\n",
              "    </tr>\n",
              "    <tr>\n",
              "      <th>261</th>\n",
              "      <td>2018-02-11 12:43:23</td>\n",
              "      <td>27.0</td>\n",
              "    </tr>\n",
              "    <tr>\n",
              "      <th>...</th>\n",
              "      <td>...</td>\n",
              "      <td>...</td>\n",
              "    </tr>\n",
              "    <tr>\n",
              "      <th>41172</th>\n",
              "      <td>2017-07-27 05:45:51</td>\n",
              "      <td>24.0</td>\n",
              "    </tr>\n",
              "    <tr>\n",
              "      <th>41214</th>\n",
              "      <td>2017-07-26 19:15:06</td>\n",
              "      <td>60.0</td>\n",
              "    </tr>\n",
              "    <tr>\n",
              "      <th>41261</th>\n",
              "      <td>2017-07-26 12:48:41</td>\n",
              "      <td>63.0</td>\n",
              "    </tr>\n",
              "    <tr>\n",
              "      <th>41347</th>\n",
              "      <td>2017-07-25 18:31:40</td>\n",
              "      <td>115.0</td>\n",
              "    </tr>\n",
              "    <tr>\n",
              "      <th>41393</th>\n",
              "      <td>2017-07-25 10:39:46</td>\n",
              "      <td>58.0</td>\n",
              "    </tr>\n",
              "  </tbody>\n",
              "</table>\n",
              "<p>604 rows × 2 columns</p>\n",
              "</div>"
            ],
            "text/plain": [
              "                Date_Time  BWZ Carb Input (grams)\n",
              "48    2018-02-12 09:15:45                    34.0\n",
              "129   2018-02-12 02:30:55                    15.0\n",
              "188   2018-02-11 20:33:18                    71.0\n",
              "207   2018-02-11 18:14:37                     8.0\n",
              "261   2018-02-11 12:43:23                    27.0\n",
              "...                   ...                     ...\n",
              "41172 2017-07-27 05:45:51                    24.0\n",
              "41214 2017-07-26 19:15:06                    60.0\n",
              "41261 2017-07-26 12:48:41                    63.0\n",
              "41347 2017-07-25 18:31:40                   115.0\n",
              "41393 2017-07-25 10:39:46                    58.0\n",
              "\n",
              "[604 rows x 2 columns]"
            ]
          },
          "metadata": {},
          "execution_count": 14
        }
      ]
    },
    {
      "cell_type": "markdown",
      "metadata": {
        "id": "Yr6vERaKcERv"
      },
      "source": [
        "COND 1: keep tm-30min to tm+2hs as the MEAL interval to consider"
      ]
    },
    {
      "cell_type": "code",
      "metadata": {
        "id": "HioLjLY-cERw"
      },
      "source": [
        "# this condition is taken care of"
      ],
      "execution_count": 15,
      "outputs": []
    },
    {
      "cell_type": "markdown",
      "metadata": {
        "id": "eubFH4ercERx"
      },
      "source": [
        "* FUNCTION CREATING VALID MD ALONG WITH CARBS VALUE"
      ]
    },
    {
      "cell_type": "code",
      "metadata": {
        "id": "-jt0osXvpJIt"
      },
      "source": [
        "# get the Valid MD DT and Carb values from Insulin data\n",
        "def validInsulinDTCarbs(ins_data):\n",
        "    carbInsCond = ~ins_data['BWZ Carb Input (grams)'].isna() & ins_data['BWZ Carb Input (grams)']!=0\n",
        "    ins_data_carb = ins_data[carbInsCond].copy(deep=True)\n",
        "\n",
        "    # the last date_time value is definitely MEAL DATA because it has its own 2hours of uninterrupted data\n",
        "    # get 2 hours 1 min value over last date_time\n",
        "    DT_max_2h1m = max(ins_data_carb['Date_Time']) + pd.DateOffset(hours=2, minutes=1)\n",
        "    # create columns for next Date_TIME(DT) and DT+2hrs\n",
        "    ins_data_carb['Next_DT'] = ins_data_carb['Date_Time'].shift(1, fill_value=DT_max_2h1m)\n",
        "    ins_data_carb['DT+2hrs'] = ins_data_carb['Date_Time'] + pd.DateOffset(hours=2)\n",
        "\n",
        "    # condition to check if Next_DT is between DT and DT+2hrs\n",
        "    btw2HrsCond = ins_data_carb['Next_DT'].between(ins_data_carb['Date_Time'], ins_data_carb['DT+2hrs'], inclusive='neither')\n",
        "    ins_data_carb = ins_data_carb.loc[~btw2HrsCond]\n",
        "\n",
        "    # Now, only extract the Date_Time and Carb Input values\n",
        "    insValDTCarbs = ins_data_carb.loc[:, ['Date_Time', 'BWZ Carb Input (grams)']]\n",
        "\n",
        "    return insValDTCarbs"
      ],
      "execution_count": 129,
      "outputs": []
    },
    {
      "cell_type": "code",
      "metadata": {
        "id": "-my2MXMTcER0"
      },
      "source": [
        "# run the validInsulinDTCarbs\n",
        "insDT_Carbs = validInsulinDTCarbs(insData)"
      ],
      "execution_count": 130,
      "outputs": []
    },
    {
      "cell_type": "code",
      "metadata": {
        "id": "bbjHyjpHcER1",
        "colab": {
          "base_uri": "https://localhost:8080/",
          "height": 424
        },
        "outputId": "d05306e7-05e0-4abd-9b41-3a3ee66003d1"
      },
      "source": [
        "insDT_Carbs"
      ],
      "execution_count": 131,
      "outputs": [
        {
          "output_type": "execute_result",
          "data": {
            "text/html": [
              "<div>\n",
              "<style scoped>\n",
              "    .dataframe tbody tr th:only-of-type {\n",
              "        vertical-align: middle;\n",
              "    }\n",
              "\n",
              "    .dataframe tbody tr th {\n",
              "        vertical-align: top;\n",
              "    }\n",
              "\n",
              "    .dataframe thead th {\n",
              "        text-align: right;\n",
              "    }\n",
              "</style>\n",
              "<table border=\"1\" class=\"dataframe\">\n",
              "  <thead>\n",
              "    <tr style=\"text-align: right;\">\n",
              "      <th></th>\n",
              "      <th>Date_Time</th>\n",
              "      <th>BWZ Carb Input (grams)</th>\n",
              "    </tr>\n",
              "  </thead>\n",
              "  <tbody>\n",
              "    <tr>\n",
              "      <th>48</th>\n",
              "      <td>2018-02-12 09:15:45</td>\n",
              "      <td>34.0</td>\n",
              "    </tr>\n",
              "    <tr>\n",
              "      <th>129</th>\n",
              "      <td>2018-02-12 02:30:55</td>\n",
              "      <td>15.0</td>\n",
              "    </tr>\n",
              "    <tr>\n",
              "      <th>188</th>\n",
              "      <td>2018-02-11 20:33:18</td>\n",
              "      <td>71.0</td>\n",
              "    </tr>\n",
              "    <tr>\n",
              "      <th>207</th>\n",
              "      <td>2018-02-11 18:14:37</td>\n",
              "      <td>8.0</td>\n",
              "    </tr>\n",
              "    <tr>\n",
              "      <th>261</th>\n",
              "      <td>2018-02-11 12:43:23</td>\n",
              "      <td>27.0</td>\n",
              "    </tr>\n",
              "    <tr>\n",
              "      <th>...</th>\n",
              "      <td>...</td>\n",
              "      <td>...</td>\n",
              "    </tr>\n",
              "    <tr>\n",
              "      <th>41172</th>\n",
              "      <td>2017-07-27 05:45:51</td>\n",
              "      <td>24.0</td>\n",
              "    </tr>\n",
              "    <tr>\n",
              "      <th>41214</th>\n",
              "      <td>2017-07-26 19:15:06</td>\n",
              "      <td>60.0</td>\n",
              "    </tr>\n",
              "    <tr>\n",
              "      <th>41261</th>\n",
              "      <td>2017-07-26 12:48:41</td>\n",
              "      <td>63.0</td>\n",
              "    </tr>\n",
              "    <tr>\n",
              "      <th>41347</th>\n",
              "      <td>2017-07-25 18:31:40</td>\n",
              "      <td>115.0</td>\n",
              "    </tr>\n",
              "    <tr>\n",
              "      <th>41393</th>\n",
              "      <td>2017-07-25 10:39:46</td>\n",
              "      <td>58.0</td>\n",
              "    </tr>\n",
              "  </tbody>\n",
              "</table>\n",
              "<p>604 rows × 2 columns</p>\n",
              "</div>"
            ],
            "text/plain": [
              "                Date_Time  BWZ Carb Input (grams)\n",
              "48    2018-02-12 09:15:45                    34.0\n",
              "129   2018-02-12 02:30:55                    15.0\n",
              "188   2018-02-11 20:33:18                    71.0\n",
              "207   2018-02-11 18:14:37                     8.0\n",
              "261   2018-02-11 12:43:23                    27.0\n",
              "...                   ...                     ...\n",
              "41172 2017-07-27 05:45:51                    24.0\n",
              "41214 2017-07-26 19:15:06                    60.0\n",
              "41261 2017-07-26 12:48:41                    63.0\n",
              "41347 2017-07-25 18:31:40                   115.0\n",
              "41393 2017-07-25 10:39:46                    58.0\n",
              "\n",
              "[604 rows x 2 columns]"
            ]
          },
          "metadata": {},
          "execution_count": 131
        }
      ]
    },
    {
      "cell_type": "markdown",
      "metadata": {
        "id": "DbJJSlt3cER2"
      },
      "source": [
        "# GET SENSOR VALUES IN CGMData FOR VALID DTs FOR MEAL DATA"
      ]
    },
    {
      "cell_type": "code",
      "metadata": {
        "id": "5kJG0SV8LWaZ"
      },
      "source": [
        "cgmDT_Carbs = insDT_Carbs['Date_Time'].apply(lambda x: cgmData[cgmData['Date_Time'] >= x]['Date_Time'].min())"
      ],
      "execution_count": 19,
      "outputs": []
    },
    {
      "cell_type": "code",
      "metadata": {
        "id": "7smdys6UcER3",
        "colab": {
          "base_uri": "https://localhost:8080/"
        },
        "outputId": "16c6a3f3-3c05-4323-cd35-e69ca450ecea"
      },
      "source": [
        "cgmDT_Carbs.iloc[::-1]"
      ],
      "execution_count": 20,
      "outputs": [
        {
          "output_type": "execute_result",
          "data": {
            "text/plain": [
              "41393   2017-07-25 12:08:54\n",
              "41347   2017-07-25 18:33:55\n",
              "41261   2017-07-26 12:49:00\n",
              "41214   2017-07-26 19:19:01\n",
              "41172   2017-07-27 05:49:05\n",
              "                ...        \n",
              "261     2018-02-11 12:45:34\n",
              "207     2018-02-11 18:17:22\n",
              "188     2018-02-11 20:37:22\n",
              "129     2018-02-12 02:32:25\n",
              "48      2018-02-12 09:17:26\n",
              "Name: Date_Time, Length: 604, dtype: datetime64[ns]"
            ]
          },
          "metadata": {},
          "execution_count": 20
        }
      ]
    },
    {
      "cell_type": "code",
      "metadata": {
        "colab": {
          "base_uri": "https://localhost:8080/"
        },
        "id": "_ibgHe05Z07v",
        "outputId": "a4b56732-e33a-4e89-a4da-112a31209dfe"
      },
      "source": [
        "insDT_Carbs['BWZ Carb Input (grams)']"
      ],
      "execution_count": 21,
      "outputs": [
        {
          "output_type": "execute_result",
          "data": {
            "text/plain": [
              "48        34.0\n",
              "129       15.0\n",
              "188       71.0\n",
              "207        8.0\n",
              "261       27.0\n",
              "         ...  \n",
              "41172     24.0\n",
              "41214     60.0\n",
              "41261     63.0\n",
              "41347    115.0\n",
              "41393     58.0\n",
              "Name: BWZ Carb Input (grams), Length: 604, dtype: float64"
            ]
          },
          "metadata": {},
          "execution_count": 21
        }
      ]
    },
    {
      "cell_type": "code",
      "metadata": {
        "id": "NFDZMmv-cER5",
        "colab": {
          "base_uri": "https://localhost:8080/"
        },
        "outputId": "d6835890-a5a6-4ff2-88b0-00f0b1d33dc9"
      },
      "source": [
        "meal_data_mat_ls_2 = []\n",
        "lens_2 = []\n",
        "for (ind, val) in cgmDT_Carbs.iloc[::-1].iteritems():\n",
        "    if ind < 41172:\n",
        "        break\n",
        "    # different masks give different possible lengths of sensor values\n",
        "    # the chosen mask exclude the time exactly at\n",
        "    print(insDT_Carbs['BWZ Carb Input (grams)'][ind])\n",
        "    #mask = (cgmDataPat_2['Date_Time'] >= val-pd.DateOffset(minutes=30)) & (cgmDataPat_2['Date_Time'] < val+pd.DateOffset(hours=2))\n",
        "    #vals = np.array(cgmDataPat_2.loc[mask]['Sensor Glucose (mg/dL)'].iloc[::-1])\n",
        "    #meal_data_mat_ls_2.append( vals )\n",
        "    #lens_2.append( len(vals) )"
      ],
      "execution_count": 22,
      "outputs": [
        {
          "output_type": "stream",
          "name": "stdout",
          "text": [
            "58.0\n",
            "115.0\n",
            "63.0\n",
            "60.0\n",
            "24.0\n"
          ]
        }
      ]
    },
    {
      "cell_type": "code",
      "metadata": {
        "id": "8E7o1x1ucER5",
        "colab": {
          "base_uri": "https://localhost:8080/"
        },
        "outputId": "f78fc6f0-3c0c-4727-a7a7-529ae39e8a7c"
      },
      "source": [
        "x = np.array([1,2,3])\n",
        "y = 23.0\n",
        "np.append(x,y)"
      ],
      "execution_count": 23,
      "outputs": [
        {
          "output_type": "execute_result",
          "data": {
            "text/plain": [
              "array([ 1.,  2.,  3., 23.])"
            ]
          },
          "metadata": {},
          "execution_count": 23
        }
      ]
    },
    {
      "cell_type": "markdown",
      "metadata": {
        "id": "PRcaUQUOcER6"
      },
      "source": [
        "* FUNCTION XTRACTING SENSOR VALUES FOR VALID DT"
      ]
    },
    {
      "cell_type": "code",
      "metadata": {
        "id": "HCbFtVV4Y1Lr"
      },
      "source": [
        "# get the CGM Sensor Values for each meal Data and the corresponding Carb Input value\n",
        "def sensValAndCarbInput(insDT_Carbs_, cgmData_, threshold):\n",
        "    # for each of valid Insulin Date_time get corresponding CGM DT after (but earliest) time\n",
        "    cgmDT_Carbs_ = insDT_Carbs_['Date_Time'].apply(lambda x: cgmData_[cgmData_['Date_Time'] >= x]['Date_Time'].min())\n",
        "\n",
        "    cgmDataList = []\n",
        "    lengthsList = []\n",
        "\n",
        "    # reverse the CGM DT Carbs values to make it chronologic order\n",
        "    # while doing so loop through it\n",
        "    for (ind, val) in cgmDT_Carbs_.iloc[::-1].iteritems():\n",
        "        # for each value here we extract all Sensor Glucose values\n",
        "        mask = (cgmData_['Date_Time'] >= val-pd.DateOffset(minutes=30)) & (cgmData_['Date_Time'] < val+pd.DateOffset(hours=2))\n",
        "        sens_vals = np.array(cgmData_.loc[mask]['Sensor Glucose (mg/dL)'].iloc[::-1])\n",
        "        nonNALen = np.count_nonzero(~np.isnan(sens_vals))\n",
        "        # also add the Carb Input at the end\n",
        "        carb_inp_val = insDT_Carbs_['BWZ Carb Input (grams)'][ind]\n",
        "        comb_vals = np.append(sens_vals, carb_inp_val)\n",
        "\n",
        "        # we only want the data if the non-NaN length is THRESHOLD% or more of 30 (>=24)\n",
        "        # AND also the length of data must be 30\n",
        "        if (len(sens_vals)==30 and nonNALen >= (threshold/100)*30):\n",
        "            cgmDataList.append( comb_vals )\n",
        "            lengthsList.append( nonNALen )\n",
        "\n",
        "    cgmDataList = np.vstack(cgmDataList)\n",
        "\n",
        "    # return list of lists as ndarray\n",
        "    return np.array(cgmDataList), lengthsList\n"
      ],
      "execution_count": 24,
      "outputs": []
    },
    {
      "cell_type": "code",
      "metadata": {
        "id": "-zUsZ59bcER8"
      },
      "source": [
        "# set threshold for NaN in meal data\n",
        "threshold = 80\n",
        "mdMat_Carbs, lenList = sensValAndCarbInput(insDT_Carbs, cgmData, threshold)\n",
        "# NOTE: last column in matrix is Carbs Input for that Meal Data from Insulin Data"
      ],
      "execution_count": 25,
      "outputs": []
    },
    {
      "cell_type": "code",
      "metadata": {
        "colab": {
          "base_uri": "https://localhost:8080/"
        },
        "id": "j6L5gAW0f5Zc",
        "outputId": "4384f91e-f766-4c3b-e065-d7d57fae7966"
      },
      "source": [
        "mdMat_Carbs[0]"
      ],
      "execution_count": 301,
      "outputs": [
        {
          "output_type": "execute_result",
          "data": {
            "text/plain": [
              "array([ 58.,  59.,  63.,  71.,  81., 102., 131., 140., 147., 153., 159.,\n",
              "       163., 159., 153., 151., 155., 163., 164.,  nan, 166., 168., 164.,\n",
              "       169., 178., 184., 190., 195., 198., 203., 196., 115.])"
            ]
          },
          "metadata": {},
          "execution_count": 301
        }
      ]
    },
    {
      "cell_type": "markdown",
      "metadata": {
        "id": "-H9GNbrtcESa"
      },
      "source": [
        "# FEATURE EXTRACTOR"
      ]
    },
    {
      "cell_type": "markdown",
      "metadata": {
        "id": "neRVrgfT47kU"
      },
      "source": [
        "* FUNCTION XTRACTING FEATURES FROM A MATRIX"
      ]
    },
    {
      "cell_type": "code",
      "metadata": {
        "id": "BUVj4iyGcESa"
      },
      "source": [
        "def feat_extr(data_mat, select_feat):\n",
        "    # variable to store list of lists (the inner list is list of 8 params)\n",
        "    feat_mat_list = []\n",
        "    # for each row create a list of 8 values (8 feature paramters)\n",
        "    for idx, row in enumerate(data_mat):\n",
        "        # create a list of 8 values/paramaeters\n",
        "        feat_list = []\n",
        "\n",
        "        # for each row consider minimum value index as tm value\n",
        "        tm = np.nanargmin(row)\n",
        "\n",
        "        # PARAMETER 1: difference between time at CGMMax and time at meal taken\n",
        "        if select_feat[0] == 1:\n",
        "            tau = (np.nanargmax(row) - tm)\n",
        "            feat_list.insert(len(feat_list), tau)\n",
        "\n",
        "        # PARAMETER 2: difference between CGMMax and CGM at time of meal taken\n",
        "        if select_feat[1] == 1:\n",
        "            CGMDiffNorm = (np.nanmax(row) - row[tm])#/row[tm]\n",
        "            feat_list.insert(len(feat_list), CGMDiffNorm)\n",
        "\n",
        "        # PARAMETER 3,4,5,6: get FFT magnitude and frequency bins\n",
        "        if ((select_feat[2] == 1) or (select_feat[3] == 1) or (select_feat[4] == 1) or (select_feat[5] == 1)):\n",
        "            nonNARow = row[~np.isnan(row)]\n",
        "            # fft\n",
        "            fft_vals = fft( nonNARow )\n",
        "            # extract second and third peaks\n",
        "            fft_vals_copy = fft_vals\n",
        "            fft_vals_copy.sort()\n",
        "            sec_max = fft_vals_copy[-2]\n",
        "            thrd_max = fft_vals_copy[-3]\n",
        "            # extract the indices of second and third peaks\n",
        "            sec_max_ind = np.where(fft_vals==sec_max)[0][0]\n",
        "            thrd_max_ind = np.where(fft_vals==thrd_max)[0][0]\n",
        "            # add values to feat list\n",
        "            if select_feat[2] == 1:\n",
        "                feat_list.insert(len(feat_list), abs(sec_max))\n",
        "            if select_feat[3] == 1:\n",
        "                feat_list.insert(len(feat_list), sec_max_ind)\n",
        "            if select_feat[4] == 1:\n",
        "                feat_list.insert(len(feat_list), abs(thrd_max))\n",
        "            if select_feat[5] == 1:\n",
        "                feat_list.insert(len(feat_list), thrd_max_ind)\n",
        "\n",
        "        # PARAMETER 7: differential of CGM data (GET MAX VALUE)\n",
        "        if select_feat[6] == 1:\n",
        "            feat_list.insert(len(feat_list), np.nanmax(np.diff(row)))\n",
        "\n",
        "        # PARAMETER 8: double differential of CGM data\n",
        "        if select_feat[7] == 1:\n",
        "            feat_list.insert(len(feat_list), np.nanmax(np.diff(row, n=2)))\n",
        "\n",
        "        # add updated feature to feat_mat_list\n",
        "        feat_mat_list.append(feat_list)\n",
        "\n",
        "    return np.array(feat_mat_list)"
      ],
      "execution_count": 186,
      "outputs": []
    },
    {
      "cell_type": "code",
      "metadata": {
        "id": "DNk60MbBcESc",
        "colab": {
          "base_uri": "https://localhost:8080/"
        },
        "outputId": "7eeba77c-853a-447d-a865-59ab0eb3b9fe"
      },
      "source": [
        "slct_ft = [1, 1, 1, 1, 1, 1, 1, 1]\n",
        "# pass all but final (Carbs) column to feature extractor\n",
        "mdFT = feat_extr(mdMat_Carbs[:,:-1], slct_ft)\n",
        "# variable storing only carbs values\n",
        "mdCarbs = mdMat_Carbs[:,-1].reshape((-1,1))\n",
        "# rejoin the carbs column to the extracted features\n",
        "mdFT_Carbs = np.column_stack( (mdFT, mdMat_Carbs[:,-1]) )\n",
        "print(\"FEAT Matrix shape for MD\"+str(mdFT.shape))\n",
        "print(\"CARBS Matrix shape for MD\"+str(mdCarbs.shape))"
      ],
      "execution_count": 320,
      "outputs": [
        {
          "output_type": "stream",
          "name": "stdout",
          "text": [
            "FEAT Matrix shape for MD(477, 8)\n",
            "CARBS Matrix shape for MD(477, 1)\n"
          ]
        }
      ]
    },
    {
      "cell_type": "markdown",
      "metadata": {
        "id": "kY-CM6-Hi5zc"
      },
      "source": [
        "# CREATE BINS AND ASSIGN BIN VALUES: on mdCarbs MATRIX"
      ]
    },
    {
      "cell_type": "code",
      "metadata": {
        "id": "uHw5s4O_i5En",
        "colab": {
          "base_uri": "https://localhost:8080/"
        },
        "outputId": "2533835a-09b8-4902-c35f-8286cf41d9f5"
      },
      "source": [
        "# ravel the 1 column matrix to 1D array\n",
        "mdCarbs_rav = mdCarbs.ravel()\n",
        "\n",
        "# get max and min of the Carbs values\n",
        "max_Carbs = mdCarbs_rav.max()\n",
        "min_Carbs = mdCarbs_rav.min()\n",
        "\n",
        "# REQUIRED number of clusters are\n",
        "req_num_clusters = int(np.rint((max_Carbs - min_Carbs)/20))\n",
        "\n",
        "bins = np.arange(min_Carbs, max_Carbs, 20)\n",
        "# make sure the min value is included in the first bin\n",
        "bins[0] = min_Carbs-1\n",
        "\n",
        "# get the ground truth values as bins\n",
        "mdGT = np.digitize(mdCarbs_rav, bins, right=True) - 1\n",
        "# SUBTRACTED 1 to get bin values starting at 0\n",
        "\n",
        "print(\"GRND TRUTH Matrix shape for MD\"+str(mdGT.shape))\n",
        "\n",
        "# join the feature matrix (FT) and ground truth (GT) values\n",
        "mdFT_GT = np.column_stack( (mdFT, mdGT) )\n",
        "print(\"FT + GRND TRUTH Matrix shape for MD\"+str(mdFT_GT.shape))\n",
        "print(\"GRND TRUTH values unique count = \"+str( np.unique(mdGT, return_counts=True) ))"
      ],
      "execution_count": 321,
      "outputs": [
        {
          "output_type": "stream",
          "name": "stdout",
          "text": [
            "GRND TRUTH Matrix shape for MD(477,)\n",
            "FT + GRND TRUTH Matrix shape for MD(477, 9)\n",
            "GRND TRUTH values unique count = (array([0, 1, 2, 3, 4, 5]), array([161, 126, 113,  47,  25,   5]))\n"
          ]
        }
      ]
    },
    {
      "cell_type": "markdown",
      "metadata": {
        "id": "VIfG6060Kj5j"
      },
      "source": [
        "# PERFORM CLUSTERING ON DATA - use mdFT/mdFT_GT matrix"
      ]
    },
    {
      "cell_type": "markdown",
      "metadata": {
        "id": "g8IgXZTrKqsj"
      },
      "source": [
        "* K-MEANS"
      ]
    },
    {
      "cell_type": "code",
      "metadata": {
        "id": "amMdX8L5wpVT"
      },
      "source": [
        "# IMPORT REQUIRED CLUSTERING MODULES\n",
        "from sklearn.cluster import KMeans\n",
        "from sklearn.cluster import DBSCAN"
      ],
      "execution_count": 322,
      "outputs": []
    },
    {
      "cell_type": "code",
      "metadata": {
        "id": "7yyJfdQHp6GP",
        "colab": {
          "base_uri": "https://localhost:8080/"
        },
        "outputId": "2faabd86-6475-4510-f391-d6ea909ca80a"
      },
      "source": [
        "# create k-means model\n",
        "mod_KM = KMeans(n_clusters = req_num_clusters)\n",
        "fitted_KM = mod_KM.fit( mdFT )\n",
        "\n",
        "# RAISE ERROR: if the max iterations is reached\n",
        "assert fitted_KM.n_iter_ < fitted_KM.max_iter, \"KMEANS ERROR: took more than max_iters (no convergence)!\"\n",
        "\n",
        "# the labels given by KMeans\n",
        "labels_KM = fitted_KM.labels_\n",
        "# create list of clusters with the data points\n",
        "lbls_uvals_KM = np.unique(labels_KM)\n",
        "clust_list_KM = [ mdFT_GT[np.where(labels_KM==lbl)] for lbl in lbls_uvals_KM ]\n",
        "print(\"FITTED MODEL LABELS shape for MD\"+str(labels_KM.shape))\n",
        "# NUMBER OF POINTS IN EACH LABELS\n",
        "print(\"NUM POINTS for each label (KM) for MD:- \"+str( np.unique(labels_KM, return_counts=True) ))\n",
        "print(\"NUM POINTS in each cluster (KM) for MD:- \"+str( [ len(clst) for clst in clust_list_KM ] ))"
      ],
      "execution_count": 323,
      "outputs": [
        {
          "output_type": "stream",
          "name": "stdout",
          "text": [
            "FITTED MODEL LABELS shape for MD(477,)\n",
            "NUM POINTS for each label (KM) for MD:- (array([0, 1, 2, 3, 4, 5], dtype=int32), array([212,  28,  69,  12,  16, 140]))\n",
            "NUM POINTS in each cluster (KM) for MD:- [212, 28, 69, 12, 16, 140]\n"
          ]
        }
      ]
    },
    {
      "cell_type": "markdown",
      "metadata": {
        "id": "JSSDeERRKrIC"
      },
      "source": [
        "* DBSCAN"
      ]
    },
    {
      "cell_type": "code",
      "metadata": {
        "id": "0xa9ENX334RX"
      },
      "source": [
        "# SSE of a data matrix\n",
        "def sseFunc(data_mat_):\n",
        "    # get mean along axis=0\n",
        "    clust_cent = np.mean(data_mat_ ,axis=0)\n",
        "\n",
        "    # this computes the SSE given the points and the mean of them as clust_cent\n",
        "    return sum(np.linalg.norm(data_mat_-clust_cent, axis=1)**2)\n",
        "#--------------------------------------------------------------------------------------------------------------------------------@\n",
        "# BISECTING K-MEANS UNTIL REQ_K NUMBER OF CLUSTERS\n",
        "# paramter 1 has NOISELESS - feature data (FT) + ground_truth (GT) (number of columns = Fl+1)\n",
        "# paramter 2 contains the labels given by DBSCAN\n",
        "# paramter 3 contains required number of clusters to bisect into\n",
        "def bis_KM_till_k(dataFT_GT, lbls_DB, req_k):\n",
        "    \n",
        "    # get the unique values of the labels\n",
        "    cur_lbls = lbls_DB\n",
        "    lbl_uvals = np.unique(cur_lbls)\n",
        "\n",
        "    # get current number of clusters\n",
        "    cur_num_clust = len(lbl_uvals)\n",
        "\n",
        "    # index data according to label to get the clusters - list of 2D arrays\n",
        "    clust_dataFT_GT = [ dataFT_GT[np.where(cur_lbls==lbl)] for lbl in lbl_uvals ]\n",
        "\n",
        "    # save the SSE calculated over the loops\n",
        "    # go through each label, index that data and get SSE\n",
        "    # NOTE: only pass the feature matrix section to the SSE function\n",
        "    sse_list = [ sseFunc(cl_d[:,:-1]) for cl_d in clust_dataFT_GT ]\n",
        "\n",
        "    # stopping condition is until we have total req_k amount of clusters\n",
        "    while cur_num_clust < req_k:\n",
        "        # get the index of maximum SSE and use it to get the data to bisect(\"bis\")\n",
        "        maxSSE_ind = np.argmax(sse_list)\n",
        "        bis_dataFT_GT = clust_dataFT_GT[maxSSE_ind]\n",
        "\n",
        "        # peform bisection on the feature matrix section of the bis_data\n",
        "        mod_BKM = KMeans(n_clusters=2).fit(bis_dataFT_GT[:,:-1])\n",
        "\n",
        "        # RAISE ERROR: if the max iterations is reached\n",
        "        if mod_BKM.n_iter_ > mod_BKM.max_iter:\n",
        "            return None\n",
        "        assert mod_BKM.n_iter_ < mod_BKM.max_iter, \"BIS-KMEANS ERROR: took more than max_iters (no convergence)!\"\n",
        "\n",
        "        # the labels given by B-KMeans\n",
        "        labels_BKM = mod_BKM.labels_\n",
        "\n",
        "        # from the bisection we put label 0 values at maxSSE_ind index and at same index in clust_data ...\n",
        "        lbl_0_data = bis_dataFT_GT[np.where(labels_BKM==0)]\n",
        "        lbl_0_sse = sseFunc(lbl_0_data[:,:-1])\n",
        "        sse_list[maxSSE_ind] = lbl_0_sse\n",
        "        clust_dataFT_GT[maxSSE_ind] = lbl_0_data\n",
        "\n",
        "        # ... and add label 1 values at end of the sse_list and clust_data\n",
        "        lbl_1_data = bis_dataFT_GT[np.where(labels_BKM==1)]\n",
        "        lbl_1_sse = sseFunc(lbl_1_data[:,:-1])\n",
        "        sse_list.append(lbl_1_sse)\n",
        "        clust_dataFT_GT.append(lbl_1_data)\n",
        "\n",
        "        # increment number of clusters\n",
        "        cur_num_clust = cur_num_clust + 1\n",
        "\n",
        "    return clust_dataFT_GT"
      ],
      "execution_count": 324,
      "outputs": []
    },
    {
      "cell_type": "markdown",
      "metadata": {
        "id": "kxi5nLc9jnN6"
      },
      "source": [
        "DBSCAN Fitting Model"
      ]
    },
    {
      "cell_type": "code",
      "metadata": {
        "colab": {
          "base_uri": "https://localhost:8080/"
        },
        "id": "8D7teSf2__mR",
        "outputId": "dfb0d9c2-ef9e-4982-f039-d0a210a3ffe3"
      },
      "source": [
        "# create DBSCAN model\n",
        "mod_DB = DBSCAN(eps=213, min_samples=5)\n",
        "fitted_DB = mod_DB.fit( mdFT )\n",
        "\n",
        "# the labels given by DBSCAN\n",
        "labels_DB = fitted_DB.labels_\n",
        "\n",
        "# NUMBER OF NOISE POINTS\n",
        "print(\"% of Noise Points = \" + str( (sum(labels_DB == -1)/len(labels_DB))*100 ))\n",
        "\n",
        "# the number of clusters formed\n",
        "max_label_DB = np.max(labels_DB)\n",
        "print(max_label_DB)\n",
        "# if the max number is -1 then RAISE ERROR\n",
        "assert max_label_DB != -1, \"DBSCAN ERROR: all labels are -1!\"\n",
        "# min label\n",
        "min_label_DB = int(np.nanmin( np.where(labels_DB<0, np.nan, labels_DB) ))\n",
        "print(min_label_DB)\n",
        "\n",
        "print(\"Number of Clusters = \" + str(max_label_DB - min_label_DB + 1))\n",
        "\n",
        "print(\"NUM POINTS in each label (DB) for MD:- \"+str( np.unique(labels_DB, return_counts=True) ))\n",
        "\n",
        "# remove noise points\n",
        "# no noise points (NoiseLess) condition\n",
        "cond_NL = np.where(labels_DB!=-1)\n",
        "labels_DB_NL = labels_DB[cond_NL]\n",
        "mdFT_NL = mdFT[cond_NL]\n",
        "mdGT_NL = mdGT[cond_NL]\n",
        "mdFT_GT_NL = mdFT_GT[cond_NL]\n",
        "\n",
        "#print(\"No noise points shapes: (FT - GT - FT_GT) = \"+str(mdFT_NL.shape)+\" - \"+str(mdGT_NL.shape)+\" - \"+str(mdFT_GT_NL.shape))\n",
        "# Bisecting K-Means until req_num_clusters is reached - PASS NOISELESS DATA\n",
        "clust_list_DB_BKM = bis_KM_till_k(mdFT_GT_NL, labels_DB_NL, req_num_clusters)\n",
        "print(\"NUM POINTS in each cluster (DB+BKM) for MD:- \"+str( [ len(clst) for clst in clust_list_DB_BKM ] ))"
      ],
      "execution_count": 325,
      "outputs": [
        {
          "output_type": "stream",
          "name": "stdout",
          "text": [
            "% of Noise Points = 0.628930817610063\n",
            "0\n",
            "0\n",
            "Number of Clusters = 1\n",
            "NUM POINTS in each label (DB) for MD:- (array([-1,  0]), array([  3, 474]))\n",
            "NUM POINTS in each cluster (DB+BKM) for MD:- [153, 18, 84, 30, 139, 50]\n"
          ]
        }
      ]
    },
    {
      "cell_type": "markdown",
      "metadata": {
        "id": "B-K04772n1Uh"
      },
      "source": [
        "# TEST DBSCAN PARAMTERS SETUP (dont include in main.py)"
      ]
    },
    {
      "cell_type": "code",
      "metadata": {
        "colab": {
          "base_uri": "https://localhost:8080/"
        },
        "id": "S90ybnA_0mUe",
        "outputId": "f869d1b8-bb20-4ee3-e3d5-0fd040a556d9"
      },
      "source": [
        "# FIND THE MAX POSSIBLE DISTANCE IN THE DATASET (eps max val)\n",
        "eps_max = -np.inf\n",
        "for point1 in mdFT_GT[:,:-1]:\n",
        "    for point2 in mdFT_GT[:,:-1]:\n",
        "        dist = np.linalg.norm(point1-point2)\n",
        "        if dist > eps_max:\n",
        "            eps_max = dist\n",
        "eps_max = int(np.rint(eps_max))\n",
        "# FIND THE MAX NUMBER OF POINTS IN THE DATASET (minpts max val)\n",
        "mpts_max = mdFT_GT.shape[0]\n",
        "print(\"EPS MAX = \"+str(eps_max)+\" MINPTS MAX = \"+str(mpts_max))"
      ],
      "execution_count": 326,
      "outputs": [
        {
          "output_type": "stream",
          "name": "stdout",
          "text": [
            "EPS MAX = 2464 MINPTS MAX = 477\n"
          ]
        }
      ]
    },
    {
      "cell_type": "markdown",
      "metadata": {
        "id": "ri9IiR0o-g_v"
      },
      "source": [
        "* get OPTIMAL eps values based on data mdFT_GT"
      ]
    },
    {
      "cell_type": "code",
      "metadata": {
        "colab": {
          "base_uri": "https://localhost:8080/",
          "height": 283
        },
        "id": "LKK2KMMf-d5p",
        "outputId": "77c58542-80c6-47e7-ba26-f09ae3af28c8"
      },
      "source": [
        "from sklearn.neighbors import NearestNeighbors\n",
        "from matplotlib import pyplot as plt\n",
        "neigh = NearestNeighbors(n_neighbors=5)\n",
        "nbrs = neigh.fit(mdFT)\n",
        "distances, indices = nbrs.kneighbors(mdFT)\n",
        "\n",
        "distances = np.sort(distances, axis=0)\n",
        "distances = distances[:,1]\n",
        "plt.plot(distances)\n",
        "\n",
        "good_eps = distances[np.argmax(np.diff(distances))]\n",
        "good_eps"
      ],
      "execution_count": 327,
      "outputs": [
        {
          "output_type": "execute_result",
          "data": {
            "text/plain": [
              "144.2705471065182"
            ]
          },
          "metadata": {},
          "execution_count": 327
        },
        {
          "output_type": "display_data",
          "data": {
            "image/png": "[encoded data removed]",
            "text/plain": [
              "<Figure size 432x288 with 1 Axes>"
            ]
          },
          "metadata": {
            "needs_background": "light"
          }
        }
      ]
    },
    {
      "cell_type": "code",
      "metadata": {
        "id": "Q8kUXRqlhrup"
      },
      "source": [
        "# run DBSCAN for different epsilon and min_samples\n",
        "gt_point = np.array(np.sort(np.unique(mdGT, return_counts=True)[1]))\n",
        "#dist_list = []\n",
        "min_ent_params = []\n",
        "max_pur_params = []\n",
        "min_ent_F = np.inf\n",
        "max_pur_F = -np.inf\n",
        "eps_v = good_eps\n",
        "ms_range = range(2,mpts_max)\n",
        "if True:\n",
        "    for ms_v in ms_range:\n",
        "        mod_DB = DBSCAN(eps=eps_v, min_samples=ms_v)\n",
        "        fDB= mod_DB.fit( mdFT )\n",
        "        lDB = fDB.labels_\n",
        "        if np.max(lDB) == -1:\n",
        "            continue\n",
        "        cnl = np.where(lDB!=-1)\n",
        "        cl_DBKM = bis_KM_till_k(mdFT_GT[cnl], lDB[cnl], req_num_clusters)\n",
        "        if cl_DBKM is None:\n",
        "            continue\n",
        "        #dbkm_point = np.array(np.sort([ len(clst) for clst in cl_DBKM ]))\n",
        "\n",
        "        comp_Mat_ = clustCompConv(cl_DBKM, req_num_clusters)\n",
        "        ent_ = entropyOfClusters(comp_Mat_)\n",
        "        pur_ = purityOfClusters(comp_Mat_)\n",
        "\n",
        "        #dist = np.linalg.norm(gt_point-dbkm_point)\n",
        "        if ent_ < min_ent_F:\n",
        "            min_ent_F = ent_\n",
        "            min_ent_params.clear()\n",
        "        if ent_ == min_ent_F:\n",
        "            min_ent_params.append(ms_v)\n",
        "\n",
        "        if pur_ > max_pur_F:\n",
        "            max_pur_F = pur_\n",
        "            max_pur_params.clear()\n",
        "        if pur_ == max_pur_F:\n",
        "            max_pur_params.append(ms_v)\n",
        "\n",
        "        #if min_dist_GT == dist:\n",
        "            #min_dist_params.append([eps_v, ms_v])\n",
        "    print(\"GOOD VALUES:\")\n",
        "    print(min_ent_params)\n",
        "    print(max_pur_params)\n",
        "\n",
        "    with open('params.pkl', 'wb') as p_file:\n",
        "        pickle.dump(min_dist_params, p_file)\n",
        "\n",
        "print(\"MIN ENT:\")\n",
        "print(min_ent_F)\n",
        "print(\"MAX PUR:\")\n",
        "print(max_pur_F)"
      ],
      "execution_count": null,
      "outputs": []
    },
    {
      "cell_type": "code",
      "metadata": {
        "colab": {
          "base_uri": "https://localhost:8080/"
        },
        "id": "f9j9Eny1hr2R",
        "outputId": "2e70764b-f080-4b63-8277-4c57ecca821a"
      },
      "source": [
        "mpts_val_sel = \n",
        "\n",
        "# GROUND TRUTH CLUSTER VALUES AND COUNTS\n",
        "print(\"GRND TRUTH values unique count =\"+str( np.sort(np.unique(mdGT, return_counts=True)[1]) ))\n",
        "# K-MEANS CLUSTER VALUES AND COUNTS\n",
        "print(\"K-MEANS values unique count =\\t\"+str( np.sort([ len(clst) for clst in clust_list_KM ]) ))\n",
        "# DB-SCAN initial run\n",
        "mod_DB = DBSCAN(eps=good_eps, min_samples=mpts_val_sel)\n",
        "fitted_DB = mod_DB.fit( mdFT )\n",
        "labels_DB = fitted_DB.labels_\n",
        "max_label_DB = np.max(labels_DB)\n",
        "assert max_label_DB != -1, \"DBSCAN ERROR: all labels are -1!\"\n",
        "# run BIS-KM\n",
        "cond_NL = np.where(labels_DB!=-1)\n",
        "clust_list_DB_BKM = bis_KM_till_k(mdFT_GT[cond_NL], labels_DB[cond_NL], req_num_clusters)\n",
        "print(\"DB+BKM values unique count =\\t\"+str( np.sort([ len(clst) for clst in clust_list_DB_BKM ]) ))\n",
        "print(\"% of Noise Points = \" + str( (sum(labels_DB == -1)/len(labels_DB))*100 ))\n",
        "print(\"INIT-DBSCAN values unique count = \"+str( np.unique(labels_DB, return_counts=True) ))\n",
        "print(\"\")\n",
        "print(\"\\tslct_ft = \"+str(slct_ft))\n",
        "print(\"\\teps_set = \"+str(good_eps))\n",
        "print(\"\\tmpts_set = \"+str(mpts_val_sel))"
      ],
      "execution_count": 311,
      "outputs": [
        {
          "output_type": "stream",
          "name": "stdout",
          "text": [
            "GRND TRUTH values unique count =[  5  25  47 113 126 161]\n",
            "K-MEANS values unique count =\t[ 12  16  28  69 140 212]\n",
            "DB+BKM values unique count =\t[25 26 39 47 47 87]\n",
            "% of Noise Points = 43.18658280922432\n",
            "INIT-DBSCAN values unique count = (array([-1,  0]), array([206, 271]))\n",
            "\n",
            "\tslct_ft = [1, 1, 1, 1, 1, 1, 0, 0]\n",
            "\teps_set = 140.27970853286342\n",
            "\tmpts_set = 271\n"
          ]
        }
      ]
    },
    {
      "cell_type": "code",
      "metadata": {
        "id": "KAyeyFA8942V"
      },
      "source": [
        "#load params\n",
        "#with open('params.pkl', 'rb') as params_file:\n",
        "    #params = pickle.load(params_file)\n",
        "#params"
      ],
      "execution_count": 266,
      "outputs": []
    },
    {
      "cell_type": "markdown",
      "metadata": {
        "id": "tKo2b75lyPlk"
      },
      "source": [
        "# MAKE CLUSTER COMPARISON MATRIX - \n",
        "# uses clust_list_KM AND clust_list_DB_BKM"
      ]
    },
    {
      "cell_type": "code",
      "metadata": {
        "colab": {
          "base_uri": "https://localhost:8080/"
        },
        "id": "Kxg2wz24-3PD",
        "outputId": "35994ab8-94af-4e10-f15c-b9923bb5d323"
      },
      "source": [
        "print(\"K-MEANS values unique count =\\t\"+str( np.sort([ len(clst) for clst in clust_list_KM ]) ))\n",
        "print(\"DB+BKM values unique count =\\t\"+str( np.sort([ len(clst) for clst in clust_list_DB_BKM ]) ))"
      ],
      "execution_count": 109,
      "outputs": [
        {
          "output_type": "stream",
          "name": "stdout",
          "text": [
            "K-MEANS values unique count =\t[ 14  22  52 119 121 149]\n",
            "DB+BKM values unique count =\t[ 10  22  63 106 129 143]\n"
          ]
        }
      ]
    },
    {
      "cell_type": "markdown",
      "metadata": {
        "id": "BJaX4l5B30jF"
      },
      "source": [
        "* Function to take in clusters (which have GT) and output Clust Comp Matrix - usable on both KMeans and DBKM cluster lists"
      ]
    },
    {
      "cell_type": "code",
      "metadata": {
        "id": "FFfsiL194KFb"
      },
      "source": [
        "# converts clusters to matrix comparing with the ground truths\n",
        "def clustCompConv(clust_list_, req_k):\n",
        "    # storing the matrix of cluster count in each GT label\n",
        "    comp_mat = []\n",
        "    for clust_ in clust_list_:\n",
        "        # ground truth labels\n",
        "        clust_GT = clust_[:,-1]\n",
        "        # get number of b0, ... bN-1 frequency in clust_GT (N = required number of clusters = req_k)\n",
        "        comp_count = []\n",
        "        for bi in range(req_k):\n",
        "            bi_count = np.count_nonzero(clust_GT == bi)\n",
        "            comp_count.append(bi_count)\n",
        "\n",
        "        # add this list of counts to main comp_mat\n",
        "        comp_mat.append(comp_count)\n",
        "\n",
        "    return np.array(comp_mat)"
      ],
      "execution_count": 312,
      "outputs": []
    },
    {
      "cell_type": "code",
      "metadata": {
        "id": "m9R4DPzY8uPR"
      },
      "source": [
        "# get the clust count comparison with the GT for KM\n",
        "comp_Mat_KM = clustCompConv(clust_list_KM, req_num_clusters)\n",
        "# and for DBKM clusters\n",
        "comp_Mat_DBKM = clustCompConv(clust_list_DB_BKM, req_num_clusters)"
      ],
      "execution_count": 313,
      "outputs": []
    },
    {
      "cell_type": "code",
      "metadata": {
        "colab": {
          "base_uri": "https://localhost:8080/"
        },
        "id": "tTkMqaryUbT2",
        "outputId": "4262f429-4bb1-4256-a3cf-c4f4f5aa0253"
      },
      "source": [
        "comp_Mat_KM"
      ],
      "execution_count": 314,
      "outputs": [
        {
          "output_type": "execute_result",
          "data": {
            "text/plain": [
              "array([[ 3,  4,  6,  2,  1,  0],\n",
              "       [47, 35, 37, 15,  6,  0],\n",
              "       [ 2,  8,  8,  6,  3,  1],\n",
              "       [17, 10, 26,  9,  6,  1],\n",
              "       [89, 65, 34, 14,  8,  2],\n",
              "       [ 3,  4,  2,  1,  1,  1]])"
            ]
          },
          "metadata": {},
          "execution_count": 314
        }
      ]
    },
    {
      "cell_type": "code",
      "metadata": {
        "colab": {
          "base_uri": "https://localhost:8080/"
        },
        "id": "aV8xGFURUbvg",
        "outputId": "4c7b1be2-33f9-476a-d5bf-0b6e683d9b29"
      },
      "source": [
        "comp_Mat_DBKM"
      ],
      "execution_count": 315,
      "outputs": [
        {
          "output_type": "execute_result",
          "data": {
            "text/plain": [
              "array([[39, 22, 17,  4,  5,  0],\n",
              "       [21, 15,  6,  4,  1,  0],\n",
              "       [14,  7,  2,  1,  1,  1],\n",
              "       [15, 19,  9,  3,  1,  0],\n",
              "       [16,  7,  7,  8,  1,  0],\n",
              "       [10,  8,  7,  0,  0,  0]])"
            ]
          },
          "metadata": {},
          "execution_count": 315
        }
      ]
    },
    {
      "cell_type": "markdown",
      "metadata": {
        "id": "gE2B01mg-NXj"
      },
      "source": [
        "# COMPUTE SSE, ENTROPY AND PURITY\n",
        "# have: clust_list_KM, clust_list_DB_BKM, comp_Mat_KM, comp_Mat_DBKM"
      ]
    },
    {
      "cell_type": "markdown",
      "metadata": {
        "id": "fn9agY5QbGxp"
      },
      "source": [
        "* SSE"
      ]
    },
    {
      "cell_type": "code",
      "metadata": {
        "colab": {
          "base_uri": "https://localhost:8080/"
        },
        "id": "9PoyWGXt905a",
        "outputId": "69eda831-7266-4871-ecd0-151d0bbec0e4"
      },
      "source": [
        "# SSE for K-Means\n",
        "clust_sse_KM = [ sseFunc(cl_) for cl_ in clust_list_KM ]\n",
        "sse_KM = sum(clust_sse_KM)\n",
        "print(\"SSE for KMeans = \"+str(sse_KM))\n",
        "\n",
        "# SSE for DB_BKM\n",
        "clust_sse_DBKM = [ sseFunc(cl_) for cl_ in clust_list_DB_BKM ]\n",
        "sse_DBKM = sum(clust_sse_DBKM)\n",
        "print(\"SSE for DB+Kmeans = \"+str(sse_DBKM))"
      ],
      "execution_count": 316,
      "outputs": [
        {
          "output_type": "stream",
          "name": "stdout",
          "text": [
            "SSE for KMeans = 4093917.7509308397\n",
            "SSE for DB+Kmeans = 446645.66137955384\n"
          ]
        }
      ]
    },
    {
      "cell_type": "markdown",
      "metadata": {
        "id": "hWvWy1BjbIz9"
      },
      "source": [
        "* ENTROPY"
      ]
    },
    {
      "cell_type": "code",
      "metadata": {
        "id": "dIuPJ6Pc-JI5"
      },
      "source": [
        "# ENTROPY function\n",
        "def entropyOfClusters(clust_comp_mat_):\n",
        "    # sum of elements in each row (=number of elements in the cluster represented in that row)\n",
        "    num_elem_per_cluster_ = np.sum(clust_comp_mat_, axis=1, keepdims=True)\n",
        "\n",
        "    # calculate fraction of total for each elemnt\n",
        "    frac_ = clust_comp_mat_/num_elem_per_cluster_\n",
        "    # NOTE: here division by zero - not possible\n",
        "    # That would mean 0 elements in a cluster (not possible)\n",
        "\n",
        "    # calculate -ve log of frac (entropy formula has a negative sign)\n",
        "    # this ignores 0 when computing natural log (doesnt matter because it will get multiplies by 0 later)\n",
        "    log_frac_ = -np.log(frac_, where=frac_!=0)\n",
        "\n",
        "    # get frac times log frac\n",
        "    frac_times_log_frac_ = np.multiply(frac_, log_frac_)\n",
        "\n",
        "    # entropy for each row (each cluster)\n",
        "    clust_ent_ = np.sum(frac_times_log_frac_, axis=1)\n",
        "\n",
        "    # weight each cluster entropy with number of elements in cluster\n",
        "    weight_clust_ent_ = np.multiply(num_elem_per_cluster_.ravel(), clust_ent_)\n",
        "\n",
        "    # total entropy of entire matrix is\n",
        "    tot_ent_ = sum(weight_clust_ent_)\n",
        "\n",
        "    return tot_ent_"
      ],
      "execution_count": 116,
      "outputs": []
    },
    {
      "cell_type": "code",
      "metadata": {
        "colab": {
          "base_uri": "https://localhost:8080/"
        },
        "id": "q7QfwpcQPIWu",
        "outputId": "88c786a5-9b9e-44dc-f1b5-21cfdc0f5803"
      },
      "source": [
        "# ENTROPY for K-Means\n",
        "ent_KM = entropyOfClusters(comp_Mat_KM)\n",
        "print(\"ENTROPY for KMeans = \"+str(ent_KM))\n",
        "\n",
        "# ENTROPY for DB_BKM\n",
        "ent_DBKM = entropyOfClusters(comp_Mat_DBKM)\n",
        "print(\"ENTROPY for DB-BKM = \"+str(ent_DBKM))"
      ],
      "execution_count": 317,
      "outputs": [
        {
          "output_type": "stream",
          "name": "stdout",
          "text": [
            "ENTROPY for KMeans = 684.668022576645\n",
            "ENTROPY for DB-BKM = 351.9060322112338\n"
          ]
        }
      ]
    },
    {
      "cell_type": "markdown",
      "metadata": {
        "id": "OkioXVgUZ6xR"
      },
      "source": [
        "* PURITY"
      ]
    },
    {
      "cell_type": "code",
      "metadata": {
        "id": "2bx3lN32bO73"
      },
      "source": [
        "# PURITY function\n",
        "def purityOfClusters(clust_comp_mat_):\n",
        "    # get max for each row\n",
        "    max_per_row_ = clust_comp_mat_.max(axis=1)\n",
        "\n",
        "    # add the max values\n",
        "    sum_maxes_ = sum(max_per_row_)\n",
        "\n",
        "    # divide by the total number of samples\n",
        "    tot_pur_ = sum_maxes_/np.sum(clust_comp_mat_)\n",
        "\n",
        "    return tot_pur_"
      ],
      "execution_count": 318,
      "outputs": []
    },
    {
      "cell_type": "code",
      "metadata": {
        "colab": {
          "base_uri": "https://localhost:8080/"
        },
        "id": "OW0lwkmaq7gU",
        "outputId": "45329428-cc75-4edc-e12a-d11fa3fe6329"
      },
      "source": [
        "# PURITY for K-Means\n",
        "pur_KM = purityOfClusters(comp_Mat_KM)\n",
        "print(\"PURITY for KMeans = \"+str(pur_KM))\n",
        "\n",
        "# PURITY for KDB-BKM\n",
        "pur_DBKM = purityOfClusters(comp_Mat_DBKM)\n",
        "print(\"PURITY for DB-BKM = \"+str(pur_DBKM))"
      ],
      "execution_count": 319,
      "outputs": [
        {
          "output_type": "stream",
          "name": "stdout",
          "text": [
            "PURITY for KMeans = 0.37735849056603776\n",
            "PURITY for DB-BKM = 0.43911439114391143\n"
          ]
        }
      ]
    },
    {
      "cell_type": "markdown",
      "metadata": {
        "id": "SzZhf6VhX7bR"
      },
      "source": [
        "# WRITE THESE VALUES TO FILE - Result.csv\n",
        "# format:-\n",
        "SSE for Kmeans | SSE for DBSCAN | Entropy for KMeans | Entropy for DBSCAN | Purity for KMeans | Purity for DBSCAN (1x6 matrix)"
      ]
    },
    {
      "cell_type": "code",
      "metadata": {
        "id": "5oKiBe6aXJnk"
      },
      "source": [
        "# create a 1x6 matrix of result values\n",
        "res_mat = np.array([sse_KM, sse_DBKM, ent_KM, ent_DBKM, pur_KM, pur_DBKM]).reshape((1,-1))\n",
        "pd.DataFrame(res_mat).to_csv(\"Result.csv\", sep=',', header=False, index=False )"
      ],
      "execution_count": 120,
      "outputs": []
    },
    {
      "cell_type": "code",
      "metadata": {
        "id": "hoMfCVQOZm6U"
      },
      "source": [
        ""
      ],
      "execution_count": 120,
      "outputs": []
    }
  ]
}