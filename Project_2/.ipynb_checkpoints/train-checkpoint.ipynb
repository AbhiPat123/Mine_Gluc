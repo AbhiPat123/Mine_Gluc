{
 "cells": [
  {
   "cell_type": "code",
   "execution_count": 56,
   "metadata": {},
   "outputs": [],
   "source": [
    "import sys\n",
    "import numpy as np\n",
    "import pandas as pd\n",
    "import sklearn\n",
    "from sklearn.model_selection import train_test_split\n",
    "from sklearn import svm\n",
    "from sklearn.model_selection import cross_val_score\n",
    "from sklearn.metrics import accuracy_score\n",
    "from sklearn.metrics import precision_recall_fscore_support\n",
    "from scipy.fft import fft, ifft\n",
    "import pickle\n",
    "import matplotlib.pyplot as plt"
   ]
  },
  {
   "cell_type": "markdown",
   "metadata": {},
   "source": [
    "Read data along with parsed dates"
   ]
  },
  {
   "cell_type": "code",
   "execution_count": 2,
   "metadata": {},
   "outputs": [
    {
     "name": "stderr",
     "output_type": "stream",
     "text": [
      "C:\\Users\\abhis\\anaconda3\\lib\\site-packages\\IPython\\core\\interactiveshell.py:3071: DtypeWarning: Columns (32) have mixed types.Specify dtype option on import or set low_memory=False.\n",
      "  has_raised = await self.run_ast_nodes(code_ast.body, cell_name,\n",
      "C:\\Users\\abhis\\anaconda3\\lib\\site-packages\\IPython\\core\\interactiveshell.py:3071: DtypeWarning: Columns (13,43) have mixed types.Specify dtype option on import or set low_memory=False.\n",
      "  has_raised = await self.run_ast_nodes(code_ast.body, cell_name,\n",
      "C:\\Users\\abhis\\anaconda3\\lib\\site-packages\\IPython\\core\\interactiveshell.py:3071: DtypeWarning: Columns (9,10) have mixed types.Specify dtype option on import or set low_memory=False.\n",
      "  has_raised = await self.run_ast_nodes(code_ast.body, cell_name,\n"
     ]
    }
   ],
   "source": [
    "# assume CGMData.csv, CGM_patient2.csv and InsulinData.csv, Insulin_patient2.csv files are in compilation and execution folder\n",
    "# read data from the files - parse Date and Time columns as DateTime\n",
    "cgmDataPat_1_orig = pd.read_csv('CGMData.csv', parse_dates=[['Date', 'Time']])\n",
    "cgmDataPat_2_orig = pd.read_csv('CGM_patient2.csv', parse_dates=[['Date', 'Time']])\n",
    "insDataPat_1_orig = pd.read_csv('InsulinData.csv', parse_dates=[['Date', 'Time']])\n",
    "insDataPat_2_orig = pd.read_csv('Insulin_patient2.csv', parse_dates=[['Date', 'Time']])"
   ]
  },
  {
   "cell_type": "markdown",
   "metadata": {},
   "source": [
    "**STORE ORIG DATA IN VARIABLES** (to be able to make changes and keep reading csv everytime)"
   ]
  },
  {
   "cell_type": "code",
   "execution_count": 3,
   "metadata": {},
   "outputs": [],
   "source": [
    "# focus only on certain columns relevant to the dataset and Project 2\n",
    "cgmDataPat_1 = cgmDataPat_1_orig.loc[:, ['Date_Time', 'Sensor Glucose (mg/dL)']]\n",
    "cgmDataPat_2 = cgmDataPat_2_orig.loc[:, ['Date_Time', 'Sensor Glucose (mg/dL)']]\n",
    "insDataPat_1 = insDataPat_1_orig.loc[:, ['Date_Time', 'BWZ Carb Input (grams)']]\n",
    "insDataPat_2 = insDataPat_2_orig.loc[:, ['Date_Time', 'BWZ Carb Input (grams)']]"
   ]
  },
  {
   "cell_type": "markdown",
   "metadata": {},
   "source": [
    "# GET VALID DATE TIMES FOR MEAL DATA"
   ]
  },
  {
   "cell_type": "markdown",
   "metadata": {},
   "source": [
    "**WITHOUT FUNCTION TESTING ON PATIENT 1**"
   ]
  },
  {
   "cell_type": "markdown",
   "metadata": {},
   "source": [
    "COND 2: no tp between tm and tm + 2hrs"
   ]
  },
  {
   "cell_type": "code",
   "execution_count": 4,
   "metadata": {},
   "outputs": [],
   "source": [
    "carbInputCond = ~insDataPat_1['BWZ Carb Input (grams)'].isna() & insDataPat_1['BWZ Carb Input (grams)']!=0\n",
    "insCarbDT_1 = insDataPat_1[carbInputCond].copy(deep=True)"
   ]
  },
  {
   "cell_type": "code",
   "execution_count": 5,
   "metadata": {},
   "outputs": [],
   "source": [
    "carbInputCond = ~insDataPat_2['BWZ Carb Input (grams)'].isna() & insDataPat_2['BWZ Carb Input (grams)']!=0\n",
    "insCarbDT_2 = insDataPat_2[carbInputCond].copy(deep=True)"
   ]
  },
  {
   "cell_type": "code",
   "execution_count": 6,
   "metadata": {},
   "outputs": [
    {
     "data": {
      "text/html": [
       "<div>\n",
       "<style scoped>\n",
       "    .dataframe tbody tr th:only-of-type {\n",
       "        vertical-align: middle;\n",
       "    }\n",
       "\n",
       "    .dataframe tbody tr th {\n",
       "        vertical-align: top;\n",
       "    }\n",
       "\n",
       "    .dataframe thead th {\n",
       "        text-align: right;\n",
       "    }\n",
       "</style>\n",
       "<table border=\"1\" class=\"dataframe\">\n",
       "  <thead>\n",
       "    <tr style=\"text-align: right;\">\n",
       "      <th></th>\n",
       "      <th>Date_Time</th>\n",
       "      <th>BWZ Carb Input (grams)</th>\n",
       "    </tr>\n",
       "  </thead>\n",
       "  <tbody>\n",
       "    <tr>\n",
       "      <th>136</th>\n",
       "      <td>2018-03-06 20:53:35</td>\n",
       "      <td>50.0</td>\n",
       "    </tr>\n",
       "    <tr>\n",
       "      <th>215</th>\n",
       "      <td>2018-03-06 12:40:57</td>\n",
       "      <td>40.0</td>\n",
       "    </tr>\n",
       "    <tr>\n",
       "      <th>230</th>\n",
       "      <td>2018-03-06 10:22:37</td>\n",
       "      <td>60.0</td>\n",
       "    </tr>\n",
       "    <tr>\n",
       "      <th>381</th>\n",
       "      <td>2018-03-05 17:19:29</td>\n",
       "      <td>60.0</td>\n",
       "    </tr>\n",
       "    <tr>\n",
       "      <th>435</th>\n",
       "      <td>2018-03-05 11:52:19</td>\n",
       "      <td>45.0</td>\n",
       "    </tr>\n",
       "    <tr>\n",
       "      <th>...</th>\n",
       "      <td>...</td>\n",
       "      <td>...</td>\n",
       "    </tr>\n",
       "    <tr>\n",
       "      <th>23056</th>\n",
       "      <td>2017-09-06 13:22:26</td>\n",
       "      <td>33.0</td>\n",
       "    </tr>\n",
       "    <tr>\n",
       "      <th>23076</th>\n",
       "      <td>2017-09-06 08:48:28</td>\n",
       "      <td>60.0</td>\n",
       "    </tr>\n",
       "    <tr>\n",
       "      <th>23114</th>\n",
       "      <td>2017-09-05 19:32:23</td>\n",
       "      <td>50.0</td>\n",
       "    </tr>\n",
       "    <tr>\n",
       "      <th>23118</th>\n",
       "      <td>2017-09-05 19:32:06</td>\n",
       "      <td>52.0</td>\n",
       "    </tr>\n",
       "    <tr>\n",
       "      <th>23148</th>\n",
       "      <td>2017-09-05 13:14:52</td>\n",
       "      <td>38.0</td>\n",
       "    </tr>\n",
       "  </tbody>\n",
       "</table>\n",
       "<p>424 rows × 2 columns</p>\n",
       "</div>"
      ],
      "text/plain": [
       "                Date_Time  BWZ Carb Input (grams)\n",
       "136   2018-03-06 20:53:35                    50.0\n",
       "215   2018-03-06 12:40:57                    40.0\n",
       "230   2018-03-06 10:22:37                    60.0\n",
       "381   2018-03-05 17:19:29                    60.0\n",
       "435   2018-03-05 11:52:19                    45.0\n",
       "...                   ...                     ...\n",
       "23056 2017-09-06 13:22:26                    33.0\n",
       "23076 2017-09-06 08:48:28                    60.0\n",
       "23114 2017-09-05 19:32:23                    50.0\n",
       "23118 2017-09-05 19:32:06                    52.0\n",
       "23148 2017-09-05 13:14:52                    38.0\n",
       "\n",
       "[424 rows x 2 columns]"
      ]
     },
     "execution_count": 6,
     "metadata": {},
     "output_type": "execute_result"
    }
   ],
   "source": [
    "insCarbDT_2"
   ]
  },
  {
   "cell_type": "code",
   "execution_count": 7,
   "metadata": {},
   "outputs": [],
   "source": [
    "# the last date_time value definitely MEAL DATA because it has its own 2hours of uninterrupted data\n",
    "# get 3 hours value over last date_time\n",
    "DT_max_2h1m = max(insCarbDT_2['Date_Time']) + pd.DateOffset(hours=2, minutes=1)"
   ]
  },
  {
   "cell_type": "code",
   "execution_count": 8,
   "metadata": {},
   "outputs": [],
   "source": [
    "insCarbDT_2['Next_DT'] = insCarbDT_2['Date_Time'].shift(1, fill_value=DT_max_2h1m)\n",
    "insCarbDT_2['DT+2hrs'] = insCarbDT_2['Date_Time'] + pd.DateOffset(hours=2)"
   ]
  },
  {
   "cell_type": "code",
   "execution_count": 10,
   "metadata": {},
   "outputs": [
    {
     "data": {
      "text/html": [
       "<div>\n",
       "<style scoped>\n",
       "    .dataframe tbody tr th:only-of-type {\n",
       "        vertical-align: middle;\n",
       "    }\n",
       "\n",
       "    .dataframe tbody tr th {\n",
       "        vertical-align: top;\n",
       "    }\n",
       "\n",
       "    .dataframe thead th {\n",
       "        text-align: right;\n",
       "    }\n",
       "</style>\n",
       "<table border=\"1\" class=\"dataframe\">\n",
       "  <thead>\n",
       "    <tr style=\"text-align: right;\">\n",
       "      <th></th>\n",
       "      <th>Date_Time</th>\n",
       "      <th>Next_DT</th>\n",
       "      <th>DT+2hrs</th>\n",
       "    </tr>\n",
       "  </thead>\n",
       "  <tbody>\n",
       "    <tr>\n",
       "      <th>136</th>\n",
       "      <td>2018-03-06 20:53:35</td>\n",
       "      <td>2018-03-06 22:54:35</td>\n",
       "      <td>2018-03-06 22:53:35</td>\n",
       "    </tr>\n",
       "    <tr>\n",
       "      <th>215</th>\n",
       "      <td>2018-03-06 12:40:57</td>\n",
       "      <td>2018-03-06 20:53:35</td>\n",
       "      <td>2018-03-06 14:40:57</td>\n",
       "    </tr>\n",
       "    <tr>\n",
       "      <th>230</th>\n",
       "      <td>2018-03-06 10:22:37</td>\n",
       "      <td>2018-03-06 12:40:57</td>\n",
       "      <td>2018-03-06 12:22:37</td>\n",
       "    </tr>\n",
       "    <tr>\n",
       "      <th>381</th>\n",
       "      <td>2018-03-05 17:19:29</td>\n",
       "      <td>2018-03-06 10:22:37</td>\n",
       "      <td>2018-03-05 19:19:29</td>\n",
       "    </tr>\n",
       "    <tr>\n",
       "      <th>435</th>\n",
       "      <td>2018-03-05 11:52:19</td>\n",
       "      <td>2018-03-05 17:19:29</td>\n",
       "      <td>2018-03-05 13:52:19</td>\n",
       "    </tr>\n",
       "    <tr>\n",
       "      <th>...</th>\n",
       "      <td>...</td>\n",
       "      <td>...</td>\n",
       "      <td>...</td>\n",
       "    </tr>\n",
       "    <tr>\n",
       "      <th>23056</th>\n",
       "      <td>2017-09-06 13:22:26</td>\n",
       "      <td>2017-09-06 19:27:21</td>\n",
       "      <td>2017-09-06 15:22:26</td>\n",
       "    </tr>\n",
       "    <tr>\n",
       "      <th>23076</th>\n",
       "      <td>2017-09-06 08:48:28</td>\n",
       "      <td>2017-09-06 13:22:26</td>\n",
       "      <td>2017-09-06 10:48:28</td>\n",
       "    </tr>\n",
       "    <tr>\n",
       "      <th>23114</th>\n",
       "      <td>2017-09-05 19:32:23</td>\n",
       "      <td>2017-09-06 08:48:28</td>\n",
       "      <td>2017-09-05 21:32:23</td>\n",
       "    </tr>\n",
       "    <tr>\n",
       "      <th>23118</th>\n",
       "      <td>2017-09-05 19:32:06</td>\n",
       "      <td>2017-09-05 19:32:23</td>\n",
       "      <td>2017-09-05 21:32:06</td>\n",
       "    </tr>\n",
       "    <tr>\n",
       "      <th>23148</th>\n",
       "      <td>2017-09-05 13:14:52</td>\n",
       "      <td>2017-09-05 19:32:06</td>\n",
       "      <td>2017-09-05 15:14:52</td>\n",
       "    </tr>\n",
       "  </tbody>\n",
       "</table>\n",
       "<p>424 rows × 3 columns</p>\n",
       "</div>"
      ],
      "text/plain": [
       "                Date_Time             Next_DT             DT+2hrs\n",
       "136   2018-03-06 20:53:35 2018-03-06 22:54:35 2018-03-06 22:53:35\n",
       "215   2018-03-06 12:40:57 2018-03-06 20:53:35 2018-03-06 14:40:57\n",
       "230   2018-03-06 10:22:37 2018-03-06 12:40:57 2018-03-06 12:22:37\n",
       "381   2018-03-05 17:19:29 2018-03-06 10:22:37 2018-03-05 19:19:29\n",
       "435   2018-03-05 11:52:19 2018-03-05 17:19:29 2018-03-05 13:52:19\n",
       "...                   ...                 ...                 ...\n",
       "23056 2017-09-06 13:22:26 2017-09-06 19:27:21 2017-09-06 15:22:26\n",
       "23076 2017-09-06 08:48:28 2017-09-06 13:22:26 2017-09-06 10:48:28\n",
       "23114 2017-09-05 19:32:23 2017-09-06 08:48:28 2017-09-05 21:32:23\n",
       "23118 2017-09-05 19:32:06 2017-09-05 19:32:23 2017-09-05 21:32:06\n",
       "23148 2017-09-05 13:14:52 2017-09-05 19:32:06 2017-09-05 15:14:52\n",
       "\n",
       "[424 rows x 3 columns]"
      ]
     },
     "execution_count": 10,
     "metadata": {},
     "output_type": "execute_result"
    }
   ],
   "source": [
    "insCarbDT_2[['Date_Time','Next_DT','DT+2hrs']]"
   ]
  },
  {
   "cell_type": "code",
   "execution_count": 11,
   "metadata": {},
   "outputs": [],
   "source": [
    "btw2HrsCond = insCarbDT_2['Next_DT'].between(insCarbDT_2['Date_Time'], insCarbDT_2['DT+2hrs'], inclusive='neither')\n",
    "insCond2DT_2 = insCarbDT_2.loc[~btw2HrsCond]"
   ]
  },
  {
   "cell_type": "code",
   "execution_count": 15,
   "metadata": {},
   "outputs": [
    {
     "data": {
      "text/html": [
       "<div>\n",
       "<style scoped>\n",
       "    .dataframe tbody tr th:only-of-type {\n",
       "        vertical-align: middle;\n",
       "    }\n",
       "\n",
       "    .dataframe tbody tr th {\n",
       "        vertical-align: top;\n",
       "    }\n",
       "\n",
       "    .dataframe thead th {\n",
       "        text-align: right;\n",
       "    }\n",
       "</style>\n",
       "<table border=\"1\" class=\"dataframe\">\n",
       "  <thead>\n",
       "    <tr style=\"text-align: right;\">\n",
       "      <th></th>\n",
       "      <th>Date_Time</th>\n",
       "      <th>BWZ Carb Input (grams)</th>\n",
       "      <th>Next_DT</th>\n",
       "      <th>DT+2hrs</th>\n",
       "    </tr>\n",
       "  </thead>\n",
       "  <tbody>\n",
       "    <tr>\n",
       "      <th>136</th>\n",
       "      <td>2018-03-06 20:53:35</td>\n",
       "      <td>50.0</td>\n",
       "      <td>2018-03-06 22:54:35</td>\n",
       "      <td>2018-03-06 22:53:35</td>\n",
       "    </tr>\n",
       "    <tr>\n",
       "      <th>215</th>\n",
       "      <td>2018-03-06 12:40:57</td>\n",
       "      <td>40.0</td>\n",
       "      <td>2018-03-06 20:53:35</td>\n",
       "      <td>2018-03-06 14:40:57</td>\n",
       "    </tr>\n",
       "    <tr>\n",
       "      <th>230</th>\n",
       "      <td>2018-03-06 10:22:37</td>\n",
       "      <td>60.0</td>\n",
       "      <td>2018-03-06 12:40:57</td>\n",
       "      <td>2018-03-06 12:22:37</td>\n",
       "    </tr>\n",
       "    <tr>\n",
       "      <th>381</th>\n",
       "      <td>2018-03-05 17:19:29</td>\n",
       "      <td>60.0</td>\n",
       "      <td>2018-03-06 10:22:37</td>\n",
       "      <td>2018-03-05 19:19:29</td>\n",
       "    </tr>\n",
       "    <tr>\n",
       "      <th>435</th>\n",
       "      <td>2018-03-05 11:52:19</td>\n",
       "      <td>45.0</td>\n",
       "      <td>2018-03-05 17:19:29</td>\n",
       "      <td>2018-03-05 13:52:19</td>\n",
       "    </tr>\n",
       "    <tr>\n",
       "      <th>...</th>\n",
       "      <td>...</td>\n",
       "      <td>...</td>\n",
       "      <td>...</td>\n",
       "      <td>...</td>\n",
       "    </tr>\n",
       "    <tr>\n",
       "      <th>23038</th>\n",
       "      <td>2017-09-06 19:27:21</td>\n",
       "      <td>53.0</td>\n",
       "      <td>2017-09-07 07:38:07</td>\n",
       "      <td>2017-09-06 21:27:21</td>\n",
       "    </tr>\n",
       "    <tr>\n",
       "      <th>23056</th>\n",
       "      <td>2017-09-06 13:22:26</td>\n",
       "      <td>33.0</td>\n",
       "      <td>2017-09-06 19:27:21</td>\n",
       "      <td>2017-09-06 15:22:26</td>\n",
       "    </tr>\n",
       "    <tr>\n",
       "      <th>23076</th>\n",
       "      <td>2017-09-06 08:48:28</td>\n",
       "      <td>60.0</td>\n",
       "      <td>2017-09-06 13:22:26</td>\n",
       "      <td>2017-09-06 10:48:28</td>\n",
       "    </tr>\n",
       "    <tr>\n",
       "      <th>23114</th>\n",
       "      <td>2017-09-05 19:32:23</td>\n",
       "      <td>50.0</td>\n",
       "      <td>2017-09-06 08:48:28</td>\n",
       "      <td>2017-09-05 21:32:23</td>\n",
       "    </tr>\n",
       "    <tr>\n",
       "      <th>23148</th>\n",
       "      <td>2017-09-05 13:14:52</td>\n",
       "      <td>38.0</td>\n",
       "      <td>2017-09-05 19:32:06</td>\n",
       "      <td>2017-09-05 15:14:52</td>\n",
       "    </tr>\n",
       "  </tbody>\n",
       "</table>\n",
       "<p>404 rows × 4 columns</p>\n",
       "</div>"
      ],
      "text/plain": [
       "                Date_Time  BWZ Carb Input (grams)             Next_DT  \\\n",
       "136   2018-03-06 20:53:35                    50.0 2018-03-06 22:54:35   \n",
       "215   2018-03-06 12:40:57                    40.0 2018-03-06 20:53:35   \n",
       "230   2018-03-06 10:22:37                    60.0 2018-03-06 12:40:57   \n",
       "381   2018-03-05 17:19:29                    60.0 2018-03-06 10:22:37   \n",
       "435   2018-03-05 11:52:19                    45.0 2018-03-05 17:19:29   \n",
       "...                   ...                     ...                 ...   \n",
       "23038 2017-09-06 19:27:21                    53.0 2017-09-07 07:38:07   \n",
       "23056 2017-09-06 13:22:26                    33.0 2017-09-06 19:27:21   \n",
       "23076 2017-09-06 08:48:28                    60.0 2017-09-06 13:22:26   \n",
       "23114 2017-09-05 19:32:23                    50.0 2017-09-06 08:48:28   \n",
       "23148 2017-09-05 13:14:52                    38.0 2017-09-05 19:32:06   \n",
       "\n",
       "                  DT+2hrs  \n",
       "136   2018-03-06 22:53:35  \n",
       "215   2018-03-06 14:40:57  \n",
       "230   2018-03-06 12:22:37  \n",
       "381   2018-03-05 19:19:29  \n",
       "435   2018-03-05 13:52:19  \n",
       "...                   ...  \n",
       "23038 2017-09-06 21:27:21  \n",
       "23056 2017-09-06 15:22:26  \n",
       "23076 2017-09-06 10:48:28  \n",
       "23114 2017-09-05 21:32:23  \n",
       "23148 2017-09-05 15:14:52  \n",
       "\n",
       "[404 rows x 4 columns]"
      ]
     },
     "execution_count": 15,
     "metadata": {},
     "output_type": "execute_result"
    }
   ],
   "source": [
    "insCond2DT_2"
   ]
  },
  {
   "cell_type": "markdown",
   "metadata": {},
   "source": [
    "COND 3: if tp is EXACTLY at tm+2hrs then keep both"
   ]
  },
  {
   "cell_type": "code",
   "execution_count": 17,
   "metadata": {},
   "outputs": [],
   "source": [
    "# because we set the between function to have inclusive = 'neither' it keeps the above cond 3 true\n",
    "# Now, only extract the Date_Time values\n",
    "insValDT_2 = insCond2DT_2.loc[:, ['Date_Time']]"
   ]
  },
  {
   "cell_type": "code",
   "execution_count": 18,
   "metadata": {},
   "outputs": [
    {
     "data": {
      "text/html": [
       "<div>\n",
       "<style scoped>\n",
       "    .dataframe tbody tr th:only-of-type {\n",
       "        vertical-align: middle;\n",
       "    }\n",
       "\n",
       "    .dataframe tbody tr th {\n",
       "        vertical-align: top;\n",
       "    }\n",
       "\n",
       "    .dataframe thead th {\n",
       "        text-align: right;\n",
       "    }\n",
       "</style>\n",
       "<table border=\"1\" class=\"dataframe\">\n",
       "  <thead>\n",
       "    <tr style=\"text-align: right;\">\n",
       "      <th></th>\n",
       "      <th>Date_Time</th>\n",
       "    </tr>\n",
       "  </thead>\n",
       "  <tbody>\n",
       "    <tr>\n",
       "      <th>136</th>\n",
       "      <td>2018-03-06 20:53:35</td>\n",
       "    </tr>\n",
       "    <tr>\n",
       "      <th>215</th>\n",
       "      <td>2018-03-06 12:40:57</td>\n",
       "    </tr>\n",
       "    <tr>\n",
       "      <th>230</th>\n",
       "      <td>2018-03-06 10:22:37</td>\n",
       "    </tr>\n",
       "    <tr>\n",
       "      <th>381</th>\n",
       "      <td>2018-03-05 17:19:29</td>\n",
       "    </tr>\n",
       "    <tr>\n",
       "      <th>435</th>\n",
       "      <td>2018-03-05 11:52:19</td>\n",
       "    </tr>\n",
       "    <tr>\n",
       "      <th>...</th>\n",
       "      <td>...</td>\n",
       "    </tr>\n",
       "    <tr>\n",
       "      <th>23038</th>\n",
       "      <td>2017-09-06 19:27:21</td>\n",
       "    </tr>\n",
       "    <tr>\n",
       "      <th>23056</th>\n",
       "      <td>2017-09-06 13:22:26</td>\n",
       "    </tr>\n",
       "    <tr>\n",
       "      <th>23076</th>\n",
       "      <td>2017-09-06 08:48:28</td>\n",
       "    </tr>\n",
       "    <tr>\n",
       "      <th>23114</th>\n",
       "      <td>2017-09-05 19:32:23</td>\n",
       "    </tr>\n",
       "    <tr>\n",
       "      <th>23148</th>\n",
       "      <td>2017-09-05 13:14:52</td>\n",
       "    </tr>\n",
       "  </tbody>\n",
       "</table>\n",
       "<p>404 rows × 1 columns</p>\n",
       "</div>"
      ],
      "text/plain": [
       "                Date_Time\n",
       "136   2018-03-06 20:53:35\n",
       "215   2018-03-06 12:40:57\n",
       "230   2018-03-06 10:22:37\n",
       "381   2018-03-05 17:19:29\n",
       "435   2018-03-05 11:52:19\n",
       "...                   ...\n",
       "23038 2017-09-06 19:27:21\n",
       "23056 2017-09-06 13:22:26\n",
       "23076 2017-09-06 08:48:28\n",
       "23114 2017-09-05 19:32:23\n",
       "23148 2017-09-05 13:14:52\n",
       "\n",
       "[404 rows x 1 columns]"
      ]
     },
     "execution_count": 18,
     "metadata": {},
     "output_type": "execute_result"
    }
   ],
   "source": [
    "insValDT_2"
   ]
  },
  {
   "cell_type": "markdown",
   "metadata": {},
   "source": [
    "COND 1: keep tm-30min to tm+2hs as the MEAL interval to consider"
   ]
  },
  {
   "cell_type": "code",
   "execution_count": 188,
   "metadata": {},
   "outputs": [],
   "source": [
    "# transform the valid date time values into a form suitable for CGMData comparison\n",
    "# Consider:\n",
    "#    - start time as: DT-30min\n",
    "#    - end time as:   DT+2hrs\n",
    "# therefore TWO total columns + the Date_Time column\n",
    "insValDT_1['Start_DT'] = insValDT_1['Date_Time'] - pd.DateOffset(minutes=30)\n",
    "insValDT_1['End_DT'] = insValDT_1['Date_Time'] + pd.DateOffset(hours=2)\n",
    "insValDT_1 = insValDT_1[['Start_DT', 'Date_Time', 'End_DT']]"
   ]
  },
  {
   "cell_type": "markdown",
   "metadata": {},
   "source": [
    "**WITH FUNCTION CREATING VALID MD BOTH PATIENTS 1 and 2**"
   ]
  },
  {
   "cell_type": "markdown",
   "metadata": {},
   "source": [
    "\\# create function to extract valid Date_Time for MEAL DATA"
   ]
  },
  {
   "cell_type": "code",
   "execution_count": 4,
   "metadata": {},
   "outputs": [],
   "source": [
    "# MD - Meal Data and DT - Date_Time\n",
    "# passes the insulinData to find valid meal DateTimes\n",
    "def extractMDDT(ins_extrct_DT):\n",
    "    # create condition to check non-NaN, non-Zero carb input values\n",
    "    carbInputCond = ~ins_extrct_DT['BWZ Carb Input (grams)'].isna() & ins_extrct_DT['BWZ Carb Input (grams)']!=0\n",
    "    # select those Date_Times\n",
    "    insCarbDT = ins_extrct_DT[carbInputCond].copy(deep=True)\n",
    "    \n",
    "    # the latest date_time value is considered MEAL DATA\n",
    "    # later we can check if the amount of data in this period is <80% then remove\n",
    "    # else we keep it\n",
    "    DT_max_2h1m = max(insCarbDT['Date_Time']) + pd.DateOffset(hours=2, minutes=1)\n",
    "    \n",
    "    # create columns for next Date_TIME(DT) and DT+2hrs\n",
    "    insCarbDT['Next_DT'] = insCarbDT['Date_Time'].shift(1, fill_value=DT_max_2h1m)\n",
    "    insCarbDT['DT+2hrs'] = insCarbDT['Date_Time'] + pd.DateOffset(hours=2)\n",
    "    \n",
    "    # conddition to check if Next_DT is between DT and DT+2hrs\n",
    "    btw2HrsCond = insCarbDT['Next_DT'].between(insCarbDT['Date_Time'], insCarbDT['DT+2hrs'], inclusive='neither')\n",
    "    insCond2DT = insCarbDT.loc[~btw2HrsCond]\n",
    "    \n",
    "    # because we set the between function to have inclusive = 'neither' it keeps cond 3 true\n",
    "    # Now, only extract the Date_Time values\n",
    "    insValDT = insCond2DT.loc[:, ['Date_Time']]\n",
    "    \n",
    "    return insValDT, insCarbDT"
   ]
  },
  {
   "cell_type": "code",
   "execution_count": 5,
   "metadata": {},
   "outputs": [],
   "source": [
    "# run the extract_MD_DT function to get valid Date_Time values\n",
    "insValDT_1, insCarbDT_1 = extractMDDT(insDataPat_1)\n",
    "insValDT_2, insCarbDT_2 = extractMDDT(insDataPat_2)"
   ]
  },
  {
   "cell_type": "code",
   "execution_count": 6,
   "metadata": {},
   "outputs": [
    {
     "data": {
      "text/html": [
       "<div>\n",
       "<style scoped>\n",
       "    .dataframe tbody tr th:only-of-type {\n",
       "        vertical-align: middle;\n",
       "    }\n",
       "\n",
       "    .dataframe tbody tr th {\n",
       "        vertical-align: top;\n",
       "    }\n",
       "\n",
       "    .dataframe thead th {\n",
       "        text-align: right;\n",
       "    }\n",
       "</style>\n",
       "<table border=\"1\" class=\"dataframe\">\n",
       "  <thead>\n",
       "    <tr style=\"text-align: right;\">\n",
       "      <th></th>\n",
       "      <th>Date_Time</th>\n",
       "    </tr>\n",
       "  </thead>\n",
       "  <tbody>\n",
       "    <tr>\n",
       "      <th>48</th>\n",
       "      <td>2018-02-12 09:15:45</td>\n",
       "    </tr>\n",
       "    <tr>\n",
       "      <th>129</th>\n",
       "      <td>2018-02-12 02:30:55</td>\n",
       "    </tr>\n",
       "    <tr>\n",
       "      <th>188</th>\n",
       "      <td>2018-02-11 20:33:18</td>\n",
       "    </tr>\n",
       "    <tr>\n",
       "      <th>207</th>\n",
       "      <td>2018-02-11 18:14:37</td>\n",
       "    </tr>\n",
       "    <tr>\n",
       "      <th>261</th>\n",
       "      <td>2018-02-11 12:43:23</td>\n",
       "    </tr>\n",
       "    <tr>\n",
       "      <th>...</th>\n",
       "      <td>...</td>\n",
       "    </tr>\n",
       "    <tr>\n",
       "      <th>41172</th>\n",
       "      <td>2017-07-27 05:45:51</td>\n",
       "    </tr>\n",
       "    <tr>\n",
       "      <th>41214</th>\n",
       "      <td>2017-07-26 19:15:06</td>\n",
       "    </tr>\n",
       "    <tr>\n",
       "      <th>41261</th>\n",
       "      <td>2017-07-26 12:48:41</td>\n",
       "    </tr>\n",
       "    <tr>\n",
       "      <th>41347</th>\n",
       "      <td>2017-07-25 18:31:40</td>\n",
       "    </tr>\n",
       "    <tr>\n",
       "      <th>41393</th>\n",
       "      <td>2017-07-25 10:39:46</td>\n",
       "    </tr>\n",
       "  </tbody>\n",
       "</table>\n",
       "<p>604 rows × 1 columns</p>\n",
       "</div>"
      ],
      "text/plain": [
       "                Date_Time\n",
       "48    2018-02-12 09:15:45\n",
       "129   2018-02-12 02:30:55\n",
       "188   2018-02-11 20:33:18\n",
       "207   2018-02-11 18:14:37\n",
       "261   2018-02-11 12:43:23\n",
       "...                   ...\n",
       "41172 2017-07-27 05:45:51\n",
       "41214 2017-07-26 19:15:06\n",
       "41261 2017-07-26 12:48:41\n",
       "41347 2017-07-25 18:31:40\n",
       "41393 2017-07-25 10:39:46\n",
       "\n",
       "[604 rows x 1 columns]"
      ]
     },
     "execution_count": 6,
     "metadata": {},
     "output_type": "execute_result"
    }
   ],
   "source": [
    "insValDT_1"
   ]
  },
  {
   "cell_type": "markdown",
   "metadata": {},
   "source": [
    "# GET SENSOR VALUES IN CGMData FOR VALID DTs FOR MEAL DATA"
   ]
  },
  {
   "cell_type": "code",
   "execution_count": 25,
   "metadata": {},
   "outputs": [],
   "source": [
    "# for each of valid Date_time get corresponding CGM DT after (but earliest) time\n",
    "cgmValDT_1 = insValDT_1['Date_Time'].apply( lambda x: cgmDataPat_1[cgmDataPat_1['Date_Time'] >= x]['Date_Time'].min() )\n",
    "cgmValDT_2 = insValDT_2['Date_Time'].apply( lambda x: cgmDataPat_2[cgmDataPat_2['Date_Time'] >= x]['Date_Time'].min() )"
   ]
  },
  {
   "cell_type": "code",
   "execution_count": 33,
   "metadata": {},
   "outputs": [
    {
     "data": {
      "text/plain": [
       "23148   2017-09-05 13:16:21\n",
       "23114   2017-09-05 19:36:23\n",
       "23076   2017-09-06 08:51:26\n",
       "23056   2017-09-06 13:26:28\n",
       "23038   2017-09-06 19:31:29\n",
       "                ...        \n",
       "435     2018-03-05 11:55:36\n",
       "381     2018-03-05 17:20:38\n",
       "230     2018-03-06 10:25:43\n",
       "215     2018-03-06 12:45:43\n",
       "136     2018-03-06 20:55:43\n",
       "Name: Date_Time, Length: 404, dtype: datetime64[ns]"
      ]
     },
     "execution_count": 33,
     "metadata": {},
     "output_type": "execute_result"
    }
   ],
   "source": [
    "cgmValDT_2.iloc[::-1]"
   ]
  },
  {
   "cell_type": "code",
   "execution_count": 43,
   "metadata": {},
   "outputs": [],
   "source": [
    "meal_data_mat_ls_2 = []\n",
    "lens_2 = []\n",
    "for (ind, val) in cgmValDT_2.iloc[::-1].iteritems():\n",
    "    # different masks give different possible lengths of sensor values\n",
    "    # the chosen mask exclude the time exactly at \n",
    "    #print(val)\n",
    "    mask = (cgmDataPat_2['Date_Time'] >= val-pd.DateOffset(minutes=30)) & (cgmDataPat_2['Date_Time'] < val+pd.DateOffset(hours=2))\n",
    "    vals = np.array(cgmDataPat_2.loc[mask]['Sensor Glucose (mg/dL)'].iloc[::-1])\n",
    "    meal_data_mat_ls_2.append( vals )\n",
    "    lens_2.append( len(vals) )"
   ]
  },
  {
   "cell_type": "code",
   "execution_count": 44,
   "metadata": {},
   "outputs": [
    {
     "data": {
      "text/plain": [
       "(array([ 7, 18, 21, 22, 24, 25, 26, 27, 28, 29, 30, 35]),\n",
       " array([  2,   1,   1,   1,  45,   1,   3,   1,   1,  24, 323,   1],\n",
       "       dtype=int64))"
      ]
     },
     "execution_count": 44,
     "metadata": {},
     "output_type": "execute_result"
    }
   ],
   "source": [
    "np.unique(lens_2, return_counts=True)"
   ]
  },
  {
   "cell_type": "markdown",
   "metadata": {},
   "source": [
    "\\# create function to create feature matrix from valid DateTimes"
   ]
  },
  {
   "cell_type": "code",
   "execution_count": 117,
   "metadata": {},
   "outputs": [],
   "source": [
    "def getMDFeatMat(insValDT_, cgmDataPat_, threshold):\n",
    "    # for each of valid Date_time get corresponding CGM DT after (but earliest) time\n",
    "    cgmValDT = insValDT_['Date_Time'].apply( lambda x: cgmDataPat_[cgmDataPat_['Date_Time'] >= x]['Date_Time'].min() )\n",
    "    \n",
    "    cgmDataList = []\n",
    "    lengthsList = []\n",
    "    \n",
    "    for (ind, val) in cgmValDT.iloc[::-1].iteritems():\n",
    "        # different masks give different possible lengths of sensor values\n",
    "        # the chosen mask exclude the time exactly at tm+2hrs (gives more samples to train)\n",
    "        mask = (cgmDataPat_['Date_Time'] >= val) & (cgmDataPat_['Date_Time'] < val+pd.DateOffset(hours=2))\n",
    "        sens_vals = np.array(cgmDataPat_.loc[mask]['Sensor Glucose (mg/dL)'].iloc[::-1])\n",
    "        \n",
    "        nonNALen = np.count_nonzero(~np.isnan(sens_vals))\n",
    "        \n",
    "        # we only want the data if the non-NaN is 80% or more of 30 (>=24)\n",
    "        # AND also the length of data is 30\n",
    "        if (len(sens_vals)==24 and nonNALen >= (threshold/100)*30):\n",
    "            cgmDataList.append( sens_vals )\n",
    "            lengthsList.append( nonNALen )\n",
    "            \n",
    "    cgmDataList = np.vstack(cgmDataList)\n",
    "    return {'ft_mat': cgmDataList, 'lengths': lengthsList, 'cgmValDT':cgmValDT}"
   ]
  },
  {
   "cell_type": "code",
   "execution_count": 118,
   "metadata": {},
   "outputs": [],
   "source": [
    "# provide threshold in percentage\n",
    "threshold_MD = 65\n",
    "mealDictPat_1 = getMDFeatMat(insValDT_1, cgmDataPat_1, threshold_MD)\n",
    "mealDictPat_2 = getMDFeatMat(insValDT_2, cgmDataPat_2, threshold_MD)\n",
    "# feature matrices\n",
    "mat_MDPat_1 = mealDictPat_1['ft_mat']\n",
    "mat_MDPat_2 = mealDictPat_2['ft_mat']"
   ]
  },
  {
   "cell_type": "code",
   "execution_count": 17,
   "metadata": {},
   "outputs": [
    {
     "data": {
      "text/plain": [
       "array([ 58.,  59.,  63.,  71.,  81., 102., 131., 140., 147., 153., 159.,\n",
       "       163., 159., 153., 151., 155., 163., 164.,  nan, 166., 168., 164.,\n",
       "       169., 178., 184., 190., 195., 198., 203., 196.])"
      ]
     },
     "execution_count": 17,
     "metadata": {},
     "output_type": "execute_result"
    }
   ],
   "source": [
    "mealDictPat_1['ft_mat'][0]"
   ]
  },
  {
   "cell_type": "code",
   "execution_count": 53,
   "metadata": {},
   "outputs": [
    {
     "data": {
      "text/plain": [
       "477"
      ]
     },
     "execution_count": 53,
     "metadata": {},
     "output_type": "execute_result"
    }
   ],
   "source": [
    "len(mealDictPat_1['ft_mat'])"
   ]
  },
  {
   "cell_type": "markdown",
   "metadata": {},
   "source": [
    "\\# thus we get two matrices for two patients for MEAL DATA"
   ]
  },
  {
   "cell_type": "code",
   "execution_count": 9,
   "metadata": {},
   "outputs": [],
   "source": [
    "# feature matrices\n",
    "mat_MDPat_1 = mealDictPat_1['ft_mat']\n",
    "mat_MDPat_2 = mealDictPat_2['ft_mat']"
   ]
  },
  {
   "cell_type": "markdown",
   "metadata": {},
   "source": [
    "# NO-MEAL DATA"
   ]
  },
  {
   "cell_type": "code",
   "execution_count": 18,
   "metadata": {},
   "outputs": [],
   "source": [
    "# used/valid Meal DateTimes that are present in the feature matrix\n",
    "cgmVal_1 = mealDictPat_1['cgmValDT']\n",
    "cgmVal_2 = mealDictPat_2['cgmValDT']"
   ]
  },
  {
   "cell_type": "code",
   "execution_count": 266,
   "metadata": {},
   "outputs": [
    {
     "data": {
      "text/plain": [
       "136     2018-03-06 20:55:43\n",
       "215     2018-03-06 12:45:43\n",
       "230     2018-03-06 10:25:43\n",
       "381     2018-03-05 17:20:38\n",
       "435     2018-03-05 11:55:36\n",
       "                ...        \n",
       "23038   2017-09-06 19:31:29\n",
       "23056   2017-09-06 13:26:28\n",
       "23076   2017-09-06 08:51:26\n",
       "23114   2017-09-05 19:36:23\n",
       "23148   2017-09-05 13:16:21\n",
       "Name: Date_Time, Length: 404, dtype: datetime64[ns]"
      ]
     },
     "execution_count": 266,
     "metadata": {},
     "output_type": "execute_result"
    }
   ],
   "source": [
    "cgmVal_2"
   ]
  },
  {
   "cell_type": "code",
   "execution_count": 257,
   "metadata": {},
   "outputs": [],
   "source": [
    "def listMaker(sens_vals, threshold):\n",
    "    nonNALen = np.count_nonzero(~np.isnan(sens_vals))\n",
    "    if (len(sens_vals)==24 and nonNALen >= (threshold/100)*24):\n",
    "        return list(sens_vals)\n",
    "    else:\n",
    "        return None"
   ]
  },
  {
   "cell_type": "code",
   "execution_count": 227,
   "metadata": {},
   "outputs": [],
   "source": [
    "# get the max DT for the cgmData of each patient\n",
    "cgmMaxDT_1 = cgmDataPat_1['Date_Time'].max()\n",
    "cgmMaxDT_2 = cgmDataPat_2['Date_Time'].max()\n",
    "\n",
    "# reverse the series values (chrono order)\n",
    "cgmVal_1 = cgmVal_1[::-1]\n",
    "cgmVal_2 = cgmVal_2[::-1]\n",
    "\n",
    "# add maximum DT to the series\n",
    "cgmVal_1 = cgmVal_1.append(pd.Series(cgmMaxDT_1), ignore_index=True)\n",
    "cgmVal_2 = cgmVal_2.append(pd.Series(cgmMaxDT_2), ignore_index=True)"
   ]
  },
  {
   "cell_type": "code",
   "execution_count": 240,
   "metadata": {},
   "outputs": [
    {
     "data": {
      "text/plain": [
       "0     2017-09-05 13:16:21\n",
       "1     2017-09-05 19:36:23\n",
       "2     2017-09-06 08:51:26\n",
       "3     2017-09-06 13:26:28\n",
       "4     2017-09-06 19:31:29\n",
       "              ...        \n",
       "400   2018-03-05 17:20:38\n",
       "401   2018-03-06 10:25:43\n",
       "402   2018-03-06 12:45:43\n",
       "403   2018-03-06 20:55:43\n",
       "404   2018-03-07 11:30:48\n",
       "Length: 405, dtype: datetime64[ns]"
      ]
     },
     "execution_count": 240,
     "metadata": {},
     "output_type": "execute_result"
    }
   ],
   "source": [
    "cgmVal_2"
   ]
  },
  {
   "cell_type": "code",
   "execution_count": 246,
   "metadata": {},
   "outputs": [
    {
     "name": "stdout",
     "output_type": "stream",
     "text": [
      "2017-09-05 13:16:21\n",
      "24\n",
      "24\n"
     ]
    }
   ],
   "source": [
    "# variable storing list of lists of CGM values of No Meal Data\n",
    "cgmNMDataList = []\n",
    "\n",
    "# loop through rest of the valid Meal DTs in cgmVal\n",
    "for ind, val in cgmVal_2[:-1].iteritems():\n",
    "    if (ind == 0):\n",
    "        # MDT = Meal DateTime\n",
    "        cur_MDT = val\n",
    "        print(cur_MDT)\n",
    "        cur_MDT_2h = cur_MDT + pd.DateOffset(hours=2)\n",
    "        next_MDT = cgmVal_2[ind+1]\n",
    "        # loop to get multiple 2hrs intervals\n",
    "        # start loop at cur_MDT_2h to cur_MDT_2h + 2hrs\n",
    "        start_MDT = cur_MDT_2h\n",
    "        next_2hr_MDT = cur_MDT_2h + pd.DateOffset(hours=2)\n",
    "        while(next_2hr_MDT <= next_MDT):            \n",
    "            mask = ((cgmDataPat_2['Date_Time'] >= start_MDT) & (cgmDataPat_2['Date_Time'] < next_2hr_MDT))\n",
    "            # get values of that mask added to cgmNMDataList\n",
    "            mask_vals = np.array(cgmDataPat_2.loc[mask]['Sensor Glucose (mg/dL)'])\n",
    "            nonNALen = np.count_nonzero(~np.isnan(mask_vals))\n",
    "            if (len(mask_vals)==24 and nonNALen >= (threshold/100)*24):\n",
    "                print(len(mask_vals))\n",
    "                cgmNMDataList.append(cgmDataPat_2.loc[mask]['Sensor Glucose (mg/dL)'][::-1].tolist())\n",
    "            # update vaues\n",
    "            start_MDT = next_2hr_MDT\n",
    "            next_2hr_MDT = next_2hr_MDT + pd.DateOffset(hours=2)\n",
    "        # ensure that cur_MDT + 2hours is less than next_MDT\n",
    "        #if (cur_MDT_2h < next_MDT):    \n",
    "            #mask = ((cgmDataPat_1['Date_Time'] > cur_MDT_2h) & (cgmDataPat_1['Date_Time'] < next_MDT))\n",
    "            #cgmNMDataList.extend(cgmDataPat_1.loc[mask].groupby(pd.Grouper(key='Date_Time', freq='2H'))['Sensor Glucose (mg/dL)'].apply(lambda x: listMaker(x, threshold)))"
   ]
  },
  {
   "cell_type": "code",
   "execution_count": 247,
   "metadata": {},
   "outputs": [
    {
     "data": {
      "text/plain": [
       "array([[177., 175., 175., 175., 170., 161., 146., 134., 148., 154., 147.,\n",
       "        144., 142., 137., 127., 119., 108., 100.,  92.,  94., 102., 102.,\n",
       "         99.,  97.],\n",
       "       [ 93.,  88.,  83.,  76.,  68.,  67.,  69.,  73.,  80.,  97., 112.,\n",
       "        126., 130., 137., 140., 135., 134., 132., 128., 125., 126., 127.,\n",
       "        131., 132.]])"
      ]
     },
     "execution_count": 247,
     "metadata": {},
     "output_type": "execute_result"
    }
   ],
   "source": [
    "np.array(cgmNMDataList)"
   ]
  },
  {
   "cell_type": "markdown",
   "metadata": {},
   "source": [
    "**FUNCTION FOR NO MEAL DATA**"
   ]
  },
  {
   "cell_type": "code",
   "execution_count": 129,
   "metadata": {},
   "outputs": [],
   "source": [
    "# function to extract No Meal Data feature matrix\n",
    "# NMD for No Meal Data\n",
    "def getNMDFeatMat(insVal_, cgmMDVal_, cgmDataPat_, threshold):\n",
    "    # from the insVal_ get datetime in cgm table\n",
    "    cgmVal_ = insVal_['Date_Time'].apply( lambda x: cgmDataPat_[cgmDataPat_['Date_Time'] >= x]['Date_Time'].min() )\n",
    "    \n",
    "    # get the max DT for the cgmData of each patient\n",
    "    cgmMaxDT = cgmDataPat_['Date_Time'].max()\n",
    "    \n",
    "    # reverse the series values (chrono order)\n",
    "    cgmVal_ = cgmVal_[::-1]\n",
    "    \n",
    "    # add maximum DT to the series\n",
    "    cgmVal_ = cgmVal_.append(pd.Series(cgmMaxDT), ignore_index=True)\n",
    "    \n",
    "    # variable storing list of lists of CGM values of No Meal Data\n",
    "    cgmNMDataList = []\n",
    "    \n",
    "    # loop through the valid Meal DTs in cgmVal\n",
    "    # start from 2hrs after a meal (i.e. at cgmVal_[1])\n",
    "    for ind, val in cgmVal_[:-1].iteritems():\n",
    "        # MDT = Meal DateTime\n",
    "        cur_MDT = val\n",
    "        #print(\"cur_MDT: \"+str(cur_MDT))\n",
    "        cur_MDT_2h = cur_MDT + pd.DateOffset(hours=2)\n",
    "        #print(\"cur_MDT_2h: \"+str(cur_MDT_2h))\n",
    "        next_MDT = cgmVal_[ind+1]\n",
    "        #print(\"next_MDT: \"+str(next_MDT))\n",
    "        # loop to get multiple 2hrs intervals\n",
    "        # start loop at cur_MDT_2h to cur_MDT_2h + 2hrs\n",
    "        start_MDT = cur_MDT_2h\n",
    "        #print(\"start_MDT: \"+str(start_MDT))\n",
    "        next_2hr_MDT = cur_MDT_2h + pd.DateOffset(hours=2)\n",
    "        #print(\"next_2hr_MDT: \"+str(next_2hr_MDT))\n",
    "        # we want to look for 2hour intervals until next_MDT\n",
    "        # if next_MDT is a value in cgmMDVal_ then it was a valid meal DT\n",
    "        # only for such DTs we use next_MDT_lim which is 30 min before the next_MDT\n",
    "        next_MDT_off = next_MDT\n",
    "        if next_MDT in cgmMDVal_:\n",
    "            next_MDT_off = next_MDT-pd.DateOffset(minutes=30)\n",
    "        #print(next_MDT in cgmMDVal_)\n",
    "        while(next_2hr_MDT <= next_MDT_off):            \n",
    "            mask = ((cgmDataPat_['Date_Time'] > start_MDT) & (cgmDataPat_['Date_Time'] <= next_2hr_MDT))\n",
    "            # get values of that mask added to cgmNMDataList\n",
    "            mask_vals = np.array(cgmDataPat_.loc[mask]['Sensor Glucose (mg/dL)'])\n",
    "            nonNALen = np.count_nonzero(~np.isnan(mask_vals))\n",
    "            if (len(mask_vals)==24 and nonNALen >= (threshold/100)*24):\n",
    "                cgmNMDataList.append(cgmDataPat_.loc[mask]['Sensor Glucose (mg/dL)'][::-1].tolist())\n",
    "            # update vaues\n",
    "            start_MDT = next_2hr_MDT\n",
    "            #print(\"start_MDT: \"+str(start_MDT))\n",
    "            next_2hr_MDT = next_2hr_MDT + pd.DateOffset(hours=2)\n",
    "            #print(\"next_2hr_MDT: \"+str(next_2hr_MDT))\n",
    "        \n",
    "    # return the feature matrix\n",
    "    return np.array(cgmNMDataList)"
   ]
  },
  {
   "cell_type": "code",
   "execution_count": 130,
   "metadata": {},
   "outputs": [],
   "source": [
    "# DEFINE threshold\n",
    "threshold_NMD = 100\n",
    "mat_NMDPat_1 = getNMDFeatMat(insCarbDT_1, cgmVal_1, cgmDataPat_1, threshold_NMD)\n",
    "mat_NMDPat_2 = getNMDFeatMat(insCarbDT_2, cgmVal_2, cgmDataPat_2, threshold_NMD)"
   ]
  },
  {
   "cell_type": "code",
   "execution_count": 21,
   "metadata": {},
   "outputs": [
    {
     "data": {
      "text/plain": [
       "array([207., 205., 191., 181., 174., 172., 173., 175., 178., 183., 190.,\n",
       "       193., 189., 180., 167., 164., 168., 174., 178., 178., 173., 164.,\n",
       "       153., 147.])"
      ]
     },
     "execution_count": 21,
     "metadata": {},
     "output_type": "execute_result"
    }
   ],
   "source": [
    "mat_NMDPat_2[1]"
   ]
  },
  {
   "cell_type": "code",
   "execution_count": 35,
   "metadata": {},
   "outputs": [],
   "source": [
    "# provide threshold in percentage\n",
    "threshold_MD = 50\n",
    "mealDictPat_1 = getMDFeatMat(insValDT_1, cgmDataPat_1, threshold_MD)\n",
    "mealDictPat_2 = getMDFeatMat(insValDT_2, cgmDataPat_2, threshold_MD)\n",
    "# feature matrices\n",
    "mat_MDPat_1 = mealDictPat_1['ft_mat']\n",
    "mat_MDPat_2 = mealDictPat_2['ft_mat']\n",
    "# DEFINE threshold\n",
    "threshold_NMD = 100\n",
    "mat_NMDPat_1 = getNMDFeatMat(insCarbDT_1, cgmVal_1, cgmDataPat_1, threshold_NMD)\n",
    "mat_NMDPat_2 = getNMDFeatMat(insCarbDT_2, cgmVal_2, cgmDataPat_2, threshold_NMD)"
   ]
  },
  {
   "cell_type": "code",
   "execution_count": 36,
   "metadata": {},
   "outputs": [
    {
     "name": "stdout",
     "output_type": "stream",
     "text": [
      "Matrices shape for each patient for MD\n",
      "Pat_1_MD:(500, 30)\n",
      "Pat_2_MD:(310, 30)\n",
      "Matrices shape for each patient for NMD\n",
      "Pat_1_NMD:(943, 24)\n",
      "Pat_2_NMD:(645, 24)\n"
     ]
    }
   ],
   "source": [
    "print(\"Matrices shape for each patient for MD\")\n",
    "print(\"Pat_1_MD:\"+str(mat_MDPat_1.shape))\n",
    "print(\"Pat_2_MD:\"+str(mat_MDPat_2.shape))\n",
    "\n",
    "print(\"Matrices shape for each patient for NMD\")\n",
    "print(\"Pat_1_NMD:\"+str(mat_NMDPat_1.shape))\n",
    "print(\"Pat_2_NMD:\"+str(mat_NMDPat_2.shape))"
   ]
  },
  {
   "cell_type": "code",
   "execution_count": 128,
   "metadata": {},
   "outputs": [
    {
     "data": {
      "image/png": "[encoded data removed]",
      "text/plain": [
       "<Figure size 432x288 with 1 Axes>"
      ]
     },
     "metadata": {
      "needs_background": "light"
     },
     "output_type": "display_data"
    }
   ],
   "source": [
    "# MD plot\n",
    "plt.plot(range(mat_MDPat_1.shape[1]), mat_MDPat_1[8])\n",
    "plt.show()"
   ]
  },
  {
   "cell_type": "code",
   "execution_count": 152,
   "metadata": {},
   "outputs": [],
   "source": [
    "thresh = np.nanmean(mat_MDPat_1, axis=0) - np.nanmean(mat_NMDPat_1, axis=0)"
   ]
  },
  {
   "cell_type": "code",
   "execution_count": 159,
   "metadata": {},
   "outputs": [
    {
     "data": {
      "text/plain": [
       "array([False, False, False, False, False, False, False, False, False,\n",
       "       False, False, False, False, False, False, False, False, False,\n",
       "       False, False, False, False, False, False])"
      ]
     },
     "execution_count": 159,
     "metadata": {},
     "output_type": "execute_result"
    }
   ],
   "source": [
    "mat_MDPat_1[0] < (np.nanmean(mat_MDPat_1, axis=0) + thresh)"
   ]
  },
  {
   "cell_type": "code",
   "execution_count": 145,
   "metadata": {},
   "outputs": [
    {
     "data": {
      "image/png": "[encoded data removed]",
      "text/plain": [
       "<Figure size 432x288 with 1 Axes>"
      ]
     },
     "metadata": {
      "needs_background": "light"
     },
     "output_type": "display_data"
    }
   ],
   "source": [
    "# NMD plot\n",
    "#plt.plot(range(mat_NMDPat_1.shape[1]), mat_NMDPat_1[10])\n",
    "plt.plot(mat_NMDPat_1[])\n",
    "plt.show()"
   ]
  },
  {
   "cell_type": "code",
   "execution_count": 100,
   "metadata": {},
   "outputs": [
    {
     "data": {
      "image/png": "[encoded data removed]",
      "text/plain": [
       "<Figure size 432x288 with 1 Axes>"
      ]
     },
     "metadata": {
      "needs_background": "light"
     },
     "output_type": "display_data"
    }
   ],
   "source": [
    "md_ft_g = np.row_stack( (md_ft_1, md_ft_2) )\n",
    "plt.plot(md_ft_g[:50])\n",
    "plt.show()"
   ]
  },
  {
   "cell_type": "code",
   "execution_count": 101,
   "metadata": {},
   "outputs": [
    {
     "data": {
      "image/png": "[encoded data removed]",
      "text/plain": [
       "<Figure size 432x288 with 1 Axes>"
      ]
     },
     "metadata": {
      "needs_background": "light"
     },
     "output_type": "display_data"
    }
   ],
   "source": [
    "nmd_ft_g = np.row_stack( (nmd_ft_1, nmd_ft_2) )\n",
    "plt.plot(nmd_ft_g[:50])\n",
    "plt.show()"
   ]
  },
  {
   "cell_type": "code",
   "execution_count": 21,
   "metadata": {},
   "outputs": [
    {
     "data": {
      "text/plain": [
       "array([[ 58.,  59.,  63., ..., 198., 203., 196.],\n",
       "       [304., 292., 281., ..., 284., 283., 278.],\n",
       "       [ 40.,  40.,  40., ...,  74.,  77.,  81.],\n",
       "       ...,\n",
       "       [106., 107., 100., ..., 200., 194., 177.],\n",
       "       [ 89.,  80.,  69., ...,  92.,  93.,  nan],\n",
       "       [150., 149., 150., ..., 174., 162., 150.]])"
      ]
     },
     "execution_count": 21,
     "metadata": {},
     "output_type": "execute_result"
    }
   ],
   "source": [
    "mat_MDPat_1"
   ]
  },
  {
   "cell_type": "markdown",
   "metadata": {},
   "source": [
    "\\# keep both the matrices consistent"
   ]
  },
  {
   "cell_type": "code",
   "execution_count": null,
   "metadata": {},
   "outputs": [],
   "source": [
    "# MD matrices for both patients "
   ]
  },
  {
   "cell_type": "markdown",
   "metadata": {},
   "source": [
    "# EXTRACT FEATURES"
   ]
  },
  {
   "cell_type": "code",
   "execution_count": 41,
   "metadata": {},
   "outputs": [
    {
     "data": {
      "text/plain": [
       "array([278., 283., 284., 274., 267., 267., 269., 274., 277., 270., 262.,\n",
       "       256., 243., 233., 228., 224., 223., 222., 222., 222., 220., 231.,\n",
       "       241., 248., 255., 259., 268., 281., 292., 304.])"
      ]
     },
     "execution_count": 41,
     "metadata": {},
     "output_type": "execute_result"
    }
   ],
   "source": [
    "mat_MDPat_1[-2]"
   ]
  },
  {
   "cell_type": "markdown",
   "metadata": {},
   "source": [
    "# FEATURE 1 : time diff between values CGMMax and tm"
   ]
  },
  {
   "cell_type": "code",
   "execution_count": 47,
   "metadata": {},
   "outputs": [
    {
     "data": {
      "text/plain": [
       "array([2, 1], dtype=int64)"
      ]
     },
     "execution_count": 47,
     "metadata": {},
     "output_type": "execute_result"
    }
   ],
   "source": [
    "x = np.array([[1,2,3], [5,7,6]])\n",
    "x.nanargmax(axis=1)"
   ]
  },
  {
   "cell_type": "code",
   "execution_count": null,
   "metadata": {},
   "outputs": [],
   "source": []
  },
  {
   "cell_type": "markdown",
   "metadata": {},
   "source": [
    "# FEATURE EXTRACTOR"
   ]
  },
  {
   "cell_type": "code",
   "execution_count": 99,
   "metadata": {},
   "outputs": [
    {
     "ename": "AttributeError",
     "evalue": "'list' object has no attribute 'push'",
     "output_type": "error",
     "traceback": [
      "\u001b[1;31m---------------------------------------------------------------------------\u001b[0m",
      "\u001b[1;31mAttributeError\u001b[0m                            Traceback (most recent call last)",
      "\u001b[1;32m<ipython-input-99-0a3aaef1b75c>\u001b[0m in \u001b[0;36m<module>\u001b[1;34m\u001b[0m\n\u001b[0;32m      1\u001b[0m \u001b[0mx\u001b[0m \u001b[1;33m=\u001b[0m \u001b[1;33m[\u001b[0m\u001b[1;33m]\u001b[0m\u001b[1;33m\u001b[0m\u001b[1;33m\u001b[0m\u001b[0m\n\u001b[1;32m----> 2\u001b[1;33m \u001b[0mx\u001b[0m\u001b[1;33m.\u001b[0m\u001b[0mpush\u001b[0m\u001b[1;33m(\u001b[0m\u001b[1;36m1\u001b[0m\u001b[1;33m)\u001b[0m\u001b[1;33m\u001b[0m\u001b[1;33m\u001b[0m\u001b[0m\n\u001b[0m\u001b[0;32m      3\u001b[0m \u001b[0mx\u001b[0m\u001b[1;33m\u001b[0m\u001b[1;33m\u001b[0m\u001b[0m\n",
      "\u001b[1;31mAttributeError\u001b[0m: 'list' object has no attribute 'push'"
     ]
    }
   ],
   "source": [
    "x = []\n",
    "x.push(1)\n",
    "x"
   ]
  },
  {
   "cell_type": "code",
   "execution_count": 98,
   "metadata": {},
   "outputs": [],
   "source": [
    "def feat_extr(data_mat):\n",
    "    # variable to store list of lists (the inner list is list of 8 params)\n",
    "    feat_mat_list = []\n",
    "    # for each row create a list of 8 values (8 feature paramters)\n",
    "    for idx, row in enumerate(data_mat):\n",
    "        # create a list of 8 values/paramaeters\n",
    "        feat_list = []\n",
    "\n",
    "        # for each row consider minimum value index as tm value\n",
    "        tm = np.nanargmin(row)\n",
    "\n",
    "        # PARAMETER 1: difference between time at CGMMax and time at meal taken\n",
    "        tau = (np.nanargmax(row) - tm)*5\n",
    "        #feat_list.insert(len(feat_list), tau)\n",
    "\n",
    "        # PARAMETER 2: difference between CGMMax and CGM at time of meal taken\n",
    "        CGMDiffNorm = (np.nanmax(row) - row[tm])#/row[tm]\n",
    "        #feat_list.insert(len(feat_list), CGMDiffNorm)\n",
    "\n",
    "        # PARAMETER 3,4,5,6: get FFT magnitude and frequency bins\n",
    "        nonNARow = row[~np.isnan(row)]\n",
    "        # fft\n",
    "        fft_vals = fft( nonNARow )\n",
    "        # extract second and third peaks\n",
    "        fft_vals_copy = fft_vals\n",
    "        fft_vals_copy.sort()\n",
    "        sec_max = fft_vals_copy[-2]\n",
    "        thrd_max = fft_vals_copy[-3]\n",
    "        # extract the indices of second and third peaks\n",
    "        sec_max_ind = np.where(fft_vals==sec_max)[0][0]\n",
    "        thrd_max_ind = np.where(fft_vals==thrd_max)[0][0]\n",
    "        # add values to feat list\n",
    "        #feat_list.insert(len(feat_list), abs(sec_max))\n",
    "        #feat_list.insert(len(feat_list), sec_max_ind)\n",
    "        #feat_list.insert(len(feat_list), abs(thrd_max))\n",
    "        #feat_list.insert(len(feat_list), thrd_max_ind)\n",
    "\n",
    "        # PARAMETER 7: differential of CGM data (GET MAX VALUE)\n",
    "        #feat_list.insert(len(feat_list), np.nanmax(np.diff(row)))\n",
    "\n",
    "        # PARAMETER 8: double differential of CGM data\n",
    "        feat_list.insert(len(feat_list), np.nanmax(np.diff(row, n=2)))\n",
    "\n",
    "        # add updated feature to feat_mat_list\n",
    "        feat_mat_list.append(feat_list)\n",
    "\n",
    "    return np.array(feat_mat_list)"
   ]
  },
  {
   "cell_type": "code",
   "execution_count": 99,
   "metadata": {},
   "outputs": [],
   "source": [
    "md_ft_1 = feat_extr(mat_MDPat_1)\n",
    "md_ft_2 = feat_extr(mat_MDPat_2)\n",
    "nmd_ft_1 = feat_extr(mat_NMDPat_1)\n",
    "nmd_ft_2 = feat_extr(mat_NMDPat_2)"
   ]
  },
  {
   "cell_type": "code",
   "execution_count": 40,
   "metadata": {},
   "outputs": [
    {
     "data": {
      "text/plain": [
       "array([140.        , 145.        , 117.83558618,  27.        ,\n",
       "       117.83558618,  26.        ,  29.        ,  11.        ])"
      ]
     },
     "execution_count": 40,
     "metadata": {},
     "output_type": "execute_result"
    }
   ],
   "source": [
    "md_ft_1[0]"
   ]
  },
  {
   "cell_type": "code",
   "execution_count": 83,
   "metadata": {},
   "outputs": [
    {
     "data": {
      "text/plain": [
       "array([[ 58.,  59.,  63., ..., 198., 203., 196.],\n",
       "       [304., 292., 281., ..., 284., 283., 278.],\n",
       "       [ 40.,  40.,  40., ...,  74.,  77.,  81.],\n",
       "       ...,\n",
       "       [106., 107., 100., ..., 200., 194., 177.],\n",
       "       [ 89.,  80.,  69., ...,  92.,  93.,  nan],\n",
       "       [150., 149., 150., ..., 174., 162., 150.]])"
      ]
     },
     "execution_count": 83,
     "metadata": {},
     "output_type": "execute_result"
    }
   ],
   "source": [
    "mat_MDPat_1"
   ]
  },
  {
   "cell_type": "code",
   "execution_count": 160,
   "metadata": {},
   "outputs": [
    {
     "name": "stdout",
     "output_type": "stream",
     "text": [
      "FEAT Matrices shape for each patient for MD\n",
      "Pat_1_MD_Feat:(490, 1)\n",
      "Pat_2_MD_Feat:(309, 1)\n",
      "FEAT Matrices shape for each patient for NMD\n",
      "Pat_1_NMD_Feat:(943, 1)\n",
      "Pat_2_NMD_Feat:(645, 1)\n"
     ]
    }
   ],
   "source": [
    "print(\"FEAT Matrices shape for each patient for MD\")\n",
    "print(\"Pat_1_MD_Feat:\"+str(md_ft_1.shape))\n",
    "print(\"Pat_2_MD_Feat:\"+str(md_ft_2.shape))\n",
    "\n",
    "print(\"FEAT Matrices shape for each patient for NMD\")\n",
    "print(\"Pat_1_NMD_Feat:\"+str(nmd_ft_1.shape))\n",
    "print(\"Pat_2_NMD_Feat:\"+str(nmd_ft_2.shape))"
   ]
  },
  {
   "cell_type": "code",
   "execution_count": 162,
   "metadata": {},
   "outputs": [
    {
     "data": {
      "text/plain": [
       "array([ 40.,  40.,  40.,  40.,  60.,  71.,  83.,  87., 100., 112., 121.,\n",
       "       125., 130., 132., 123., 112.,  89.,  77.,  69.,  66.,  67.,  71.,\n",
       "        75.,  74.,  72.,  70.,  67.,  74.,  77.,  81.])"
      ]
     },
     "execution_count": 162,
     "metadata": {},
     "output_type": "execute_result"
    }
   ],
   "source": [
    "rowt"
   ]
  },
  {
   "cell_type": "markdown",
   "metadata": {},
   "source": [
    "# COMBINE MATRICES TO MAKE FULL DATA MATRIX"
   ]
  },
  {
   "cell_type": "code",
   "execution_count": 161,
   "metadata": {},
   "outputs": [],
   "source": [
    "# merge all rows under md and nmd separately\n",
    "md_ft = np.row_stack( (md_ft_1, md_ft_2) )\n",
    "nmd_ft = np.row_stack( (nmd_ft_1, nmd_ft_2) )\n",
    "equal_size = min(md_ft.shape[0], nmd_ft.shape[0])\n",
    "md_ft = md_ft[:equal_size,:]\n",
    "nmd_ft = nmd_ft[:equal_size,:]\n",
    "\n",
    "# merge all rows again for feature matrix (w/o labels)\n",
    "feature_mat = np.row_stack( (md_ft, nmd_ft) )\n",
    "\n",
    "# add class labels of 1 for md and 0 for nmd\n",
    "class_lbl_ones = np.ones( md_ft.shape[0] )\n",
    "class_lbl_zeros = np.zeros( nmd_ft.shape[0] )\n",
    "\n",
    "# total class labels\n",
    "class_lbls = np.row_stack( ( np.reshape(class_lbl_ones, (-1,1)), np.reshape(class_lbl_zeros, (-1, 1)) ) )\n",
    "\n",
    "# add a single column of class labels to the md and nmd matrix\n",
    "md_ft_lbls = np.column_stack( (md_ft, class_lbl_ones) )\n",
    "nmd_ft_lbls = np.column_stack( (nmd_ft, class_lbl_zeros) )\n",
    "\n",
    "# combine for FULL DATA MATRIX\n",
    "data_mat = np.column_stack( (feature_mat, class_lbls) )"
   ]
  },
  {
   "cell_type": "code",
   "execution_count": 162,
   "metadata": {},
   "outputs": [
    {
     "name": "stdout",
     "output_type": "stream",
     "text": [
      "MD Feat Labels shape:(799, 2)\n",
      "NMD Feat Labels shape:(799, 2)\n",
      "\n",
      "DATA MATRIX shape:(1598, 2)\n"
     ]
    }
   ],
   "source": [
    "print(\"MD Feat Labels shape:\"+str(md_ft_lbls.shape))\n",
    "print(\"NMD Feat Labels shape:\"+str(nmd_ft_lbls.shape))\n",
    "print(\"\")\n",
    "print(\"DATA MATRIX shape:\"+str(data_mat.shape))"
   ]
  },
  {
   "cell_type": "code",
   "execution_count": 50,
   "metadata": {},
   "outputs": [
    {
     "data": {
      "text/plain": [
       "(2398, 1)"
      ]
     },
     "execution_count": 50,
     "metadata": {},
     "output_type": "execute_result"
    }
   ],
   "source": [
    "data_mat[:,:-1].shape\n",
    "data_mat[:,-1:].shape"
   ]
  },
  {
   "cell_type": "code",
   "execution_count": 46,
   "metadata": {},
   "outputs": [
    {
     "data": {
      "text/plain": [
       "array([[ -90.        ,   89.        ,  105.64563408, ...,    3.        ,\n",
       "          10.        ,    0.        ],\n",
       "       [  55.        ,   63.        ,  133.66221598, ...,   20.        ,\n",
       "          19.        ,    1.        ],\n",
       "       [ -80.        ,   47.        ,  125.34928809, ...,    4.        ,\n",
       "           6.        ,    0.        ],\n",
       "       ...,\n",
       "       [ -90.        ,   80.        ,  300.43417822, ...,   18.        ,\n",
       "          23.        ,    0.        ],\n",
       "       [ -95.        ,   64.        ,  160.66017296, ...,   10.        ,\n",
       "          12.        ,    0.        ],\n",
       "       [-110.        ,   62.        ,  257.21273654, ...,    2.        ,\n",
       "           4.        ,    0.        ]])"
      ]
     },
     "execution_count": 46,
     "metadata": {},
     "output_type": "execute_result"
    }
   ],
   "source": [
    "data_mat"
   ]
  },
  {
   "cell_type": "markdown",
   "metadata": {},
   "source": [
    "# TRAINING (split dataset)"
   ]
  },
  {
   "cell_type": "code",
   "execution_count": 87,
   "metadata": {},
   "outputs": [
    {
     "name": "stdout",
     "output_type": "stream",
     "text": [
      "(625, 9)\n",
      "(157, 8)\n",
      "(1220, 9)\n",
      "(306, 8)\n"
     ]
    }
   ],
   "source": [
    "# shuffle both meal and no meal data\n",
    "#np.random.shuffle(md_ft_lbls)\n",
    "#np.random.shuffle(nmd_ft_lbls)\n",
    "# take 80% of meal data as train split\n",
    "md_len = md_ft_lbls.shape[0]\n",
    "md_len_80 = int(0.8*md_len)\n",
    "tr_md_ft_lbls = md_ft_lbls[:md_len_80, :]\n",
    "ts_md_ft_lbls = md_ft_lbls[:(md_len-md_len_80), :-1]\n",
    "tg_md_ft_lbls = md_ft_lbls[:(md_len-md_len_80), -1]\n",
    "print(tr_md_ft_lbls.shape)\n",
    "print(ts_md_ft_lbls.shape)\n",
    "# take 80% of no meal data as train split\n",
    "nmd_len = nmd_ft_lbls.shape[0]\n",
    "nmd_len_80 = int(0.8*nmd_len)\n",
    "tr_nmd_ft_lbls = nmd_ft_lbls[:nmd_len_80, :]\n",
    "ts_nmd_ft_lbls = nmd_ft_lbls[:(nmd_len-nmd_len_80), :-1]\n",
    "tg_nmd_ft_lbls = nmd_ft_lbls[:(nmd_len-nmd_len_80), -1]\n",
    "print(tr_nmd_ft_lbls.shape)\n",
    "print(ts_nmd_ft_lbls.shape)"
   ]
  },
  {
   "cell_type": "code",
   "execution_count": 88,
   "metadata": {},
   "outputs": [],
   "source": [
    "# combine md and nmd train data\n",
    "X_tr = np.row_stack( ( tr_md_ft_lbls[:, :-1], tr_nmd_ft_lbls[:, :-1] ) )\n",
    "y_tr = np.row_stack( ( np.reshape(tr_md_ft_lbls[:, -1], (-1,1)), np.reshape(tr_nmd_ft_lbls[:, -1], (-1,1)) ) )\n",
    "\n",
    "X_ts = np.row_stack( ( ts_md_ft_lbls, ts_nmd_ft_lbls ) )\n",
    "y_ts = np.row_stack( ( np.reshape(tg_md_ft_lbls, (-1,1)), np.reshape(tg_nmd_ft_lbls, (-1,1)) ) )"
   ]
  },
  {
   "cell_type": "code",
   "execution_count": 89,
   "metadata": {},
   "outputs": [
    {
     "name": "stdout",
     "output_type": "stream",
     "text": [
      "X_Train shape:(1845, 8)\n",
      "y_Train shape:(1845, 1)\n",
      "X_Test shape:(463, 8)\n",
      "y_Test shape:(463, 1)\n"
     ]
    }
   ],
   "source": [
    "print(\"X_Train shape:\"+str(X_tr.shape))\n",
    "print(\"y_Train shape:\"+str(y_tr.shape))\n",
    "print(\"X_Test shape:\"+str(X_ts.shape))\n",
    "print(\"y_Test shape:\"+str(y_ts.shape))"
   ]
  },
  {
   "cell_type": "markdown",
   "metadata": {},
   "source": [
    "# TRAINING (SVM)"
   ]
  },
  {
   "cell_type": "code",
   "execution_count": 167,
   "metadata": {},
   "outputs": [],
   "source": [
    "# IMPORT MODEL\n",
    "from sklearn.neighbors import KNeighborsClassifier\n",
    "from sklearn.gaussian_process import GaussianProcessClassifier # ALSO COPY NEXT LINE\n",
    "from sklearn.gaussian_process.kernels import RBF\n",
    "from sklearn.tree import DecisionTreeClassifier\n",
    "from sklearn.ensemble import RandomForestClassifier, AdaBoostClassifier\n",
    "from sklearn import tree"
   ]
  },
  {
   "cell_type": "code",
   "execution_count": 172,
   "metadata": {},
   "outputs": [],
   "source": [
    "# TEST MODEL\n",
    "model = DecisionTreeClassifier(criterion=\"entropy\", max_depth=8)"
   ]
  },
  {
   "cell_type": "code",
   "execution_count": 173,
   "metadata": {},
   "outputs": [
    {
     "data": {
      "text/plain": [
       "DecisionTreeClassifier(criterion='entropy', max_depth=8)"
      ]
     },
     "execution_count": 173,
     "metadata": {},
     "output_type": "execute_result"
    }
   ],
   "source": [
    "X_tr_full = data_mat[:,:-1]\n",
    "y_tr_full = data_mat[:,-1:]\n",
    "model.fit(X_tr_full, y_tr_full.ravel())"
   ]
  },
  {
   "cell_type": "code",
   "execution_count": 175,
   "metadata": {},
   "outputs": [
    {
     "data": {
      "image/png": "[encoded data removed]",
      "text/plain": [
       "<Figure size 432x288 with 1 Axes>"
      ]
     },
     "metadata": {
      "needs_background": "light"
     },
     "output_type": "display_data"
    }
   ],
   "source": [
    "tree.plot_tree(model)\n",
    "plt.show()"
   ]
  },
  {
   "cell_type": "code",
   "execution_count": 95,
   "metadata": {},
   "outputs": [
    {
     "name": "stdout",
     "output_type": "stream",
     "text": [
      "Accuracy: 0.9900216919739696\n",
      "Precision for 1: 1.0\n",
      "Recall for 1: 0.9705128205128206\n",
      "F1 for 1: 0.984964694106331\n",
      "----------------\n",
      "Precision for 0: 0.9852105937579865\n",
      "Recall for 0: 1.0\n",
      "F1 for 0: 0.992532933518221\n"
     ]
    }
   ],
   "source": [
    "# CHECK SCORES\n",
    "splits = cross_val_splits(md_ft_lbls, nmd_ft_lbls, 5)\n",
    "cross_val_scores(splits, model)"
   ]
  },
  {
   "cell_type": "code",
   "execution_count": 87,
   "metadata": {},
   "outputs": [],
   "source": [
    "#model.fit(X_tr, y_tr.ravel())"
   ]
  },
  {
   "cell_type": "code",
   "execution_count": 88,
   "metadata": {},
   "outputs": [],
   "source": [
    "# save the fitted model to pickle\n",
    "filename = 'NuSVC.pkl'\n",
    "pickle.dump(model, open(filename, 'wb'))"
   ]
  },
  {
   "cell_type": "code",
   "execution_count": 93,
   "metadata": {},
   "outputs": [],
   "source": [
    "# 80% train and 20% test means 5 splits\n",
    "def cross_val_splits(md_data, nmd_data, num_split):\n",
    "    # print total data length\n",
    "    #print(\"TOTAL DATA LEN = \"+str(len(md_data)+len(nmd_data)))\n",
    "    \n",
    "    # make num_split\n",
    "    splits = [None]*num_split\n",
    "    \n",
    "    # fraction of test data\n",
    "    frac_test = 1/num_split\n",
    "    \n",
    "    # split md_data\n",
    "    md_len = md_data.shape[0]\n",
    "    md_frac_test_len = int(frac_test*md_len)\n",
    "    #print(\"MD Frac Test: \"+str(md_frac_test_len))\n",
    "    # slpit no meal data\n",
    "    nmd_len = nmd_data.shape[0]\n",
    "    nmd_frac_test_len = int(frac_test*nmd_len)\n",
    "    #print(\"NMD Frac Test: \"+str(nmd_frac_test_len))\n",
    "    \n",
    "    # start test split at 0th index\n",
    "    md_test_split_start = 0\n",
    "    nmd_test_split_start = 0\n",
    "    for ind in range(num_split):\n",
    "        # this is the ind-th split\n",
    "        # end of split index at\n",
    "        md_test_split_end = md_test_split_start + md_frac_test_len\n",
    "        nmd_test_split_end = nmd_test_split_start + nmd_frac_test_len\n",
    "        #print(\"PRINTING INDICES: ........\")\n",
    "        #print(\"Split \"+str(ind)+\"-MD Start-End: \"+str(md_test_split_start)+\" - \"+str(md_test_split_end))\n",
    "        #print(\"Split \"+str(ind)+\"-NMD Start-End: \"+str(nmd_test_split_start)+\" - \"+str(nmd_test_split_end))\n",
    "        # create a dictionary of Train(MD+NMD), Test(MD+NMD)\n",
    "        # Test part first\n",
    "        test_md = md_data[ md_test_split_start:md_test_split_end, : ]\n",
    "        test_nmd = nmd_data[ nmd_test_split_start:nmd_test_split_end, : ]\n",
    "        # Train part - will have two parts (BEFORE and AFTER test section)\n",
    "        train_md_b4 = md_data[ :md_test_split_start, : ]\n",
    "        train_md_af = md_data[ md_test_split_end:, : ]\n",
    "        train_nmd_b4 = nmd_data[ :nmd_test_split_start, : ]\n",
    "        train_nmd_af = nmd_data[ nmd_test_split_end:, : ]\n",
    "        \n",
    "        train_md = np.row_stack( (train_md_b4, train_md_af) )\n",
    "        train_nmd = np.row_stack( (train_nmd_b4, train_nmd_af) )\n",
    "        # combine MD and NMD\n",
    "        train_comb = np.row_stack( (train_md,train_nmd) )\n",
    "        test_comb = np.row_stack( (test_md,test_nmd) )\n",
    "        splits[ind] = {\n",
    "            'train' : train_comb,\n",
    "            'test' : test_comb\n",
    "        }\n",
    "        \n",
    "        # update the split indices\n",
    "        md_test_split_start = md_test_split_end\n",
    "        nmd_test_split_start = nmd_test_split_end\n",
    "        # print shapes\n",
    "        #print(\"PRINTING SHAPES: ........\")\n",
    "        #print(\"Split \"+str(ind)+\"-Train Shape: \"+str(train_comb.shape))\n",
    "        #print(\"Split \"+str(ind)+\"-Test Shape: \"+str(test_comb.shape))\n",
    "        \n",
    "    return splits"
   ]
  },
  {
   "cell_type": "code",
   "execution_count": 94,
   "metadata": {},
   "outputs": [],
   "source": [
    "# function to run model and get cross validation scores\n",
    "def cross_val_scores(splits, model):\n",
    "    # 4 variables\n",
    "    accu_list = [None]*len(splits) # accuracy\n",
    "    # for label 1\n",
    "    p_list_1 = [None]*len(splits)    # precision\n",
    "    r_list_1 = [None]*len(splits)    # recall\n",
    "    f_list_1 = [None]*len(splits)    # F1 score\n",
    "    # for label 0\n",
    "    p_list_0 = [None]*len(splits)    # precision\n",
    "    r_list_0 = [None]*len(splits)    # recall\n",
    "    f_list_0 = [None]*len(splits)    # F1 score\n",
    "    \n",
    "    for ind in range(len(splits)):\n",
    "        split_tr = splits[ind]['train']\n",
    "        split_ts = splits[ind]['test']\n",
    "        \n",
    "        # fit to train\n",
    "        model.fit(split_tr[:,:-1], split_tr[:,-1].ravel())\n",
    "        # test\n",
    "        res = model.predict(split_ts[:,:-1])\n",
    "        # ground\n",
    "        grd = split_ts[:,-1].ravel()\n",
    "        # scores\n",
    "        accu = accuracy_score(grd, res)\n",
    "        accu_list[ind] = accu\n",
    "        #print(\"Accuracy: \"+str(accu))\n",
    "        scores_1 = precision_recall_fscore_support(grd, res, average='binary', pos_label=1)\n",
    "        scores_0 = precision_recall_fscore_support(grd, res, average='binary', pos_label=0)\n",
    "        p_list_1[ind] = scores_1[0]\n",
    "        p_list_0[ind] = scores_0[0]\n",
    "        #print(\"Precision: \"+str(scores[0]))\n",
    "        r_list_1[ind] = scores_1[1]\n",
    "        r_list_0[ind] = scores_0[1]\n",
    "        #print(\"Recall: \"+str(scores[1]))\n",
    "        f_list_1[ind] = scores_1[2]\n",
    "        f_list_0[ind] = scores_0[2]\n",
    "        #print(\"F1: \"+str(scores[2]))\n",
    "        \n",
    "    print(\"Accuracy: \"+str(np.mean(accu_list)))\n",
    "    print(\"Precision for 1: \"+str(np.mean(p_list_1)))\n",
    "    print(\"Recall for 1: \"+str(np.mean(r_list_1)))\n",
    "    print(\"F1 for 1: \"+str(np.mean(f_list_1)))\n",
    "    print(\"----------------\")\n",
    "    print(\"Precision for 0: \"+str(np.mean(p_list_0)))\n",
    "    print(\"Recall for 0: \"+str(np.mean(r_list_0)))\n",
    "    print(\"F1 for 0: \"+str(np.mean(f_list_0)))"
   ]
  },
  {
   "cell_type": "code",
   "execution_count": 142,
   "metadata": {},
   "outputs": [
    {
     "name": "stdout",
     "output_type": "stream",
     "text": [
      "Accuracy: 0.8803180914512924\n",
      "Precision for 1: 0.8648621621721752\n",
      "Recall for 1: 0.7282051282051282\n",
      "F1 for 1: 0.7895381551212252\n",
      "----------------\n",
      "Precision for 0: 0.8863881139000183\n",
      "Recall for 0: 0.9487031700288184\n",
      "F1 for 0: 0.9163266329825396\n"
     ]
    }
   ],
   "source": [
    "# splits\n",
    "splits = cross_val_splits(md_ft_lbls, nmd_ft_lbls, 5)\n",
    "cross_val_scores(splits, model)"
   ]
  },
  {
   "cell_type": "code",
   "execution_count": null,
   "metadata": {},
   "outputs": [],
   "source": []
  }
 ],
 "metadata": {
  "kernelspec": {
   "display_name": "Python 3",
   "language": "python",
   "name": "python3"
  },
  "language_info": {
   "codemirror_mode": {
    "name": "ipython",
    "version": 3
   },
   "file_extension": ".py",
   "mimetype": "text/x-python",
   "name": "python",
   "nbconvert_exporter": "python",
   "pygments_lexer": "ipython3",
   "version": "3.8.3"
  }
 },
 "nbformat": 4,
 "nbformat_minor": 4
}
