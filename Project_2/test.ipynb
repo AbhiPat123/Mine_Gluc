{
 "cells": [
  {
   "cell_type": "code",
   "execution_count": 29,
   "metadata": {},
   "outputs": [],
   "source": [
    "import sys\n",
    "import numpy as np\n",
    "import pandas as pd\n",
    "import sklearn\n",
    "from sklearn.model_selection import train_test_split\n",
    "from sklearn import svm\n",
    "from sklearn.model_selection import cross_val_score\n",
    "from sklearn.metrics import accuracy_score\n",
    "from sklearn.metrics import precision_recall_fscore_support\n",
    "from scipy.fft import fft, ifft\n",
    "import pickle\n"
   ]
  },
  {
   "cell_type": "code",
   "execution_count": 15,
   "metadata": {},
   "outputs": [],
   "source": [
    "def feat_extr_test(data_mat):\n",
    "    # variable to store list of lists (the inner list is list of 8 params)\n",
    "    feat_mat_list = []\n",
    "    # for each row create a list of 8 values (8 feature paramters)\n",
    "    for idx, row in enumerate(data_mat):\n",
    "        # create a list of 8 values/paramaeters\n",
    "        feat_list = [None]*8\n",
    "\n",
    "        # for each row consider minimum value index as tm value\n",
    "        tm = np.nanargmin(row)\n",
    "\n",
    "        # PARAMETER 1: difference between time at CGMMax and time at meal taken\n",
    "        tau = np.nanargmax(row) - tm\n",
    "        feat_list[0] = tau\n",
    "\n",
    "        # PARAMETER 2: difference between CGMMax and CGM at time of meal taken\n",
    "        CGMDiffNorm = (np.nanmax(row) - row[tm])/row[tm]\n",
    "        feat_list[1] = CGMDiffNorm\n",
    "\n",
    "        # PARAMETER 3,4,5,6: get FFT magnitude and frequency bins\n",
    "        nonNARow = row[~np.isnan(row)]\n",
    "        # fft\n",
    "        fft_vals = np.fft.fft( nonNARow )\n",
    "        # extract second and third peaks\n",
    "        fft_vals_copy = fft_vals\n",
    "        fft_vals_copy.sort()\n",
    "        sec_max = fft_vals_copy[-2]\n",
    "        thrd_max = fft_vals_copy[-3]\n",
    "        # extract the indices of second and third peaks\n",
    "        sec_max_ind = np.where(fft_vals==sec_max)[0][0]\n",
    "        thrd_max_ind = np.where(fft_vals==thrd_max)[0][0]\n",
    "        # add values to feat list\n",
    "        feat_list[2] = abs(sec_max)\n",
    "        feat_list[3] = sec_max_ind\n",
    "        feat_list[4] = abs(thrd_max)\n",
    "        feat_list[5] = thrd_max_ind\n",
    "\n",
    "        # PARAMETER 7: differential of CGM data (GET MAX VALUE)\n",
    "        feat_list[6] = np.nanmax(np.diff(row))\n",
    "\n",
    "        # PARAMETER 8: double differential of CGM data        \n",
    "        feat_list[7] = np.nanmax(np.diff(row, n=2))\n",
    "\n",
    "        # add updated feature to feat_mat_list\n",
    "        feat_mat_list.append(feat_list)\n",
    "\n",
    "    return np.array(feat_mat_list)"
   ]
  },
  {
   "cell_type": "code",
   "execution_count": 16,
   "metadata": {},
   "outputs": [],
   "source": [
    "# read file matrix and convert to array\n",
    "testData = np.array(pd.read_csv('test.csv', header=None))\n",
    "\n",
    "# obtain feature matrix\n",
    "feat_mat = feat_extr_test(testData)"
   ]
  },
  {
   "cell_type": "code",
   "execution_count": 17,
   "metadata": {},
   "outputs": [
    {
     "data": {
      "text/plain": [
       "(505, 8)"
      ]
     },
     "execution_count": 17,
     "metadata": {},
     "output_type": "execute_result"
    }
   ],
   "source": [
    "testData.shape"
   ]
  },
  {
   "cell_type": "code",
   "execution_count": 18,
   "metadata": {},
   "outputs": [
    {
     "name": "stderr",
     "output_type": "stream",
     "text": [
      "C:\\Users\\abhis\\anaconda3\\lib\\site-packages\\sklearn\\base.py:329: UserWarning: Trying to unpickle estimator NuSVC from version 0.23.2 when using version 0.23.1. This might lead to breaking code or invalid results. Use at your own risk.\n",
      "  warnings.warn(\n"
     ]
    }
   ],
   "source": [
    "# load model from pickle save\n",
    "filename = 'NuSVC.pkl'\n",
    "load_model = pickle.load(open(filename, 'rb'))"
   ]
  },
  {
   "cell_type": "code",
   "execution_count": 19,
   "metadata": {},
   "outputs": [],
   "source": [
    "# get result of model\n",
    "result = load_model.predict(feat_mat)\n",
    "result = np.reshape(result, (-1,1))"
   ]
  },
  {
   "cell_type": "code",
   "execution_count": 27,
   "metadata": {},
   "outputs": [
    {
     "data": {
      "text/plain": [
       "505"
      ]
     },
     "execution_count": 27,
     "metadata": {},
     "output_type": "execute_result"
    }
   ],
   "source": [
    "len(result)"
   ]
  },
  {
   "cell_type": "code",
   "execution_count": null,
   "metadata": {},
   "outputs": [],
   "source": [
    "# save results to Result.csv\n",
    "np.savetxt('Result.csv', result, delimiter=',')\n",
    "\n",
    "print(\"Results.csv file created! Shape: \"+str(result.shape))"
   ]
  },
  {
   "cell_type": "code",
   "execution_count": 26,
   "metadata": {},
   "outputs": [
    {
     "name": "stdout",
     "output_type": "stream",
     "text": [
      "Accuracy: 0.6666666666666666\n",
      "Precision: 0.6666666666666666\n",
      "Recall: 0.6666666666666666\n",
      "F1: 0.6666666666666666\n"
     ]
    }
   ],
   "source": [
    "from sklearn.metrics import accuracy_score\n",
    "from sklearn.metrics import precision_recall_fscore_support\n",
    "y_true = np.array([1, 1, 1, 0, 0, 0])\n",
    "y_pred = np.array([0, 1, 1, 1, 0, 0])\n",
    "accu = accuracy_score(y_true, y_pred)\n",
    "print(\"Accuracy: \"+str(accu))\n",
    "scores = precision_recall_fscore_support(y_true, y_pred, average='macro')\n",
    "print(\"Precision: \"+str(scores[0]))\n",
    "print(\"Recall: \"+str(scores[1]))\n",
    "print(\"F1: \"+str(scores[2]))"
   ]
  },
  {
   "cell_type": "code",
   "execution_count": null,
   "metadata": {},
   "outputs": [],
   "source": []
  }
 ],
 "metadata": {
  "kernelspec": {
   "display_name": "Python 3",
   "language": "python",
   "name": "python3"
  },
  "language_info": {
   "codemirror_mode": {
    "name": "ipython",
    "version": 3
   },
   "file_extension": ".py",
   "mimetype": "text/x-python",
   "name": "python",
   "nbconvert_exporter": "python",
   "pygments_lexer": "ipython3",
   "version": "3.8.3"
  }
 },
 "nbformat": 4,
 "nbformat_minor": 4
}
