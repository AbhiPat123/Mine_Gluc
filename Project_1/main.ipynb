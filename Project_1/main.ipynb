{
 "cells": [
  {
   "cell_type": "code",
   "execution_count": 99,
   "metadata": {},
   "outputs": [],
   "source": [
    "import sys\n",
    "import numpy as np\n",
    "import pandas as pd\n",
    "#import sklearn\n",
    "#import pickle"
   ]
  },
  {
   "cell_type": "code",
   "execution_count": 100,
   "metadata": {},
   "outputs": [],
   "source": [
    "cgmDataFile = './Project-1-Files/CGMData.csv'\n",
    "insDataFile = './Project-1-Files/InsulinData.csv'"
   ]
  },
  {
   "cell_type": "markdown",
   "metadata": {},
   "source": [
    "STEP 1: Read data along with parsed dates"
   ]
  },
  {
   "cell_type": "code",
   "execution_count": 101,
   "metadata": {},
   "outputs": [
    {
     "name": "stderr",
     "output_type": "stream",
     "text": [
      "C:\\Users\\abhis\\anaconda3\\lib\\site-packages\\IPython\\core\\interactiveshell.py:3071: DtypeWarning: Columns (32) have mixed types.Specify dtype option on import or set low_memory=False.\n",
      "  has_raised = await self.run_ast_nodes(code_ast.body, cell_name,\n",
      "C:\\Users\\abhis\\anaconda3\\lib\\site-packages\\IPython\\core\\interactiveshell.py:3071: DtypeWarning: Columns (13,43) have mixed types.Specify dtype option on import or set low_memory=False.\n",
      "  has_raised = await self.run_ast_nodes(code_ast.body, cell_name,\n"
     ]
    }
   ],
   "source": [
    "cgmData = pd.read_csv(cgmDataFile, parse_dates=[['Date', 'Time']])#, keep_date_col=True)\n",
    "insData = pd.read_csv(insDataFile, parse_dates=[['Date', 'Time']])#, keep_date_col=True)"
   ]
  },
  {
   "cell_type": "code",
   "execution_count": 102,
   "metadata": {},
   "outputs": [],
   "source": [
    "# focus only on datetime and Sensor Glucose data columns\n",
    "cgmData = cgmData[['Date_Time', 'Sensor Glucose (mg/dL)']]"
   ]
  },
  {
   "cell_type": "markdown",
   "metadata": {},
   "source": [
    "STEP 2: create 6 columns specifying each type of hyperglycemia ranges for that row's CGM value"
   ]
  },
  {
   "cell_type": "code",
   "execution_count": 103,
   "metadata": {},
   "outputs": [],
   "source": [
    "# Different types of Hyperglycemia ranges\n",
    "HGC_Ranges = ['HGC', 'HGC_C', 'HGC_R1', 'HGC_R2', 'HGC_L1', 'HGC_L2']\n",
    "# TYPE 1: Hyperglycemia (HGC)\n",
    "cgmData[HGC_Ranges[0]] = cgmData['Sensor Glucose (mg/dL)'] > 180\n",
    "# TYPE 2: Hyperglycemia Critical (HGC_C)\n",
    "cgmData[HGC_Ranges[1]] = cgmData['Sensor Glucose (mg/dL)'] > 250\n",
    "# TYPE 3: Hyperglycemia Range 1 (HGC_R1)\n",
    "cgmData[HGC_Ranges[2]] = cgmData['Sensor Glucose (mg/dL)'].between(70, 180, inclusive='both')\n",
    "# TYPE 4: Hyperglycemia Range 2 (HGC_R2)\n",
    "cgmData[HGC_Ranges[3]] = cgmData['Sensor Glucose (mg/dL)'].between(70, 150, inclusive='both')\n",
    "# TYPE 5: Hyperglycemia Level 1 (HGC_L1)\n",
    "cgmData[HGC_Ranges[4]] = cgmData['Sensor Glucose (mg/dL)'] < 70\n",
    "# TYPE 6: Hyperglycemia Level 2 (HGC_L2)\n",
    "cgmData[HGC_Ranges[5]] = cgmData['Sensor Glucose (mg/dL)'] < 54"
   ]
  },
  {
   "cell_type": "markdown",
   "metadata": {},
   "source": [
    "STEP 3: look for 'AUTO MODE ACTIVE PLGM OFF' in insData and get corresponding Date_Time"
   ]
  },
  {
   "cell_type": "code",
   "execution_count": 104,
   "metadata": {},
   "outputs": [],
   "source": [
    "# D_T_A for Date, Time, Alarm\n",
    "insData_D_T_A = insData[['Date_Time', 'Alarm']]"
   ]
  },
  {
   "cell_type": "code",
   "execution_count": 105,
   "metadata": {},
   "outputs": [],
   "source": [
    "# get the 'AUTO MODE ACTIVE PLGM OFF' date and timestamp\n",
    "autoOnData = insData_D_T_A[insData_D_T_A['Alarm'] == 'AUTO MODE ACTIVE PLGM OFF']\n",
    "# get the earliest Date_Time value index\n",
    "autoOnIndex = autoOnData['Date_Time'].idxmin()\n",
    "# index the earliest DateTime\n",
    "autoOnDateTime = insData_D_T_A.iloc[autoOnIndex]['Date_Time']"
   ]
  },
  {
   "cell_type": "markdown",
   "metadata": {},
   "source": [
    "STEP 4: handle missing/NaN data (USING deletion of the entire day if NaN present)"
   ]
  },
  {
   "cell_type": "code",
   "execution_count": 106,
   "metadata": {},
   "outputs": [],
   "source": [
    "# filter the data\n",
    "cgmData['Valid_Day'] = cgmData.groupby(pd.Grouper(key='Date_Time', freq='1D'))['Sensor Glucose (mg/dL)'].transform(lambda x: True if (x.count() >= 231 and x.count() <= 288) else False)\n",
    "cgmData_filt = cgmData[cgmData['Valid_Day']].copy(deep=True)"
   ]
  },
  {
   "cell_type": "markdown",
   "metadata": {},
   "source": [
    "STEP 5: get corresponding Manual/Auto data based on the autoOnDateTime"
   ]
  },
  {
   "cell_type": "code",
   "execution_count": 107,
   "metadata": {},
   "outputs": [],
   "source": [
    "# times BEFORE autoOnDateTime are MANUAL MODE\n",
    "cgmData_D_T_R_Man = cgmData_filt[ cgmData_filt['Date_Time'] < autoOnDateTime ].copy(deep=True)"
   ]
  },
  {
   "cell_type": "code",
   "execution_count": 108,
   "metadata": {},
   "outputs": [],
   "source": [
    "# times AFTER/ON autoOnDateTime are AUTO MODE\n",
    "cgmData_D_T_R_Aut = cgmData_filt[ cgmData_filt['Date_Time'] >= autoOnDateTime ].copy(deep=True)"
   ]
  },
  {
   "cell_type": "code",
   "execution_count": 109,
   "metadata": {},
   "outputs": [],
   "source": [
    "# quick check to see if data extracted is labelled correctly\n",
    "if (cgmData_D_T_R_Man['Date_Time'].max() <= autoOnDateTime < cgmData_D_T_R_Aut['Date_Time'].min()) is False:\n",
    "    print(\"ERROR: The extracted parts Manual and Auto DO NOT make sense chronologically.\")"
   ]
  },
  {
   "cell_type": "markdown",
   "metadata": {},
   "source": [
    "STEP 6: extract data for different segments and sub-segments of the day"
   ]
  },
  {
   "cell_type": "code",
   "execution_count": 110,
   "metadata": {},
   "outputs": [],
   "source": [
    "# MANUAL data\n",
    "cgm_OvrNight_Man = cgmData_D_T_R_Man[(cgmData_D_T_R_Man['Date_Time'].dt.hour >= 0) & \n",
    "                  (cgmData_D_T_R_Man['Date_Time'].dt.hour < 6)].copy(deep=True)\n",
    "cgm_DayTime_Man = cgmData_D_T_R_Man[(cgmData_D_T_R_Man['Date_Time'].dt.hour >= 6) & \n",
    "                  (cgmData_D_T_R_Man['Date_Time'].dt.hour <= 23)].copy(deep=True)\n",
    "cgm_WholeDay_Man = cgmData_D_T_R_Man.copy(deep=True)\n",
    "\n",
    "# AUTO data\n",
    "cgm_OvrNight_Aut = cgmData_D_T_R_Aut[(cgmData_D_T_R_Aut['Date_Time'].dt.hour >= 0) & \n",
    "                  (cgmData_D_T_R_Aut['Date_Time'].dt.hour < 6)].copy(deep=True)\n",
    "cgm_DayTime_Aut = cgmData_D_T_R_Aut[(cgmData_D_T_R_Aut['Date_Time'].dt.hour >= 6) & \n",
    "                  (cgmData_D_T_R_Aut['Date_Time'].dt.hour <= 23)].copy(deep=True)\n",
    "cgm_WholeDay_Aut = cgmData_D_T_R_Aut.copy(deep=True)"
   ]
  },
  {
   "cell_type": "code",
   "execution_count": 146,
   "metadata": {},
   "outputs": [
    {
     "data": {
      "text/html": [
       "<div>\n",
       "<style scoped>\n",
       "    .dataframe tbody tr th:only-of-type {\n",
       "        vertical-align: middle;\n",
       "    }\n",
       "\n",
       "    .dataframe tbody tr th {\n",
       "        vertical-align: top;\n",
       "    }\n",
       "\n",
       "    .dataframe thead th {\n",
       "        text-align: right;\n",
       "    }\n",
       "</style>\n",
       "<table border=\"1\" class=\"dataframe\">\n",
       "  <thead>\n",
       "    <tr style=\"text-align: right;\">\n",
       "      <th></th>\n",
       "      <th>Date_Time</th>\n",
       "      <th>Sensor Glucose (mg/dL)</th>\n",
       "      <th>HGC</th>\n",
       "      <th>HGC_C</th>\n",
       "      <th>HGC_R1</th>\n",
       "      <th>HGC_R2</th>\n",
       "      <th>HGC_L1</th>\n",
       "      <th>HGC_L2</th>\n",
       "      <th>Valid_Day</th>\n",
       "    </tr>\n",
       "  </thead>\n",
       "  <tbody>\n",
       "    <tr>\n",
       "      <th>50897</th>\n",
       "      <td>2017-08-09 23:55:07</td>\n",
       "      <td>234.0</td>\n",
       "      <td>True</td>\n",
       "      <td>False</td>\n",
       "      <td>False</td>\n",
       "      <td>False</td>\n",
       "      <td>False</td>\n",
       "      <td>False</td>\n",
       "      <td>True</td>\n",
       "    </tr>\n",
       "    <tr>\n",
       "      <th>50898</th>\n",
       "      <td>2017-08-09 23:50:07</td>\n",
       "      <td>227.0</td>\n",
       "      <td>True</td>\n",
       "      <td>False</td>\n",
       "      <td>False</td>\n",
       "      <td>False</td>\n",
       "      <td>False</td>\n",
       "      <td>False</td>\n",
       "      <td>True</td>\n",
       "    </tr>\n",
       "    <tr>\n",
       "      <th>50899</th>\n",
       "      <td>2017-08-09 23:45:07</td>\n",
       "      <td>220.0</td>\n",
       "      <td>True</td>\n",
       "      <td>False</td>\n",
       "      <td>False</td>\n",
       "      <td>False</td>\n",
       "      <td>False</td>\n",
       "      <td>False</td>\n",
       "      <td>True</td>\n",
       "    </tr>\n",
       "    <tr>\n",
       "      <th>50900</th>\n",
       "      <td>2017-08-09 23:40:07</td>\n",
       "      <td>218.0</td>\n",
       "      <td>True</td>\n",
       "      <td>False</td>\n",
       "      <td>False</td>\n",
       "      <td>False</td>\n",
       "      <td>False</td>\n",
       "      <td>False</td>\n",
       "      <td>True</td>\n",
       "    </tr>\n",
       "    <tr>\n",
       "      <th>50901</th>\n",
       "      <td>2017-08-09 23:35:07</td>\n",
       "      <td>219.0</td>\n",
       "      <td>True</td>\n",
       "      <td>False</td>\n",
       "      <td>False</td>\n",
       "      <td>False</td>\n",
       "      <td>False</td>\n",
       "      <td>False</td>\n",
       "      <td>True</td>\n",
       "    </tr>\n",
       "    <tr>\n",
       "      <th>...</th>\n",
       "      <td>...</td>\n",
       "      <td>...</td>\n",
       "      <td>...</td>\n",
       "      <td>...</td>\n",
       "      <td>...</td>\n",
       "      <td>...</td>\n",
       "      <td>...</td>\n",
       "      <td>...</td>\n",
       "      <td>...</td>\n",
       "    </tr>\n",
       "    <tr>\n",
       "      <th>51082</th>\n",
       "      <td>2017-08-09 08:30:05</td>\n",
       "      <td>177.0</td>\n",
       "      <td>False</td>\n",
       "      <td>False</td>\n",
       "      <td>True</td>\n",
       "      <td>False</td>\n",
       "      <td>False</td>\n",
       "      <td>False</td>\n",
       "      <td>True</td>\n",
       "    </tr>\n",
       "    <tr>\n",
       "      <th>51083</th>\n",
       "      <td>2017-08-09 08:25:05</td>\n",
       "      <td>175.0</td>\n",
       "      <td>False</td>\n",
       "      <td>False</td>\n",
       "      <td>True</td>\n",
       "      <td>False</td>\n",
       "      <td>False</td>\n",
       "      <td>False</td>\n",
       "      <td>True</td>\n",
       "    </tr>\n",
       "    <tr>\n",
       "      <th>51084</th>\n",
       "      <td>2017-08-09 08:20:05</td>\n",
       "      <td>176.0</td>\n",
       "      <td>False</td>\n",
       "      <td>False</td>\n",
       "      <td>True</td>\n",
       "      <td>False</td>\n",
       "      <td>False</td>\n",
       "      <td>False</td>\n",
       "      <td>True</td>\n",
       "    </tr>\n",
       "    <tr>\n",
       "      <th>51085</th>\n",
       "      <td>2017-08-09 08:15:05</td>\n",
       "      <td>177.0</td>\n",
       "      <td>False</td>\n",
       "      <td>False</td>\n",
       "      <td>True</td>\n",
       "      <td>False</td>\n",
       "      <td>False</td>\n",
       "      <td>False</td>\n",
       "      <td>True</td>\n",
       "    </tr>\n",
       "    <tr>\n",
       "      <th>51086</th>\n",
       "      <td>2017-08-09 08:10:05</td>\n",
       "      <td>173.0</td>\n",
       "      <td>False</td>\n",
       "      <td>False</td>\n",
       "      <td>True</td>\n",
       "      <td>False</td>\n",
       "      <td>False</td>\n",
       "      <td>False</td>\n",
       "      <td>True</td>\n",
       "    </tr>\n",
       "  </tbody>\n",
       "</table>\n",
       "<p>190 rows × 9 columns</p>\n",
       "</div>"
      ],
      "text/plain": [
       "                Date_Time  Sensor Glucose (mg/dL)    HGC  HGC_C  HGC_R1  \\\n",
       "50897 2017-08-09 23:55:07                   234.0   True  False   False   \n",
       "50898 2017-08-09 23:50:07                   227.0   True  False   False   \n",
       "50899 2017-08-09 23:45:07                   220.0   True  False   False   \n",
       "50900 2017-08-09 23:40:07                   218.0   True  False   False   \n",
       "50901 2017-08-09 23:35:07                   219.0   True  False   False   \n",
       "...                   ...                     ...    ...    ...     ...   \n",
       "51082 2017-08-09 08:30:05                   177.0  False  False    True   \n",
       "51083 2017-08-09 08:25:05                   175.0  False  False    True   \n",
       "51084 2017-08-09 08:20:05                   176.0  False  False    True   \n",
       "51085 2017-08-09 08:15:05                   177.0  False  False    True   \n",
       "51086 2017-08-09 08:10:05                   173.0  False  False    True   \n",
       "\n",
       "       HGC_R2  HGC_L1  HGC_L2  Valid_Day  \n",
       "50897   False   False   False       True  \n",
       "50898   False   False   False       True  \n",
       "50899   False   False   False       True  \n",
       "50900   False   False   False       True  \n",
       "50901   False   False   False       True  \n",
       "...       ...     ...     ...        ...  \n",
       "51082   False   False   False       True  \n",
       "51083   False   False   False       True  \n",
       "51084   False   False   False       True  \n",
       "51085   False   False   False       True  \n",
       "51086   False   False   False       True  \n",
       "\n",
       "[190 rows x 9 columns]"
      ]
     },
     "execution_count": 146,
     "metadata": {},
     "output_type": "execute_result"
    }
   ],
   "source": [
    "cgm_DayTime_Aut[(cgm_DayTime_Aut['Date_Time'].dt.day == 9) & (cgm_DayTime_Aut['Date_Time'].dt.month == 8)]"
   ]
  },
  {
   "cell_type": "code",
   "execution_count": 141,
   "metadata": {},
   "outputs": [
    {
     "data": {
      "text/plain": [
       "{datetime.date(2017, 8, 9)}"
      ]
     },
     "execution_count": 141,
     "metadata": {},
     "output_type": "execute_result"
    }
   ],
   "source": [
    "set(cgm_DayTime_Aut['Date_Time'].dt.date.unique()) - set(cgm_OvrNight_Aut['Date_Time'].dt.date.unique())"
   ]
  },
  {
   "cell_type": "code",
   "execution_count": 142,
   "metadata": {},
   "outputs": [
    {
     "data": {
      "text/plain": [
       "Timestamp('2017-08-09 08:07:13')"
      ]
     },
     "execution_count": 142,
     "metadata": {},
     "output_type": "execute_result"
    }
   ],
   "source": [
    "autoOnDateTime"
   ]
  },
  {
   "cell_type": "code",
   "execution_count": 147,
   "metadata": {},
   "outputs": [
    {
     "name": "stdout",
     "output_type": "stream",
     "text": [
      "Len Overnight Manual: 936\n",
      "Len Daytime Manual: 2615\n",
      "Len Overnight Auto: 10865\n",
      "Len Daytime Auto: 32730\n",
      "Total: 47146\n"
     ]
    }
   ],
   "source": [
    "print(\"Len Overnight Manual: \" + str(len(cgm_OvrNight_Man)))\n",
    "print(\"Len Daytime Manual: \" + str(len(cgm_DayTime_Man)))\n",
    "print(\"Len Overnight Auto: \" + str(len(cgm_OvrNight_Aut)))\n",
    "print(\"Len Daytime Auto: \" + str(len(cgm_DayTime_Aut)))\n",
    "print(\"Total: \"+str(len(cgm_OvrNight_Man)+len(cgm_DayTime_Man)+len(cgm_OvrNight_Aut)+len(cgm_DayTime_Aut)))\n",
    "# checking if all the rows are extracted\n",
    "if ( (len(cgm_OvrNight_Man)+len(cgm_DayTime_Man) != len(cgm_WholeDay_Man)) or\n",
    "     (len(cgm_OvrNight_Aut)+len(cgm_DayTime_Aut) != len(cgm_WholeDay_Aut)) ):\n",
    "    print(\"ERROR: The length of extracted subsegments of data DP NOT mactch.\")"
   ]
  },
  {
   "cell_type": "markdown",
   "metadata": {},
   "source": [
    "STEP 7: use groupby and count on overnight, daytime and whole day segments\n",
    "(Work on Each metric one-by-one through a loop)"
   ]
  },
  {
   "cell_type": "code",
   "execution_count": 164,
   "metadata": {},
   "outputs": [
    {
     "data": {
      "text/plain": [
       "Date_Time\n",
       "2017-07-26    19.791667\n",
       "2017-07-27     0.000000\n",
       "2017-07-28    21.875000\n",
       "2017-07-29     6.597222\n",
       "2017-07-30    11.111111\n",
       "2017-07-31     0.000000\n",
       "2017-08-01     9.027778\n",
       "2017-08-02    22.222222\n",
       "2017-08-03     0.000000\n",
       "2017-08-04    22.222222\n",
       "2017-08-05     0.000000\n",
       "2017-08-06    18.750000\n",
       "2017-08-07    21.180556\n",
       "2017-08-08    18.055556\n",
       "2017-08-09    11.111111\n",
       "Freq: D, Name: HGC_R2, dtype: float64"
      ]
     },
     "execution_count": 164,
     "metadata": {},
     "output_type": "execute_result"
    }
   ],
   "source": [
    "cgm_OvrNight_Man.groupby(pd.Grouper(key='Date_Time', freq='1D'))[HGC_Ranges[3]].apply(lambda x: ((sum(x)/288)*100) )"
   ]
  },
  {
   "cell_type": "code",
   "execution_count": 148,
   "metadata": {},
   "outputs": [],
   "source": [
    "# list variables to store manual and auto values\n",
    "# the value at index 0 is OVERNIGHT HGC (CGM > 170)\n",
    "#              index 1 is OVERNIGHT HGC_C (CGM > 250)\n",
    "#              index 2 is OVERNIGHT HGC_R1 (CGM between 70 and 180 inclusive)\n",
    "#              index 3 is OVERNIGHT HGC_R2 (CGM between 70 and 150 inclusive)\n",
    "#              index 4 is OVERNIGHT HGC_L1 (CGM < 70)\n",
    "#              index 5 is OVERNIGHT HGC_L2 (CGM < 54)\n",
    "# indices 6 to 11 are same ranges but for DAYTIME\n",
    "# indices 12 to 17 are same ranges but for WHOLE DAY\n",
    "man_hgc_vals = []\n",
    "aut_hgc_vals = []\n",
    "\n",
    "# inserting OVERNIGHT values\n",
    "for hgc_type in HGC_Ranges:\n",
    "    # MANUAL\n",
    "    ovrNight_Man_Perc = cgm_OvrNight_Man.groupby(pd.Grouper(key='Date_Time', freq='1D'))[hgc_type].apply(lambda x: ((sum(x)/288)*100) if len(x)>0 else np.nan )\n",
    "    # average over all valid days\n",
    "    ovrNight_Man_Avg = np.mean(ovrNight_Man_Perc.dropna())\n",
    "    #print(\"MANUAL OVERNIGHT \"+hgc_type+\" = \"+str(ovrNight_Man_Avg))\n",
    "    # add to the list\n",
    "    man_hgc_vals.append(ovrNight_Man_Avg)\n",
    "    \n",
    "    # AUTO\n",
    "    ovrNight_Aut_Perc = cgm_OvrNight_Aut.groupby(pd.Grouper(key='Date_Time', freq='1D'))[hgc_type].apply(lambda x: ((sum(x)/288)*100) if len(x)>0 else np.nan )\n",
    "    # average over all valid days\n",
    "    ovrNight_Aut_Avg = np.mean(ovrNight_Aut_Perc.dropna())\n",
    "    #print(\"AUTO OVERNIGHT \"+hgc_type+\" = \"+str(ovrNight_Aut_Avg))\n",
    "    # add to the list\n",
    "    aut_hgc_vals.append(ovrNight_Aut_Avg)\n",
    "    \n",
    "# inserting DAYTIME values\n",
    "for hgc_type in HGC_Ranges:\n",
    "    # MANUAL\n",
    "    dayTime_Man_Perc = cgm_DayTime_Man.groupby(pd.Grouper(key='Date_Time', freq='1D'))[hgc_type].apply(lambda x: ((sum(x)/288)*100) if len(x)>0 else np.nan )\n",
    "    # average over all valid days\n",
    "    dayTime_Man_Avg = np.mean(dayTime_Man_Perc.dropna())\n",
    "    #print(\"MANUAL DAYTIME \"+hgc_type+\" = \"+str(dayTime_Man_Avg))\n",
    "    # add to the list\n",
    "    man_hgc_vals.append(dayTime_Man_Avg)\n",
    "    \n",
    "    # AUTO\n",
    "    dayTime_Aut_Perc = cgm_DayTime_Aut.groupby(pd.Grouper(key='Date_Time', freq='1D'))[hgc_type].apply(lambda x: ((sum(x)/288)*100) if len(x)>0 else np.nan )\n",
    "    # average over all valid days\n",
    "    dayTime_Aut_Avg = np.mean(dayTime_Aut_Perc.dropna())\n",
    "    #print(\"AUTO DAYTIME \"+hgc_type+\" = \"+str(dayTime_Aut_Avg))\n",
    "    # add to the list\n",
    "    aut_hgc_vals.append(dayTime_Aut_Avg)\n",
    "    \n",
    "# inserting WHOLE DAY values\n",
    "for hgc_type in HGC_Ranges:\n",
    "    # MANUAL\n",
    "    wholeDay_Man_Perc = cgm_WholeDay_Man.groupby(pd.Grouper(key='Date_Time', freq='1D'))[hgc_type].apply(lambda x: ((sum(x)/288)*100) if len(x)>0 else np.nan )\n",
    "    # average over all valid days\n",
    "    wholeDay_Man_Avg = np.mean(wholeDay_Man_Perc.dropna())\n",
    "    #print(\"MANUAL WHOLE DAY \"+hgc_type+\" = \"+str(wholeDay_Man_Avg))\n",
    "    # add to the list\n",
    "    man_hgc_vals.append(wholeDay_Man_Avg)\n",
    "    \n",
    "    # AUTO\n",
    "    wholeDay_Aut_Perc = cgm_WholeDay_Aut.groupby(pd.Grouper(key='Date_Time', freq='1D'))[hgc_type].apply(lambda x: ((sum(x)/288)*100) if len(x)>0 else np.nan )\n",
    "    # average over all valid days\n",
    "    wholeDay_Aut_Avg = np.mean(wholeDay_Aut_Perc.dropna())\n",
    "    #print(\"AUTO WHOLE DAY \"+hgc_type+\" = \"+str(wholeDay_Aut_Avg))\n",
    "    # add to the list\n",
    "    aut_hgc_vals.append(wholeDay_Aut_Avg)"
   ]
  },
  {
   "cell_type": "code",
   "execution_count": 149,
   "metadata": {},
   "outputs": [],
   "source": [
    "#print(\"MANUAL MODE VALUES: \")\n",
    "#print(man_hgc_vals)\n",
    "#print(\"AUTO MODE VALUES: \")\n",
    "#print(aut_hgc_vals)"
   ]
  },
  {
   "cell_type": "markdown",
   "metadata": {},
   "source": [
    "STEP 8: convert results into 2x18 matrix and create Results.csv file for it"
   ]
  },
  {
   "cell_type": "code",
   "execution_count": 150,
   "metadata": {},
   "outputs": [],
   "source": [
    "# create a 2x18 matrix from the two lists\n",
    "results_matrix = np.row_stack((man_hgc_vals, aut_hgc_vals))"
   ]
  },
  {
   "cell_type": "code",
   "execution_count": 151,
   "metadata": {},
   "outputs": [],
   "source": [
    "# create a CSV file of the results\n",
    "np.savetxt('Results.csv', results_matrix, delimiter=',')"
   ]
  },
  {
   "cell_type": "code",
   "execution_count": 152,
   "metadata": {},
   "outputs": [
    {
     "data": {
      "text/plain": [
       "array([[ 4.6474359 ,  0.77457265, 18.48290598, 13.9957265 ,  0.77457265,\n",
       "         0.        , 24.70619658,  8.76068376, 39.1025641 , 30.42200855,\n",
       "         3.47222222,  1.5758547 , 29.35363248,  9.53525641, 57.58547009,\n",
       "        44.41773504,  4.24679487,  1.5758547 ],\n",
       "       [ 2.77777778,  0.42540471, 20.63097866, 17.93598234,  0.62086093,\n",
       "         0.15636497, 20.78993056,  5.05071272, 47.5717288 , 35.54915936,\n",
       "         3.57501827,  1.08506944, 23.54943348,  5.47331871, 68.06697734,\n",
       "        53.36714181,  4.19179459,  1.2404057 ]])"
      ]
     },
     "execution_count": 152,
     "metadata": {},
     "output_type": "execute_result"
    }
   ],
   "source": [
    "results_matrix"
   ]
  },
  {
   "cell_type": "code",
   "execution_count": null,
   "metadata": {},
   "outputs": [],
   "source": []
  }
 ],
 "metadata": {
  "kernelspec": {
   "display_name": "Python 3",
   "language": "python",
   "name": "python3"
  },
  "language_info": {
   "codemirror_mode": {
    "name": "ipython",
    "version": 3
   },
   "file_extension": ".py",
   "mimetype": "text/x-python",
   "name": "python",
   "nbconvert_exporter": "python",
   "pygments_lexer": "ipython3",
   "version": "3.8.3"
  }
 },
 "nbformat": 4,
 "nbformat_minor": 4
}
